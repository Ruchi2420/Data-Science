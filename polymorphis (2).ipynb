{
 "cells": [
  {
   "cell_type": "markdown",
   "id": "a296e74e-fc64-4a52-bd9c-13fccb7f3dba",
   "metadata": {},
   "source": [
    "# polymorphism"
   ]
  },
  {
   "cell_type": "code",
   "execution_count": null,
   "id": "553c64cb-e5c6-4188-b26e-da69f51419f3",
   "metadata": {},
   "outputs": [],
   "source": [
    "def test(a,b):\n",
    "    return a+b"
   ]
  },
  {
   "cell_type": "code",
   "execution_count": 2,
   "id": "53f4f158-58d5-4a44-a7cf-9a3ad27f3a5b",
   "metadata": {},
   "outputs": [
    {
     "data": {
      "text/plain": [
       "9"
      ]
     },
     "execution_count": 2,
     "metadata": {},
     "output_type": "execute_result"
    }
   ],
   "source": [
    "test(4,5)"
   ]
  },
  {
   "cell_type": "code",
   "execution_count": 3,
   "id": "f82ff29c-b74b-4f29-a467-12597a3b1d32",
   "metadata": {},
   "outputs": [
    {
     "data": {
      "text/plain": [
       "'sudhkumar'"
      ]
     },
     "execution_count": 3,
     "metadata": {},
     "output_type": "execute_result"
    }
   ],
   "source": [
    "test(\"sudh\",\"kumar\")"
   ]
  },
  {
   "cell_type": "code",
   "execution_count": 4,
   "id": "bea6217f-c0fa-4843-9c62-2b6f48082ad8",
   "metadata": {},
   "outputs": [
    {
     "data": {
      "text/plain": [
       "[1, 2, 3, 4, 5, 6, 7, 8]"
      ]
     },
     "execution_count": 4,
     "metadata": {},
     "output_type": "execute_result"
    }
   ],
   "source": [
    "test([1,2,3,4],[5,6,7,8])"
   ]
  },
  {
   "cell_type": "code",
   "execution_count": null,
   "id": "4d298482-6a3e-47ba-9329-9db4b6f30b98",
   "metadata": {},
   "outputs": [],
   "source": [
    "class data_science:\n",
    "    def syllabus(self):\n",
    "        print(\"This is a data science. \")"
   ]
  },
  {
   "cell_type": "code",
   "execution_count": 3,
   "id": "9a3cbcfc-baa7-4b80-a79e-4e0d0edf542e",
   "metadata": {},
   "outputs": [],
   "source": [
    "class web_dev:\n",
    "    def syllabus(self):\n",
    "        print(\"This is a syllabus of web dev. \")"
   ]
  },
  {
   "cell_type": "code",
   "execution_count": 4,
   "id": "24dfc224-75a2-408c-b9df-f23e545c661e",
   "metadata": {},
   "outputs": [],
   "source": [
    "def class_parcer(class_obj ):\n",
    "    for i in class_obj:\n",
    "        i.syllabus()\n",
    "        "
   ]
  },
  {
   "cell_type": "code",
   "execution_count": null,
   "id": "37b9196e-5c0a-425c-8934-020b8aa4f0de",
   "metadata": {},
   "outputs": [],
   "source": [
    "obj_data_science = data_science()"
   ]
  },
  {
   "cell_type": "code",
   "execution_count": null,
   "id": "c083b548-f2ac-44ff-b317-e8e49ec0d14e",
   "metadata": {},
   "outputs": [],
   "source": [
    "obj_web_dev =  web_dev()"
   ]
  },
  {
   "cell_type": "code",
   "execution_count": null,
   "id": "0dd594f8-f7cb-4ede-ae90-1ab681b15581",
   "metadata": {},
   "outputs": [],
   "source": [
    "class_obj = [obj_data_science,obj_web_dev]"
   ]
  },
  {
   "cell_type": "code",
   "execution_count": 18,
   "id": "2921da3f-4675-4904-95dc-a1e1bb5f44e5",
   "metadata": {},
   "outputs": [],
   "source": [
    "class_obj = [obj_data_science,obj_web_dev] "
   ]
  },
  {
   "cell_type": "code",
   "execution_count": 19,
   "id": "77a72512-0aac-4f32-9118-b81f0eec8e95",
   "metadata": {},
   "outputs": [
    {
     "name": "stdout",
     "output_type": "stream",
     "text": [
      "This is the a syllabus of data science.\n",
      "This is the a syllabus of web dev.\n"
     ]
    }
   ],
   "source": [
    "class_parcer(class_obj)"
   ]
  },
  {
   "cell_type": "markdown",
   "id": "982d0346-8fb0-45e3-8421-0c6a79783bf3",
   "metadata": {},
   "source": [
    "# Encapsulation"
   ]
  },
  {
   "cell_type": "code",
   "execution_count": 1,
   "id": "46fe9d4f-4fa0-48b5-a9fd-fc3ebc6d1481",
   "metadata": {},
   "outputs": [],
   "source": [
    "class number :\n",
    "    def __init__(self, a, b):\n",
    "        self.a = a\n",
    "        self.b = b"
   ]
  },
  {
   "cell_type": "code",
   "execution_count": 3,
   "id": "30270ff9-6d3c-462e-8f6d-f7b64e09628b",
   "metadata": {},
   "outputs": [],
   "source": [
    "num = number(45,56)"
   ]
  },
  {
   "cell_type": "code",
   "execution_count": 4,
   "id": "977fec5b-2575-459e-9346-040d5add588c",
   "metadata": {},
   "outputs": [
    {
     "data": {
      "text/plain": [
       "45"
      ]
     },
     "execution_count": 4,
     "metadata": {},
     "output_type": "execute_result"
    }
   ],
   "source": [
    "num.a"
   ]
  },
  {
   "cell_type": "code",
   "execution_count": 5,
   "id": "f6e5c06b-fbe9-40e8-a566-3a48fae9633b",
   "metadata": {},
   "outputs": [
    {
     "data": {
      "text/plain": [
       "56"
      ]
     },
     "execution_count": 5,
     "metadata": {},
     "output_type": "execute_result"
    }
   ],
   "source": [
    "num.b"
   ]
  },
  {
   "cell_type": "code",
   "execution_count": 6,
   "id": "4a6bc3d6-c9ee-45b0-8a20-2aee5e607a95",
   "metadata": {},
   "outputs": [],
   "source": [
    "num.a = 234"
   ]
  },
  {
   "cell_type": "code",
   "execution_count": 7,
   "id": "07786800-8431-4eeb-9ebd-7f0d3b5d7402",
   "metadata": {},
   "outputs": [
    {
     "data": {
      "text/plain": [
       "234"
      ]
     },
     "execution_count": 7,
     "metadata": {},
     "output_type": "execute_result"
    }
   ],
   "source": [
    "num.a"
   ]
  },
  {
   "cell_type": "code",
   "execution_count": 13,
   "id": "c3d2c56a-2bbb-4f21-a228-4bb6ae957b59",
   "metadata": {},
   "outputs": [],
   "source": [
    "class car:\n",
    "    \n",
    "    def __init__(self, year, make, model, speed):\n",
    "        self.__year = year\n",
    "        self.__make = make\n",
    "        self.__model = model\n",
    "        self.__speed = 0"
   ]
  },
  {
   "cell_type": "code",
   "execution_count": 31,
   "id": "3897f3d2-a104-4c46-80d5-18e941f4a731",
   "metadata": {},
   "outputs": [],
   "source": [
    "obj_car = car(2023, \"toyata\", \"inova\",12)"
   ]
  },
  {
   "cell_type": "markdown",
   "id": "83141e0f-095e-4f3d-984c-29f027b42f89",
   "metadata": {},
   "source": [
    "### accessing and asign is not possible"
   ]
  },
  {
   "cell_type": "code",
   "execution_count": 17,
   "id": "2343db31-84e4-460c-aff5-96f29786c460",
   "metadata": {},
   "outputs": [
    {
     "ename": "AttributeError",
     "evalue": "'car' object has no attribute '__year'",
     "output_type": "error",
     "traceback": [
      "\u001b[0;31m---------------------------------------------------------------------------\u001b[0m",
      "\u001b[0;31mAttributeError\u001b[0m                            Traceback (most recent call last)",
      "Cell \u001b[0;32mIn[17], line 1\u001b[0m\n\u001b[0;32m----> 1\u001b[0m \u001b[43mobj_car\u001b[49m\u001b[38;5;241;43m.\u001b[39;49m\u001b[43m__year\u001b[49m\n",
      "\u001b[0;31mAttributeError\u001b[0m: 'car' object has no attribute '__year'"
     ]
    }
   ],
   "source": [
    "obj_car.__year"
   ]
  },
  {
   "cell_type": "markdown",
   "id": "ef736e01-a384-4460-9a11-277af784ef0c",
   "metadata": {},
   "source": [
    "## assign and accessing the variable is possible by knowing class and variable name"
   ]
  },
  {
   "cell_type": "code",
   "execution_count": 19,
   "id": "10f2d5d2-d9b4-4066-9deb-19badb68bbaa",
   "metadata": {},
   "outputs": [
    {
     "data": {
      "text/plain": [
       "2023"
      ]
     },
     "execution_count": 19,
     "metadata": {},
     "output_type": "execute_result"
    }
   ],
   "source": [
    "obj_car._car__year"
   ]
  },
  {
   "cell_type": "code",
   "execution_count": 20,
   "id": "d7685928-468d-481e-845d-cc7e4a37ea7b",
   "metadata": {},
   "outputs": [],
   "source": [
    "obj_car._car__year = 2022"
   ]
  },
  {
   "cell_type": "code",
   "execution_count": 21,
   "id": "37201a9d-7df1-4c90-89a9-c69c38458ee1",
   "metadata": {},
   "outputs": [
    {
     "data": {
      "text/plain": [
       "2022"
      ]
     },
     "execution_count": 21,
     "metadata": {},
     "output_type": "execute_result"
    }
   ],
   "source": [
    "obj_car._car__year"
   ]
  },
  {
   "cell_type": "code",
   "execution_count": 30,
   "id": "f72ec4c9-2e89-46eb-8172-e659e9a3efed",
   "metadata": {},
   "outputs": [],
   "source": [
    "class car:\n",
    "    \n",
    "    def __init__(self, year, make, model, speed):\n",
    "        self.__year = year\n",
    "        self.__make = make\n",
    "        self.__model = model\n",
    "        self.__speed = 0\n",
    "        \n",
    "    def set_speed(self , speed):\n",
    "        self.__speed = 0 if speed < 0 else speed\n",
    "    def get_speed(self):\n",
    "           return self.__speed"
   ]
  },
  {
   "cell_type": "code",
   "execution_count": 32,
   "id": "a1bdbace-cbdf-44d7-abe8-522be88cb0ab",
   "metadata": {},
   "outputs": [
    {
     "data": {
      "text/plain": [
       "0"
      ]
     },
     "execution_count": 32,
     "metadata": {},
     "output_type": "execute_result"
    }
   ],
   "source": [
    "obj_car.get_speed()"
   ]
  },
  {
   "cell_type": "code",
   "execution_count": 33,
   "id": "975b6712-6111-4c33-a759-c84ee4270193",
   "metadata": {},
   "outputs": [],
   "source": [
    "obj_car.set_speed(234)"
   ]
  },
  {
   "cell_type": "code",
   "execution_count": 34,
   "id": "ac2fdbc7-cb11-46f7-a47d-f82b735bb379",
   "metadata": {},
   "outputs": [
    {
     "data": {
      "text/plain": [
       "234"
      ]
     },
     "execution_count": 34,
     "metadata": {},
     "output_type": "execute_result"
    }
   ],
   "source": [
    "obj_car._car__speed"
   ]
  },
  {
   "cell_type": "code",
   "execution_count": 2,
   "id": "8a507a73-4302-4212-b9a1-48325c8e2f40",
   "metadata": {},
   "outputs": [],
   "source": [
    "class bank_account:\n",
    "    def __init__(self , balance):\n",
    "        self.__balance = balance\n",
    "    def deposit(self , amount) :\n",
    "        self.__balance = self.__balance + amount\n",
    "    def withdraw(self , amount):\n",
    "        if self.__balance >= amount :\n",
    "            self.__balance = self.__balance -amount\n",
    "            return True\n",
    "        else:\n",
    "            return False\n",
    "    def get_balance(self) :\n",
    "        return self.__balance"
   ]
  },
  {
   "cell_type": "code",
   "execution_count": 4,
   "id": "28f0c929-b30d-4c6a-a127-5b0320edd189",
   "metadata": {},
   "outputs": [],
   "source": [
    "obj_bank_account = bank_account(1000)"
   ]
  },
  {
   "cell_type": "code",
   "execution_count": 5,
   "id": "9cf66d8a-d271-43be-b850-4c7616af683e",
   "metadata": {},
   "outputs": [
    {
     "data": {
      "text/plain": [
       "1000"
      ]
     },
     "execution_count": 5,
     "metadata": {},
     "output_type": "execute_result"
    }
   ],
   "source": [
    "obj_bank_account.get_balance()"
   ]
  },
  {
   "cell_type": "code",
   "execution_count": 6,
   "id": "78d1f34a-7e3a-4e8a-a11a-7d04e40022d9",
   "metadata": {},
   "outputs": [],
   "source": [
    "obj_bank_account.deposit(7000)"
   ]
  },
  {
   "cell_type": "code",
   "execution_count": 8,
   "id": "9df8c528-6bb7-4d63-b468-f7d6264ffa5f",
   "metadata": {},
   "outputs": [
    {
     "data": {
      "text/plain": [
       "8000"
      ]
     },
     "execution_count": 8,
     "metadata": {},
     "output_type": "execute_result"
    }
   ],
   "source": [
    "obj_bank_account.get_balance()"
   ]
  },
  {
   "cell_type": "code",
   "execution_count": 9,
   "id": "b9d09fa6-d328-4d35-ace7-30373fbcabd6",
   "metadata": {},
   "outputs": [
    {
     "data": {
      "text/plain": [
       "False"
      ]
     },
     "execution_count": 9,
     "metadata": {},
     "output_type": "execute_result"
    }
   ],
   "source": [
    "obj_bank_account.withdraw(9000)"
   ]
  },
  {
   "cell_type": "code",
   "execution_count": 10,
   "id": "569545ef-c502-42ae-85c4-8fec686f62a6",
   "metadata": {},
   "outputs": [
    {
     "data": {
      "text/plain": [
       "True"
      ]
     },
     "execution_count": 10,
     "metadata": {},
     "output_type": "execute_result"
    }
   ],
   "source": [
    "obj_bank_account.withdraw(2000)"
   ]
  },
  {
   "cell_type": "code",
   "execution_count": 11,
   "id": "54ee3dc5-f53a-40e8-8e88-875c6a83fab1",
   "metadata": {},
   "outputs": [
    {
     "data": {
      "text/plain": [
       "6000"
      ]
     },
     "execution_count": 11,
     "metadata": {},
     "output_type": "execute_result"
    }
   ],
   "source": [
    "obj_bank_account.get_balance()"
   ]
  },
  {
   "cell_type": "markdown",
   "id": "7486c7ee-414f-4341-b106-1b300b29b7ed",
   "metadata": {},
   "source": [
    "## Inheritance"
   ]
  },
  {
   "cell_type": "code",
   "execution_count": 12,
   "id": "6d652f98-7f93-496e-80d3-8854f8aafb92",
   "metadata": {},
   "outputs": [],
   "source": [
    "class parent:\n",
    "    \n",
    "    def test_parent(self):\n",
    "        print(\"this is my parent class\")"
   ]
  },
  {
   "cell_type": "code",
   "execution_count": 13,
   "id": "7f3b547c-c406-4b2b-9ec2-eb1609c12d4a",
   "metadata": {},
   "outputs": [],
   "source": [
    "class child(parent):\n",
    "    pass"
   ]
  },
  {
   "cell_type": "code",
   "execution_count": 14,
   "id": "39d813d7-3af4-457d-99f4-29b9e3099431",
   "metadata": {},
   "outputs": [],
   "source": [
    "child_obj = child()"
   ]
  },
  {
   "cell_type": "code",
   "execution_count": 17,
   "id": "d79e5579-5f53-4286-b012-86bdfba915cd",
   "metadata": {},
   "outputs": [
    {
     "name": "stdout",
     "output_type": "stream",
     "text": [
      "this is my parent class\n"
     ]
    }
   ],
   "source": [
    "child_obj.test_parent()"
   ]
  },
  {
   "cell_type": "code",
   "execution_count": 18,
   "id": "0c3e4580-ce5b-40d8-ac6d-561f1592ec9b",
   "metadata": {},
   "outputs": [],
   "source": [
    "class class1 :\n",
    "    def test_class1(self) :\n",
    "        print(\"this is my class1\")"
   ]
  },
  {
   "cell_type": "code",
   "execution_count": 24,
   "id": "e54ad50b-ab38-4f5b-af0f-f6d342b5ebb8",
   "metadata": {},
   "outputs": [],
   "source": [
    "class class2(class1):\n",
    "    def test_class2(self) :\n",
    "        print(\"this is my class2\")\n",
    "    "
   ]
  },
  {
   "cell_type": "code",
   "execution_count": 25,
   "id": "9479a6e1-3dcf-47b6-a176-d77c562ecc90",
   "metadata": {},
   "outputs": [],
   "source": [
    "class class3(class2):\n",
    "    def test_class3(self) :\n",
    "        print(\"this is my class3\")"
   ]
  },
  {
   "cell_type": "code",
   "execution_count": 26,
   "id": "0f6668fb-d0b2-4187-b617-fa98e2165570",
   "metadata": {},
   "outputs": [],
   "source": [
    "obj_class3 = class3()"
   ]
  },
  {
   "cell_type": "code",
   "execution_count": 27,
   "id": "72cd65e9-fd58-4eda-b62c-a72cb405f43c",
   "metadata": {},
   "outputs": [
    {
     "name": "stdout",
     "output_type": "stream",
     "text": [
      "this is my class1\n"
     ]
    }
   ],
   "source": [
    "obj_class3.test_class1()"
   ]
  },
  {
   "cell_type": "code",
   "execution_count": 28,
   "id": "4b706368-5a24-4dc3-9915-a8a9a71606cc",
   "metadata": {},
   "outputs": [
    {
     "name": "stdout",
     "output_type": "stream",
     "text": [
      "this is my class2\n"
     ]
    }
   ],
   "source": [
    "obj_class3.test_class2()"
   ]
  },
  {
   "cell_type": "code",
   "execution_count": 29,
   "id": "357579fd-4fd8-444b-b909-dc27f8443ae2",
   "metadata": {},
   "outputs": [
    {
     "name": "stdout",
     "output_type": "stream",
     "text": [
      "this is my class3\n"
     ]
    }
   ],
   "source": [
    "obj_class3.test_class3()"
   ]
  },
  {
   "cell_type": "code",
   "execution_count": 30,
   "id": "42b40ef9-7e76-49e0-88d2-fade7b191a8f",
   "metadata": {},
   "outputs": [],
   "source": [
    "class class1:\n",
    "    def test_class1(self):\n",
    "        print(\"this is my class 1\")"
   ]
  },
  {
   "cell_type": "code",
   "execution_count": 31,
   "id": "a250e817-f244-4798-be60-62773370ce72",
   "metadata": {},
   "outputs": [],
   "source": [
    "class class2:\n",
    "    def test_class2(self):\n",
    "        print(\"this is my class 2\")"
   ]
  },
  {
   "cell_type": "code",
   "execution_count": 32,
   "id": "eebf4c06-d66a-43ab-9b4e-0fd32fb16be9",
   "metadata": {},
   "outputs": [],
   "source": [
    "class class3(class1 , class2):\n",
    "    pass\n",
    "    "
   ]
  },
  {
   "cell_type": "code",
   "execution_count": 33,
   "id": "22f8331c-e26c-4ef8-87b7-5e410b9b0979",
   "metadata": {},
   "outputs": [],
   "source": [
    "obj_class3 = class3()"
   ]
  },
  {
   "cell_type": "code",
   "execution_count": 34,
   "id": "dd0f0629-a080-48d2-b475-7f03c12f293a",
   "metadata": {},
   "outputs": [
    {
     "name": "stdout",
     "output_type": "stream",
     "text": [
      "this is my class 1\n"
     ]
    }
   ],
   "source": [
    "obj_class3.test_class1()"
   ]
  },
  {
   "cell_type": "code",
   "execution_count": 36,
   "id": "c26b184e-bec3-48de-82aa-4bf1a959284c",
   "metadata": {},
   "outputs": [
    {
     "name": "stdout",
     "output_type": "stream",
     "text": [
      "this is my class 2\n"
     ]
    }
   ],
   "source": [
    "obj_class3.test_class2()"
   ]
  },
  {
   "cell_type": "markdown",
   "id": "10d33fd0-36a3-4ab9-add1-46b70e02f8bf",
   "metadata": {},
   "source": [
    "## Abstract class"
   ]
  },
  {
   "cell_type": "code",
   "execution_count": 39,
   "id": "f125a76e-e361-4afe-a99a-8ec48de5a3b0",
   "metadata": {},
   "outputs": [],
   "source": [
    "import abc\n",
    "class pwskills :\n",
    "    @abc.abstractmethod\n",
    "    def student_details(self):\n",
    "        pass\n",
    "    @abc.abstractmethod\n",
    "    def student_assignment(self):\n",
    "        pass\n",
    "    @abc.abstractmethod\n",
    "    def student_marks(self):\n",
    "        pass"
   ]
  },
  {
   "cell_type": "code",
   "execution_count": 42,
   "id": "edec9edc-e422-47c6-ac01-fdc9eb00a6f2",
   "metadata": {},
   "outputs": [],
   "source": [
    "class data_science(pwskills):\n",
    "    def student_details(self):\n",
    "        return \"it will try to return a details of data science masters\"\n",
    "    def student_assignment(self):\n",
    "        return \"it will try to return a details of student assignmenet for data science masters\"\n",
    "    def student_marks(self):\n",
    "        return \"it will try to return a details of marks of  data science masters\"\n",
    "    "
   ]
  },
  {
   "cell_type": "code",
   "execution_count": 43,
   "id": "d817b6d8-a1c6-437e-a368-659a3bf336ef",
   "metadata": {},
   "outputs": [],
   "source": [
    "class web_dev(pwskills):\n",
    "    def student_details(self):\n",
    "        return \"it will try to return a details of web dev\"\n",
    "    def student_assignment(self):\n",
    "        return \"it will try to return a details of student assignmenet for data web dev\"\n",
    "    def student_marks(self):\n",
    "        return \"it will try to return a details of marks of data web dev\""
   ]
  },
  {
   "cell_type": "code",
   "execution_count": 44,
   "id": "e38180e9-b03c-4232-ba1b-36ad9b56ce99",
   "metadata": {},
   "outputs": [
    {
     "data": {
      "text/plain": [
       "'it will try to return a details of data science masters'"
      ]
     },
     "execution_count": 44,
     "metadata": {},
     "output_type": "execute_result"
    }
   ],
   "source": [
    "ds = data_science()\n",
    "ds.student_details()"
   ]
  },
  {
   "cell_type": "code",
   "execution_count": 45,
   "id": "8d842186-3bbd-4b8d-88eb-9980df576612",
   "metadata": {},
   "outputs": [
    {
     "data": {
      "text/plain": [
       "'it will try to return a details of marks of data web dev'"
      ]
     },
     "execution_count": 45,
     "metadata": {},
     "output_type": "execute_result"
    }
   ],
   "source": [
    "wd = web_dev()\n",
    "wd.student_marks()"
   ]
  },
  {
   "cell_type": "code",
   "execution_count": null,
   "id": "6a2c4821-0cb5-4ae8-b378-554be9ead1d8",
   "metadata": {},
   "outputs": [],
   "source": []
  }
 ],
 "metadata": {
  "kernelspec": {
   "display_name": "Python 3 (ipykernel)",
   "language": "python",
   "name": "python3"
  },
  "language_info": {
   "codemirror_mode": {
    "name": "ipython",
    "version": 3
   },
   "file_extension": ".py",
   "mimetype": "text/x-python",
   "name": "python",
   "nbconvert_exporter": "python",
   "pygments_lexer": "ipython3",
   "version": "3.10.8"
  }
 },
 "nbformat": 4,
 "nbformat_minor": 5
}

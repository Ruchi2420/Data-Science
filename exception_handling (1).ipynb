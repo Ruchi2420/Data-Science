{
 "cells": [
  {
   "cell_type": "code",
   "execution_count": 1,
   "id": "eb8d5257-1d0f-4df4-b37e-30ae2e41a4db",
   "metadata": {},
   "outputs": [
    {
     "ename": "FileNotFoundError",
     "evalue": "[Errno 2] No such file or directory: 'test.txt'",
     "output_type": "error",
     "traceback": [
      "\u001b[0;31m---------------------------------------------------------------------------\u001b[0m",
      "\u001b[0;31mFileNotFoundError\u001b[0m                         Traceback (most recent call last)",
      "Cell \u001b[0;32mIn[1], line 1\u001b[0m\n\u001b[0;32m----> 1\u001b[0m f \u001b[38;5;241m=\u001b[39m \u001b[38;5;28;43mopen\u001b[39;49m\u001b[43m(\u001b[49m\u001b[38;5;124;43m\"\u001b[39;49m\u001b[38;5;124;43mtest.txt\u001b[39;49m\u001b[38;5;124;43m\"\u001b[39;49m\u001b[43m \u001b[49m\u001b[43m,\u001b[49m\u001b[43m \u001b[49m\u001b[38;5;124;43m'\u001b[39;49m\u001b[38;5;124;43mr\u001b[39;49m\u001b[38;5;124;43m'\u001b[39;49m\u001b[43m)\u001b[49m\n",
      "File \u001b[0;32m/opt/conda/lib/python3.10/site-packages/IPython/core/interactiveshell.py:282\u001b[0m, in \u001b[0;36m_modified_open\u001b[0;34m(file, *args, **kwargs)\u001b[0m\n\u001b[1;32m    275\u001b[0m \u001b[38;5;28;01mif\u001b[39;00m file \u001b[38;5;129;01min\u001b[39;00m {\u001b[38;5;241m0\u001b[39m, \u001b[38;5;241m1\u001b[39m, \u001b[38;5;241m2\u001b[39m}:\n\u001b[1;32m    276\u001b[0m     \u001b[38;5;28;01mraise\u001b[39;00m \u001b[38;5;167;01mValueError\u001b[39;00m(\n\u001b[1;32m    277\u001b[0m         \u001b[38;5;124mf\u001b[39m\u001b[38;5;124m\"\u001b[39m\u001b[38;5;124mIPython won\u001b[39m\u001b[38;5;124m'\u001b[39m\u001b[38;5;124mt let you open fd=\u001b[39m\u001b[38;5;132;01m{\u001b[39;00mfile\u001b[38;5;132;01m}\u001b[39;00m\u001b[38;5;124m by default \u001b[39m\u001b[38;5;124m\"\u001b[39m\n\u001b[1;32m    278\u001b[0m         \u001b[38;5;124m\"\u001b[39m\u001b[38;5;124mas it is likely to crash IPython. If you know what you are doing, \u001b[39m\u001b[38;5;124m\"\u001b[39m\n\u001b[1;32m    279\u001b[0m         \u001b[38;5;124m\"\u001b[39m\u001b[38;5;124myou can use builtins\u001b[39m\u001b[38;5;124m'\u001b[39m\u001b[38;5;124m open.\u001b[39m\u001b[38;5;124m\"\u001b[39m\n\u001b[1;32m    280\u001b[0m     )\n\u001b[0;32m--> 282\u001b[0m \u001b[38;5;28;01mreturn\u001b[39;00m \u001b[43mio_open\u001b[49m\u001b[43m(\u001b[49m\u001b[43mfile\u001b[49m\u001b[43m,\u001b[49m\u001b[43m \u001b[49m\u001b[38;5;241;43m*\u001b[39;49m\u001b[43margs\u001b[49m\u001b[43m,\u001b[49m\u001b[43m \u001b[49m\u001b[38;5;241;43m*\u001b[39;49m\u001b[38;5;241;43m*\u001b[39;49m\u001b[43mkwargs\u001b[49m\u001b[43m)\u001b[49m\n",
      "\u001b[0;31mFileNotFoundError\u001b[0m: [Errno 2] No such file or directory: 'test.txt'"
     ]
    }
   ],
   "source": [
    "f = open(\"test.txt\" , 'r')"
   ]
  },
  {
   "cell_type": "code",
   "execution_count": 5,
   "id": "77a8e808-40af-40d2-ad18-a04422bc29ba",
   "metadata": {},
   "outputs": [
    {
     "name": "stdout",
     "output_type": "stream",
     "text": [
      "there is some issue with my code  [Errno 2] No such file or directory: 'test.txt'\n",
      "this is my print\n"
     ]
    }
   ],
   "source": [
    "try:\n",
    "    f = open(\"test.txt\" , 'r')\n",
    "except Exception as e:\n",
    "    print(\"there is some issue with my code \",e)\n",
    "print(\"this is my print\")\n",
    "a = 10\n"
   ]
  },
  {
   "cell_type": "code",
   "execution_count": 1,
   "id": "803e7a67-2caf-4182-9b3d-ed716fac613a",
   "metadata": {},
   "outputs": [
    {
     "name": "stdout",
     "output_type": "stream",
     "text": [
      "This block will execute try will execute itself without an exception \n"
     ]
    }
   ],
   "source": [
    "try:\n",
    "    f = open(\"test.txt\" , 'w')\n",
    "    f.write(\"this is  my msg.\")\n",
    "except Exception as e:\n",
    "    print(\"there is some issue with my code \",e)\n",
    "else :\n",
    "        f.close()\n",
    "        print(\"This block will execute try will execute itself without an exception \")"
   ]
  },
  {
   "cell_type": "code",
   "execution_count": 2,
   "id": "e78657cc-39b8-4593-bbb3-844fb3f8d05c",
   "metadata": {},
   "outputs": [
    {
     "name": "stdout",
     "output_type": "stream",
     "text": [
      "there is some issue with my code  [Errno 2] No such file or directory: 'test1.txt'\n"
     ]
    }
   ],
   "source": [
    "try:\n",
    "    f = open(\"test1.txt\" , 'r')\n",
    "    f.write(\"this is  my msg.\")\n",
    "except Exception as e:\n",
    "    print(\"there is some issue with my code \",e)\n",
    "else :\n",
    "        f.close()\n",
    "        print(\"This block will execute try will execute itself without an exception \")"
   ]
  },
  {
   "cell_type": "code",
   "execution_count": 3,
   "id": "7bb225d4-dcf2-4308-a8f6-519816b1dab6",
   "metadata": {},
   "outputs": [
    {
     "name": "stdout",
     "output_type": "stream",
     "text": [
      "This will always execute\n"
     ]
    },
    {
     "ename": "FileNotFoundError",
     "evalue": "[Errno 2] No such file or directory: 'test1.txt'",
     "output_type": "error",
     "traceback": [
      "\u001b[0;31m---------------------------------------------------------------------------\u001b[0m",
      "\u001b[0;31mFileNotFoundError\u001b[0m                         Traceback (most recent call last)",
      "Cell \u001b[0;32mIn[3], line 2\u001b[0m\n\u001b[1;32m      1\u001b[0m \u001b[38;5;28;01mtry\u001b[39;00m:\n\u001b[0;32m----> 2\u001b[0m     f \u001b[38;5;241m=\u001b[39m \u001b[38;5;28;43mopen\u001b[39;49m\u001b[43m(\u001b[49m\u001b[38;5;124;43m\"\u001b[39;49m\u001b[38;5;124;43mtest1.txt\u001b[39;49m\u001b[38;5;124;43m\"\u001b[39;49m\u001b[43m \u001b[49m\u001b[43m,\u001b[49m\u001b[43m \u001b[49m\u001b[38;5;124;43m'\u001b[39;49m\u001b[38;5;124;43mr\u001b[39;49m\u001b[38;5;124;43m'\u001b[39;49m\u001b[43m)\u001b[49m\n\u001b[1;32m      3\u001b[0m     f\u001b[38;5;241m.\u001b[39mwrite(\u001b[38;5;124m\"\u001b[39m\u001b[38;5;124mthis is  my msg.\u001b[39m\u001b[38;5;124m\"\u001b[39m)\n\u001b[1;32m      4\u001b[0m \u001b[38;5;28;01mfinally\u001b[39;00m :\n",
      "File \u001b[0;32m/opt/conda/lib/python3.10/site-packages/IPython/core/interactiveshell.py:282\u001b[0m, in \u001b[0;36m_modified_open\u001b[0;34m(file, *args, **kwargs)\u001b[0m\n\u001b[1;32m    275\u001b[0m \u001b[38;5;28;01mif\u001b[39;00m file \u001b[38;5;129;01min\u001b[39;00m {\u001b[38;5;241m0\u001b[39m, \u001b[38;5;241m1\u001b[39m, \u001b[38;5;241m2\u001b[39m}:\n\u001b[1;32m    276\u001b[0m     \u001b[38;5;28;01mraise\u001b[39;00m \u001b[38;5;167;01mValueError\u001b[39;00m(\n\u001b[1;32m    277\u001b[0m         \u001b[38;5;124mf\u001b[39m\u001b[38;5;124m\"\u001b[39m\u001b[38;5;124mIPython won\u001b[39m\u001b[38;5;124m'\u001b[39m\u001b[38;5;124mt let you open fd=\u001b[39m\u001b[38;5;132;01m{\u001b[39;00mfile\u001b[38;5;132;01m}\u001b[39;00m\u001b[38;5;124m by default \u001b[39m\u001b[38;5;124m\"\u001b[39m\n\u001b[1;32m    278\u001b[0m         \u001b[38;5;124m\"\u001b[39m\u001b[38;5;124mas it is likely to crash IPython. If you know what you are doing, \u001b[39m\u001b[38;5;124m\"\u001b[39m\n\u001b[1;32m    279\u001b[0m         \u001b[38;5;124m\"\u001b[39m\u001b[38;5;124myou can use builtins\u001b[39m\u001b[38;5;124m'\u001b[39m\u001b[38;5;124m open.\u001b[39m\u001b[38;5;124m\"\u001b[39m\n\u001b[1;32m    280\u001b[0m     )\n\u001b[0;32m--> 282\u001b[0m \u001b[38;5;28;01mreturn\u001b[39;00m \u001b[43mio_open\u001b[49m\u001b[43m(\u001b[49m\u001b[43mfile\u001b[49m\u001b[43m,\u001b[49m\u001b[43m \u001b[49m\u001b[38;5;241;43m*\u001b[39;49m\u001b[43margs\u001b[49m\u001b[43m,\u001b[49m\u001b[43m \u001b[49m\u001b[38;5;241;43m*\u001b[39;49m\u001b[38;5;241;43m*\u001b[39;49m\u001b[43mkwargs\u001b[49m\u001b[43m)\u001b[49m\n",
      "\u001b[0;31mFileNotFoundError\u001b[0m: [Errno 2] No such file or directory: 'test1.txt'"
     ]
    }
   ],
   "source": [
    "try:\n",
    "    f = open(\"test1.txt\" , 'r')\n",
    "    f.write(\"this is  my msg.\")\n",
    "finally :\n",
    "    print(\"This will always execute\") # finally block try to execute it self"
   ]
  },
  {
   "cell_type": "code",
   "execution_count": 5,
   "id": "456a8b05-364c-4de7-b119-3eaf7c6e2322",
   "metadata": {},
   "outputs": [
    {
     "name": "stdout",
     "output_type": "stream",
     "text": [
      "there is some issue with my code  [Errno 2] No such file or directory: 'test1.txt'\n",
      "i will execute always\n"
     ]
    }
   ],
   "source": [
    "try:\n",
    "    f = open(\"test1.txt\" , 'r')\n",
    "    f.write(\"this is  my msg.\")\n",
    "except Exception as e:\n",
    "    print(\"there is some issue with my code \",e)\n",
    "else :\n",
    "        f.close()\n",
    "        print(\"This block will execute try will execute itself without an exception \")\n",
    "\n",
    "finally :\n",
    "    print(\"i will execute always\")"
   ]
  },
  {
   "cell_type": "code",
   "execution_count": 8,
   "id": "7032debd-227a-4e29-bd75-b97647236da3",
   "metadata": {},
   "outputs": [
    {
     "name": "stdout",
     "output_type": "stream",
     "text": [
      "This block will execute try will execute itself without an exception \n",
      "i will execute always\n"
     ]
    }
   ],
   "source": [
    "try:\n",
    "    f = open(\"test.txt\" , 'w')\n",
    "    f.write(\"this is  my msg.\")\n",
    "except Exception as e:\n",
    "    print(\"there is some issue with my code \",e)\n",
    "else :\n",
    "        f.close()\n",
    "        print(\"This block will execute try will execute itself without an exception \")\n",
    "finally :\n",
    "    print(\"i will execute always\")"
   ]
  },
  {
   "cell_type": "markdown",
   "id": "e770d0af-918e-4539-a00a-88ec54a85df8",
   "metadata": {},
   "source": [
    "## custom Exception Handling\n",
    "### exception for system not for me in this case we do custom Exception Handling"
   ]
  },
  {
   "cell_type": "code",
   "execution_count": null,
   "id": "ab75b703-1bcf-4fe5-85d1-473b5629f170",
   "metadata": {},
   "outputs": [],
   "source": [
    "age = int(input(\"enter your age\"))"
   ]
  },
  {
   "cell_type": "code",
   "execution_count": null,
   "id": "33e550fc-a65e-4401-be61-4180cd05509d",
   "metadata": {},
   "outputs": [],
   "source": [
    "### my own exception"
   ]
  },
  {
   "cell_type": "code",
   "execution_count": null,
   "id": "e568e367-e0f0-48d4-af93-54765453b6ac",
   "metadata": {},
   "outputs": [],
   "source": [
    "class validateage(Exception) :\n",
    "    def __init__(self, msg) :\n",
    "        self.msg = msg"
   ]
  },
  {
   "cell_type": "code",
   "execution_count": null,
   "id": "23d03b8a-ad27-48d9-90c5-22cffc4e8bc5",
   "metadata": {},
   "outputs": [],
   "source": [
    "def valiodate_age(age):\n",
    "    if age < 0 :\n",
    "        raise  validateage(\"age should not be lesser then zero.\")\n",
    "    elif age > 200:\n",
    "        raise  validateage(\"age is too high.\")\n",
    "    else :\n",
    "        print(\"age is valid \")"
   ]
  }
 ],
 "metadata": {
  "kernelspec": {
   "display_name": "Python 3 (ipykernel)",
   "language": "python",
   "name": "python3"
  },
  "language_info": {
   "codemirror_mode": {
    "name": "ipython",
    "version": 3
   },
   "file_extension": ".py",
   "mimetype": "text/x-python",
   "name": "python",
   "nbconvert_exporter": "python",
   "pygments_lexer": "ipython3",
   "version": "3.10.8"
  }
 },
 "nbformat": 4,
 "nbformat_minor": 5
}

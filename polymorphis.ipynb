{
 "cells": [
  {
   "cell_type": "code",
   "execution_count": 1,
   "id": "4966a6c6-ace6-4215-9d1a-18d5f1c4a77b",
   "metadata": {},
   "outputs": [],
   "source": [
    "def test(a,b):\n",
    "    return a+b"
   ]
  },
  {
   "cell_type": "code",
   "execution_count": 2,
   "id": "53f4f158-58d5-4a44-a7cf-9a3ad27f3a5b",
   "metadata": {},
   "outputs": [
    {
     "data": {
      "text/plain": [
       "9"
      ]
     },
     "execution_count": 2,
     "metadata": {},
     "output_type": "execute_result"
    }
   ],
   "source": [
    "test(4,5)"
   ]
  },
  {
   "cell_type": "code",
   "execution_count": 3,
   "id": "f82ff29c-b74b-4f29-a467-12597a3b1d32",
   "metadata": {},
   "outputs": [
    {
     "data": {
      "text/plain": [
       "'sudhkumar'"
      ]
     },
     "execution_count": 3,
     "metadata": {},
     "output_type": "execute_result"
    }
   ],
   "source": [
    "test(\"sudh\",\"kumar\")"
   ]
  },
  {
   "cell_type": "code",
   "execution_count": 4,
   "id": "bea6217f-c0fa-4843-9c62-2b6f48082ad8",
   "metadata": {},
   "outputs": [
    {
     "data": {
      "text/plain": [
       "[1, 2, 3, 4, 5, 6, 7, 8]"
      ]
     },
     "execution_count": 4,
     "metadata": {},
     "output_type": "execute_result"
    }
   ],
   "source": [
    "test([1,2,3,4],[5,6,7,8])"
   ]
  },
  {
   "cell_type": "code",
   "execution_count": null,
   "id": "4d298482-6a3e-47ba-9329-9db4b6f30b98",
   "metadata": {},
   "outputs": [],
   "source": [
    "class data_science:\n",
    "    def syllabus(self):\n",
    "        print(\"This is a data science. \")"
   ]
  },
  {
   "cell_type": "code",
   "execution_count": 3,
   "id": "9a3cbcfc-baa7-4b80-a79e-4e0d0edf542e",
   "metadata": {},
   "outputs": [],
   "source": [
    "class web_dev:\n",
    "    def syllabus(self):\n",
    "        print(\"This is a syllabus of web dev. \")"
   ]
  },
  {
   "cell_type": "code",
   "execution_count": 4,
   "id": "24dfc224-75a2-408c-b9df-f23e545c661e",
   "metadata": {},
   "outputs": [],
   "source": [
    "def class_parcer(class_obj ):\n",
    "    for i in class_obj:\n",
    "        i.syllabus()\n",
    "        "
   ]
  },
  {
   "cell_type": "code",
   "execution_count": null,
   "id": "37b9196e-5c0a-425c-8934-020b8aa4f0de",
   "metadata": {},
   "outputs": [],
   "source": [
    "obj_data_science = data_science()"
   ]
  },
  {
   "cell_type": "code",
   "execution_count": null,
   "id": "c083b548-f2ac-44ff-b317-e8e49ec0d14e",
   "metadata": {},
   "outputs": [],
   "source": [
    "obj_web_dev =  web_dev()"
   ]
  },
  {
   "cell_type": "code",
   "execution_count": null,
   "id": "0dd594f8-f7cb-4ede-ae90-1ab681b15581",
   "metadata": {},
   "outputs": [],
   "source": [
    "class_obj = [obj_data_science,obj_web_dev]"
   ]
  },
  {
   "cell_type": "code",
   "execution_count": 18,
   "id": "2921da3f-4675-4904-95dc-a1e1bb5f44e5",
   "metadata": {},
   "outputs": [],
   "source": [
    "class_obj = [obj_data_science,obj_web_dev] "
   ]
  },
  {
   "cell_type": "code",
   "execution_count": 19,
   "id": "77a72512-0aac-4f32-9118-b81f0eec8e95",
   "metadata": {},
   "outputs": [
    {
     "name": "stdout",
     "output_type": "stream",
     "text": [
      "This is the a syllabus of data science.\n",
      "This is the a syllabus of web dev.\n"
     ]
    }
   ],
   "source": [
    "class_parcer(class_obj)"
   ]
  },
  {
   "cell_type": "code",
   "execution_count": null,
   "id": "5f2bd28e-1e6f-463c-97e6-c45c5d33e857",
   "metadata": {},
   "outputs": [],
   "source": []
  }
 ],
 "metadata": {
  "kernelspec": {
   "display_name": "Python 3 (ipykernel)",
   "language": "python",
   "name": "python3"
  },
  "language_info": {
   "codemirror_mode": {
    "name": "ipython",
    "version": 3
   },
   "file_extension": ".py",
   "mimetype": "text/x-python",
   "name": "python",
   "nbconvert_exporter": "python",
   "pygments_lexer": "ipython3",
   "version": "3.10.8"
  }
 },
 "nbformat": 4,
 "nbformat_minor": 5
}

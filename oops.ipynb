{
 "cells": [
  {
   "cell_type": "code",
   "execution_count": 6,
   "id": "e5abe6fa-27f6-4dec-a0a2-395d19aaafc3",
   "metadata": {},
   "outputs": [],
   "source": [
    "a = 1"
   ]
  },
  {
   "cell_type": "code",
   "execution_count": 8,
   "id": "c6fcd143-2c6b-45af-b693-d035391fa6a7",
   "metadata": {},
   "outputs": [
    {
     "name": "stdout",
     "output_type": "stream",
     "text": [
      "<class 'int'>\n"
     ]
    }
   ],
   "source": [
    "print(type(a))"
   ]
  },
  {
   "cell_type": "code",
   "execution_count": 9,
   "id": "741dc678-5445-4d07-8971-ac6d3b144f9a",
   "metadata": {},
   "outputs": [
    {
     "name": "stdout",
     "output_type": "stream",
     "text": [
      "<class 'str'>\n"
     ]
    }
   ],
   "source": [
    "print(type(\"PwSkills\"))"
   ]
  },
  {
   "cell_type": "code",
   "execution_count": 10,
   "id": "413d1b4f-abd0-479f-9914-aadac27e864f",
   "metadata": {},
   "outputs": [],
   "source": [
    "class test:\n",
    "    pass"
   ]
  },
  {
   "cell_type": "code",
   "execution_count": 11,
   "id": "bafdedc1-3efb-4aa9-a91b-a615dfa13c7c",
   "metadata": {},
   "outputs": [],
   "source": [
    "a = test()"
   ]
  },
  {
   "cell_type": "code",
   "execution_count": 12,
   "id": "6b055869-90ad-4d8f-8d52-16aa05a22d65",
   "metadata": {},
   "outputs": [
    {
     "name": "stdout",
     "output_type": "stream",
     "text": [
      "<class '__main__.test'>\n"
     ]
    }
   ],
   "source": [
    "print(type(a))"
   ]
  },
  {
   "cell_type": "code",
   "execution_count": 22,
   "id": "bb50c5be-12b2-41e2-a127-301eb9402243",
   "metadata": {},
   "outputs": [],
   "source": [
    "class PwSkills:\n",
    "    def welcome_msg(self):\n",
    "        print(\"welcome to pwskills\")"
   ]
  },
  {
   "cell_type": "code",
   "execution_count": 14,
   "id": "5a72c753-0532-4113-981c-cb51787c6c8a",
   "metadata": {},
   "outputs": [],
   "source": [
    "Ruchi = PwSkills()"
   ]
  },
  {
   "cell_type": "code",
   "execution_count": 18,
   "id": "2530f322-deca-4105-b89e-e7b3da88803b",
   "metadata": {},
   "outputs": [
    {
     "name": "stdout",
     "output_type": "stream",
     "text": [
      "welcome to pwskills\n"
     ]
    }
   ],
   "source": [
    "Ruchi.welcome_msg()"
   ]
  },
  {
   "cell_type": "code",
   "execution_count": 23,
   "id": "2daa79dd-8eef-4799-bfdf-bd549b4bac12",
   "metadata": {},
   "outputs": [],
   "source": [
    "hitesh = PwSkills()"
   ]
  },
  {
   "cell_type": "code",
   "execution_count": 24,
   "id": "146c8d85-da88-4d13-8988-413f7b185ac5",
   "metadata": {},
   "outputs": [
    {
     "name": "stdout",
     "output_type": "stream",
     "text": [
      "welcome to pwskills\n"
     ]
    }
   ],
   "source": [
    "hitesh.welcome_msg()"
   ]
  },
  {
   "cell_type": "code",
   "execution_count": 34,
   "id": "56366768-0d68-40a9-92d7-9fc764bbdc4a",
   "metadata": {},
   "outputs": [],
   "source": [
    "class pwskills1:\n",
    "    def __init__(self,phone_number, email_id, student_id):\n",
    "        self.phone_number = phone_number\n",
    "        self.email_id = email_id\n",
    "        self.student_id = student_id\n",
    "        \n",
    "    def return_student_details(self):\n",
    "        return self.phone_number, self.email_id, self.student_id\n",
    "    \n",
    "    "
   ]
  },
  {
   "cell_type": "code",
   "execution_count": 35,
   "id": "9e615885-f786-4a2a-8703-1bf45a9b902e",
   "metadata": {},
   "outputs": [],
   "source": [
    "sohan = pwskills1(9920288520,\"Sohan@gmail.com\", 2130322)"
   ]
  },
  {
   "cell_type": "code",
   "execution_count": 36,
   "id": "211af81f-2986-4cf0-b8e8-d4b570c1a165",
   "metadata": {},
   "outputs": [
    {
     "data": {
      "text/plain": [
       "9920288520"
      ]
     },
     "execution_count": 36,
     "metadata": {},
     "output_type": "execute_result"
    }
   ],
   "source": [
    "sohan.phone_number"
   ]
  },
  {
   "cell_type": "code",
   "execution_count": 37,
   "id": "f6d6d8ab-9e57-44a8-b605-113e21a1dcab",
   "metadata": {},
   "outputs": [
    {
     "data": {
      "text/plain": [
       "'Sohan@gmail.com'"
      ]
     },
     "execution_count": 37,
     "metadata": {},
     "output_type": "execute_result"
    }
   ],
   "source": [
    "sohan.email_id"
   ]
  },
  {
   "cell_type": "code",
   "execution_count": 38,
   "id": "77207523-845b-43ed-8597-5e3620bda3ad",
   "metadata": {},
   "outputs": [
    {
     "data": {
      "text/plain": [
       "2130322"
      ]
     },
     "execution_count": 38,
     "metadata": {},
     "output_type": "execute_result"
    }
   ],
   "source": [
    "sohan.student_id"
   ]
  },
  {
   "cell_type": "code",
   "execution_count": 27,
   "id": "60a6af0f-4ca9-4827-a8f8-80b53efea70e",
   "metadata": {},
   "outputs": [],
   "source": [
    "Ruchi = pwskills1(892028888,\"ruchi@gmail.com\", 2130111)"
   ]
  },
  {
   "cell_type": "code",
   "execution_count": 29,
   "id": "fbe66aa2-9253-47e4-94fe-287e5e206710",
   "metadata": {},
   "outputs": [
    {
     "data": {
      "text/plain": [
       "892028888"
      ]
     },
     "execution_count": 29,
     "metadata": {},
     "output_type": "execute_result"
    }
   ],
   "source": [
    "Ruchi.phone_number   # outside the class we access data with the help of object of the class"
   ]
  },
  {
   "cell_type": "code",
   "execution_count": 30,
   "id": "e8fdcdd1-86cc-4be0-b18b-3e8cbbc15894",
   "metadata": {},
   "outputs": [
    {
     "data": {
      "text/plain": [
       "'ruchi@gmail.com'"
      ]
     },
     "execution_count": 30,
     "metadata": {},
     "output_type": "execute_result"
    }
   ],
   "source": [
    "Ruchi.email_id"
   ]
  },
  {
   "cell_type": "code",
   "execution_count": 31,
   "id": "460be2fc-b626-462f-8c32-a2984e336d58",
   "metadata": {},
   "outputs": [
    {
     "data": {
      "text/plain": [
       "2130111"
      ]
     },
     "execution_count": 31,
     "metadata": {},
     "output_type": "execute_result"
    }
   ],
   "source": [
    "Ruchi.student_id"
   ]
  },
  {
   "cell_type": "code",
   "execution_count": 33,
   "id": "ebf9228d-79b7-4b4c-9072-8d4cf872c495",
   "metadata": {},
   "outputs": [
    {
     "data": {
      "text/plain": [
       "(892028888, 'ruchi@gmail.com', 2130111)"
      ]
     },
     "execution_count": 33,
     "metadata": {},
     "output_type": "execute_result"
    }
   ],
   "source": [
    "Ruchi.return_student_details()    "
   ]
  },
  {
   "cell_type": "code",
   "execution_count": 52,
   "id": "d2d22dc4-c43d-4791-88f9-6d63bbfc638d",
   "metadata": {},
   "outputs": [],
   "source": [
    "class pwskills3:\n",
    "    def __init__(hitesh,phone_number, email_id, student_id):      \n",
    "        hitesh.phone_number = phone_number\n",
    "        hitesh.email_id = email_id\n",
    "        hitesh.student_id = student_id                            \n",
    "        \n",
    "    def return_student_details(hitesh):\n",
    "        return hitesh.phone_number, hitesh.email_id, hitesh.student_id\n",
    "    # at the place of self you can take anything as a reference like above for reference we have taken hitesh for passing the data"
   ]
  },
  {
   "cell_type": "code",
   "execution_count": 53,
   "id": "aa1abe34-bc15-42b3-98a0-9d1e16b719c9",
   "metadata": {},
   "outputs": [],
   "source": [
    "Himu = pwskills3(7792028888, 'himu@gmail.com', 2130114)"
   ]
  },
  {
   "cell_type": "code",
   "execution_count": 54,
   "id": "a84d1095-f222-45f0-a5ed-bcffb706e64f",
   "metadata": {},
   "outputs": [
    {
     "data": {
      "text/plain": [
       "7792028888"
      ]
     },
     "execution_count": 54,
     "metadata": {},
     "output_type": "execute_result"
    }
   ],
   "source": [
    "Himu.phone_number"
   ]
  },
  {
   "cell_type": "code",
   "execution_count": 56,
   "id": "1e4ce843-0f6a-4891-aba1-fb57b9e3dc15",
   "metadata": {},
   "outputs": [
    {
     "data": {
      "text/plain": [
       "(7792028888, 'himu@gmail.com', 2130114)"
      ]
     },
     "execution_count": 56,
     "metadata": {},
     "output_type": "execute_result"
    }
   ],
   "source": [
    "Himu.return_student_details()"
   ]
  },
  {
   "cell_type": "code",
   "execution_count": null,
   "id": "ed836ea2-2c13-4e8a-9643-4d5ea2196e2a",
   "metadata": {},
   "outputs": [],
   "source": []
  }
 ],
 "metadata": {
  "kernelspec": {
   "display_name": "Python 3 (ipykernel)",
   "language": "python",
   "name": "python3"
  },
  "language_info": {
   "codemirror_mode": {
    "name": "ipython",
    "version": 3
   },
   "file_extension": ".py",
   "mimetype": "text/x-python",
   "name": "python",
   "nbconvert_exporter": "python",
   "pygments_lexer": "ipython3",
   "version": "3.10.8"
  }
 },
 "nbformat": 4,
 "nbformat_minor": 5
}

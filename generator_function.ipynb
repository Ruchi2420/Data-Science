{
 "cells": [
  {
   "cell_type": "code",
   "execution_count": 6,
   "id": "c01bff97-8fae-4578-8dd1-5e014d299a7a",
   "metadata": {},
   "outputs": [
    {
     "data": {
      "text/plain": [
       "range(1, 10)"
      ]
     },
     "execution_count": 6,
     "metadata": {},
     "output_type": "execute_result"
    }
   ],
   "source": [
    "range(1,10)"
   ]
  },
  {
   "cell_type": "code",
   "execution_count": 8,
   "id": "81d4be4d-eb38-47fa-a330-1671aba5dced",
   "metadata": {},
   "outputs": [
    {
     "name": "stdout",
     "output_type": "stream",
     "text": [
      "1\n",
      "2\n",
      "3\n",
      "4\n",
      "5\n",
      "6\n",
      "7\n",
      "8\n",
      "9\n"
     ]
    }
   ],
   "source": [
    "for i in range(1,10):\n",
    "    print(i)"
   ]
  },
  {
   "cell_type": "code",
   "execution_count": 16,
   "id": "bab55c19-788c-44cd-a7d0-da3c45376b40",
   "metadata": {},
   "outputs": [],
   "source": [
    "l = [1, 2, 3,4,5,6,7,8, \"Ruhi\"]"
   ]
  },
  {
   "cell_type": "code",
   "execution_count": 26,
   "id": "f43ac373-6624-4d61-8e88-3a3040749a7d",
   "metadata": {},
   "outputs": [],
   "source": [
    "def test(a) :\n",
    "    n = []\n",
    "    for i in a :\n",
    "        if type (i) == int :\n",
    "            n.append(i)\n",
    "    return n"
   ]
  },
  {
   "cell_type": "code",
   "execution_count": 27,
   "id": "118ffec0-db2e-4e33-9cb2-d3ad78c19a82",
   "metadata": {},
   "outputs": [
    {
     "data": {
      "text/plain": [
       "[1, 2, 3, 4, 5, 6, 7, 8]"
      ]
     },
     "execution_count": 27,
     "metadata": {},
     "output_type": "execute_result"
    }
   ],
   "source": [
    "test(l)"
   ]
  },
  {
   "cell_type": "code",
   "execution_count": 28,
   "id": "fb097c87-e733-471e-8f73-42ebf0626928",
   "metadata": {},
   "outputs": [],
   "source": [
    "def test_fabi(n) :\n",
    "    a , b =0,1\n",
    "    for i in range(n):\n",
    "        yield a\n",
    "        a,b = b, a+b # here a = b, b = a+b\n",
    "        \n",
    "        "
   ]
  },
  {
   "cell_type": "code",
   "execution_count": 30,
   "id": "80c57f53-6e35-4ded-9aec-e210a130e805",
   "metadata": {},
   "outputs": [
    {
     "data": {
      "text/plain": [
       "<generator object test_fabi at 0x7f948de9e0a0>"
      ]
     },
     "execution_count": 30,
     "metadata": {},
     "output_type": "execute_result"
    }
   ],
   "source": [
    "test_fabi(10)"
   ]
  },
  {
   "cell_type": "code",
   "execution_count": 32,
   "id": "6c94b391-1c90-47f2-a758-1e9462936b24",
   "metadata": {},
   "outputs": [
    {
     "name": "stdout",
     "output_type": "stream",
     "text": [
      "0\n",
      "1\n",
      "1\n",
      "2\n",
      "3\n",
      "5\n",
      "8\n",
      "13\n",
      "21\n",
      "34\n"
     ]
    }
   ],
   "source": [
    "for i in test_fabi(10):\n",
    "    print(i)"
   ]
  },
  {
   "cell_type": "code",
   "execution_count": null,
   "id": "564659da-a329-414f-95d5-247958523d56",
   "metadata": {},
   "outputs": [],
   "source": []
  }
 ],
 "metadata": {
  "kernelspec": {
   "display_name": "Python 3 (ipykernel)",
   "language": "python",
   "name": "python3"
  },
  "language_info": {
   "codemirror_mode": {
    "name": "ipython",
    "version": 3
   },
   "file_extension": ".py",
   "mimetype": "text/x-python",
   "name": "python",
   "nbconvert_exporter": "python",
   "pygments_lexer": "ipython3",
   "version": "3.10.8"
  }
 },
 "nbformat": 4,
 "nbformat_minor": 5
}

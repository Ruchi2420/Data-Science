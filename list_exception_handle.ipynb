{
 "cells": [
  {
   "cell_type": "code",
   "execution_count": 1,
   "id": "20fa2228-98bd-43d1-b4f1-0cfb6e016fee",
   "metadata": {},
   "outputs": [
    {
     "name": "stdout",
     "output_type": "stream",
     "text": [
      "division by zero\n"
     ]
    }
   ],
   "source": [
    "try :\n",
    "    a = 10\n",
    "    10/0\n",
    "except ZeroDivisionError as e :\n",
    "    print(e)"
   ]
  },
  {
   "cell_type": "code",
   "execution_count": 4,
   "id": "7293bd53-2e14-4344-93e1-8fa7c878e5ce",
   "metadata": {},
   "outputs": [
    {
     "name": "stdout",
     "output_type": "stream",
     "text": [
      "invalid literal for int() with base 10: 'sudh'\n"
     ]
    }
   ],
   "source": [
    "try :\n",
    "    int(\"sudh\")\n",
    "except (ValueError , TypeError) as e :\n",
    "    print(e)"
   ]
  },
  {
   "cell_type": "code",
   "execution_count": 5,
   "id": "1e402375-1360-470f-b830-853ee5d916f6",
   "metadata": {},
   "outputs": [
    {
     "name": "stdout",
     "output_type": "stream",
     "text": [
      "This will catch an error.\n"
     ]
    }
   ],
   "source": [
    "try :\n",
    "    int(\"sudh\")\n",
    "except :\n",
    "    print(\"This will catch an error.\")"
   ]
  },
  {
   "cell_type": "code",
   "execution_count": 6,
   "id": "85f23a50-6f40-44dd-ac0b-639bb56f647f",
   "metadata": {},
   "outputs": [
    {
     "name": "stdout",
     "output_type": "stream",
     "text": [
      "No module named 'sudh'\n"
     ]
    }
   ],
   "source": [
    "try :\n",
    "    import sudh\n",
    "except ImportError as e :\n",
    "    print(e)"
   ]
  },
  {
   "cell_type": "code",
   "execution_count": 12,
   "id": "a41ae0df-16f4-461d-b3f6-56916433b2de",
   "metadata": {},
   "outputs": [
    {
     "name": "stdout",
     "output_type": "stream",
     "text": [
      "'key10'\n"
     ]
    }
   ],
   "source": [
    "try:\n",
    "    d = {1: [3,4,5,6] , \"key\" : \"sudh\"}\n",
    "    d[\"key10\"]\n",
    "except KeyError as e:\n",
    "    print(e)"
   ]
  },
  {
   "cell_type": "code",
   "execution_count": 14,
   "id": "e12a4774-f7ff-4220-92a9-65dd3d96e19e",
   "metadata": {},
   "outputs": [
    {
     "name": "stdout",
     "output_type": "stream",
     "text": [
      "'str' object has no attribute 'test'\n"
     ]
    }
   ],
   "source": [
    "try :\n",
    "    \"sudh\".test()\n",
    "except AttributeError as e :\n",
    "    print(e)"
   ]
  },
  {
   "cell_type": "code",
   "execution_count": 15,
   "id": "652c8edf-beed-40a3-b167-f02283fe41b6",
   "metadata": {},
   "outputs": [
    {
     "name": "stdout",
     "output_type": "stream",
     "text": [
      "list index out of range\n"
     ]
    }
   ],
   "source": [
    "try :\n",
    "    l = [1,2,34,5]\n",
    "    l[10]\n",
    "except IndexError as e :\n",
    "    print(e)"
   ]
  },
  {
   "cell_type": "code",
   "execution_count": 16,
   "id": "7afe7118-8eaa-4b3c-8c31-c66b6dbaf82f",
   "metadata": {},
   "outputs": [
    {
     "name": "stdout",
     "output_type": "stream",
     "text": [
      "unsupported operand type(s) for +: 'int' and 'str'\n"
     ]
    }
   ],
   "source": [
    "try :\n",
    "    123 + \"sudh\"\n",
    "except TypeError as e :\n",
    "    print(e)"
   ]
  },
  {
   "cell_type": "code",
   "execution_count": 18,
   "id": "15c49723-4d56-4896-9b39-815237489d3a",
   "metadata": {},
   "outputs": [
    {
     "name": "stdout",
     "output_type": "stream",
     "text": [
      "[Errno 2] No such file or directory: 'test.txt'\n"
     ]
    }
   ],
   "source": [
    "try :\n",
    "    with open(\"test.txt\" , 'r') as f :\n",
    "        f.read()\n",
    "except FileNotFoundError as e :\n",
    "    print(e)"
   ]
  },
  {
   "cell_type": "code",
   "execution_count": 20,
   "id": "e09ddd82-3f79-42c2-9202-80d218c5c50b",
   "metadata": {},
   "outputs": [
    {
     "name": "stdout",
     "output_type": "stream",
     "text": [
      "test [Errno 2] No such file or directory: 'test.txt'\n"
     ]
    }
   ],
   "source": [
    "try :\n",
    "    with open(\"test.txt\" , 'r') as f :\n",
    "        f.read()\n",
    "except Exception as e :  ## Exception is a supper class so it is not recommended to use it first place write it at the end. first write specific error then  \n",
    "    print(\"test\" ,e)\n",
    "except FileNotFoundError as e :\n",
    "    print(e)"
   ]
  },
  {
   "cell_type": "code",
   "execution_count": 24,
   "id": "21d12f36-e9de-4bbc-a628-88ae289cfcff",
   "metadata": {},
   "outputs": [],
   "source": [
    "def test(file):\n",
    "    try :\n",
    "        with open(\"test.txt\" , 'r') as f :\n",
    "            f.read()\n",
    "    except Exception as e : \n",
    "        print(\"test\" ,e)\n",
    "    except FileNotFoundError as e :\n",
    "        print(e)"
   ]
  },
  {
   "cell_type": "markdown",
   "id": "d1f2d44e-e28e-4ad9-a6e9-1d648e4ea9f6",
   "metadata": {},
   "source": [
    "## Best pratice of error"
   ]
  },
  {
   "cell_type": "code",
   "execution_count": 28,
   "id": "f6b26ecf-4cc3-4ebe-80a5-d4d9a9439b7b",
   "metadata": {},
   "outputs": [
    {
     "name": "stdout",
     "output_type": "stream",
     "text": [
      "division by zero\n"
     ]
    }
   ],
   "source": [
    "#use always a specific exception\n",
    "try:\n",
    "    10/0\n",
    "except Exception as e :\n",
    "    print(e)"
   ]
  },
  {
   "cell_type": "code",
   "execution_count": 29,
   "id": "47592117-4068-4e8c-ad82-a06eab9c4dc4",
   "metadata": {},
   "outputs": [
    {
     "name": "stdout",
     "output_type": "stream",
     "text": [
      "division by zero\n"
     ]
    }
   ],
   "source": [
    "try:\n",
    "    10/0\n",
    "except ZeroDivisionError as e :\n",
    "    print(e)"
   ]
  },
  {
   "cell_type": "raw",
   "id": "839a7b1c-5fef-4d88-9150-e03ab097ca21",
   "metadata": {},
   "source": [
    "#print always a valid msg:\n",
    "try:\n",
    "    10/0\n",
    "except ZeroDivisionError as e :\n",
    "    print(\"This is my zero division i am handling\" , e)"
   ]
  },
  {
   "cell_type": "code",
   "execution_count": 33,
   "id": "3eb597af-1e12-4502-8794-18d7e06c7be2",
   "metadata": {},
   "outputs": [],
   "source": [
    "#always try to log\n",
    "import logging\n",
    "logging.basicConfig(filename = \"error.log\" , level = logging.ERROR)\n",
    "try:\n",
    "    10/0\n",
    "except ZeroDivisionError as e :\n",
    "    logging.error(\"this is my zero division error i am handling  {}\".format(e))"
   ]
  },
  {
   "cell_type": "code",
   "execution_count": 36,
   "id": "3c1143e0-1eea-4170-aba3-abd0aec6a5ef",
   "metadata": {},
   "outputs": [],
   "source": [
    "#always avoid to write a multiple exception handling\n",
    "logging.basicConfig(filename = \"error.log\" , level = logging.ERROR)\n",
    "try:\n",
    "    10/0\n",
    "except FileNotFoundError as e :\n",
    "    logging.error(\"This is  my file not found {} \".format(e))\n",
    "except AttributeError as e :\n",
    "    logging.error(\"This is  my attribute error not found {} \".format(e))\n",
    "except ZeroDivisionError as e :\n",
    "    logging.error(\"this is my zero division error i am handling {}\".format(e))"
   ]
  },
  {
   "cell_type": "code",
   "execution_count": null,
   "id": "263c97d4-0699-42c9-b38c-85be3abee223",
   "metadata": {},
   "outputs": [],
   "source": [
    "#prepare a proper documentation"
   ]
  },
  {
   "cell_type": "code",
   "execution_count": 37,
   "id": "ab9096d1-20ad-4b52-8b12-4d6463a2e96f",
   "metadata": {},
   "outputs": [],
   "source": [
    "# cleanup all the resources \n",
    "try :\n",
    "    with open(\"test3.txt\" , 'w') as f :\n",
    "        f.write(\"this is my msg to file \")\n",
    "except FileNotFoundError as e :\n",
    "    logging.error(\"This is  my file not found {} \".format(e))\n",
    "finally :\n",
    "    f.close()"
   ]
  },
  {
   "cell_type": "code",
   "execution_count": 40,
   "id": "b8fd4fbb-e9bc-4dcd-b50c-4b8bdf544d29",
   "metadata": {},
   "outputs": [
    {
     "ename": "SyntaxError",
     "evalue": "Missing parentheses in call to 'print'. Did you mean print(...)? (4269732450.py, line 4)",
     "output_type": "error",
     "traceback": [
      "\u001b[0;36m  Cell \u001b[0;32mIn[40], line 4\u001b[0;36m\u001b[0m\n\u001b[0;31m    (print \"Square=\",R)\u001b[0m\n\u001b[0m     ^\u001b[0m\n\u001b[0;31mSyntaxError\u001b[0m\u001b[0;31m:\u001b[0m Missing parentheses in call to 'print'. Did you mean print(...)?\n"
     ]
    }
   ],
   "source": [
    "X = int(input(\"Enter a Number\")) \n",
    "\n",
    "R = X*X\n",
    "(print \"Square=\",R)\n",
    "\n",
    " "
   ]
  },
  {
   "cell_type": "code",
   "execution_count": null,
   "id": "b0388df2-d099-490c-8b5f-86c474bf4027",
   "metadata": {},
   "outputs": [],
   "source": []
  }
 ],
 "metadata": {
  "kernelspec": {
   "display_name": "Python 3 (ipykernel)",
   "language": "python",
   "name": "python3"
  },
  "language_info": {
   "codemirror_mode": {
    "name": "ipython",
    "version": 3
   },
   "file_extension": ".py",
   "mimetype": "text/x-python",
   "name": "python",
   "nbconvert_exporter": "python",
   "pygments_lexer": "ipython3",
   "version": "3.10.8"
  }
 },
 "nbformat": 4,
 "nbformat_minor": 5
}

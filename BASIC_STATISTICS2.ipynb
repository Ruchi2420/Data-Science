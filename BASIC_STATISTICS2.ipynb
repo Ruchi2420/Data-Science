{
 "cells": [
  {
   "cell_type": "markdown",
   "id": "b5bc9b7b-2907-410a-afd4-645a931fead7",
   "metadata": {},
   "source": [
    "## Q1. What are the three measures of central tendency?\n",
    "### Ans: MEAN,MODE and MEDIAN"
   ]
  },
  {
   "cell_type": "markdown",
   "id": "21599393-6307-4137-9caa-646eee1ff02f",
   "metadata": {},
   "source": [
    "## Q2. What is the difference between the mean, median, and mode? How are they used to measure the central tendency  of a dataset?\n",
    "### ANS:Mean, median, and mode are all measures of central tendency, which means they can be used to describe the \"average\" value of a data set. However, they each have their own unique properties and are used in different situations.\n",
    "\n",
    "### Mean is the most common measure of central tendency. It is calculated by adding all of the values in a data set and dividing by the number of values. For example, if a data set has the values 1, 2, 3, 4, and 5, the mean would be 3.\n",
    "### Median is the middle value in a data set that has been sorted from least to greatest. For example, if a data set has the values 1, 2, 3, 4, and 5, the median would be \n",
    "### 3.Mode is the value that appears most often in a data set. For example, if a data set has the values 1, 2, 3, 3, and 5, the mode would be 3.How are they used to measure the central tendency of a dataset?\n",
    "\n",
    "### The mean, median, and mode can all be used to measure the central tendency of a dataset. However, they each have their own strengths and weaknesses.\n",
    "\n",
    "### The mean is the most sensitive to outliers, which are data points that are much larger or smaller than the rest of the data set. This means that the mean can be misleading if a data set contains outliers.\n",
    "### The median is not sensitive to outliers, so it is a more robust measure of central tendency than the mean. However, the median does not take into account all of the values in a data set, so it may not be as accurate as the mean in some cases.\n",
    "### The mode is the least sensitive to outliers and the most sensitive to the number of times each value appears in a data set. This means that the mode is a good measure of central tendency for data sets that are not normally distributed.\n",
    "### In general, the mean is the most commonly used measure of central tendency. However, the median and mode should be considered in some cases, such as when a data set contains outliers or when the data set is not normally distributed.\n",
    "\n",
    "### Here are some examples of when to use the mean, median, and mode:\n",
    "\n",
    "### Mean: The mean is a good measure of central tendency when a data set is normally distributed and does not contain outliers. For example, the mean would be a good measure of central tendency for the heights of a group of adults.\n",
    "### Median: The median is a good measure of central tendency when a data set is not normally distributed or contains outliers. For example, the median would be a good measure of central tendency for the salaries of a group of employees.\n",
    "### Mode: The mode is a good measure of central tendency when a data set is categorical, meaning that it consists of categories rather than numerical values. For example, the mode would be a good measure of central tendency for the colors of cars in a parking lot."
   ]
  },
  {
   "cell_type": "markdown",
   "id": "21b18a33-de36-4f39-86ba-a0b00a243be3",
   "metadata": {},
   "source": [
    "## Q3. Measure the three measures of central tendency for the given height data:\n",
    "[178,177,176,177,178.2,178,175,179,180,175,178.9,176.2,177,172.5,178,176.5]"
   ]
  },
  {
   "cell_type": "code",
   "execution_count": 2,
   "id": "9bf1b5fe-6e9c-4cad-af35-cd477b5d1a11",
   "metadata": {},
   "outputs": [],
   "source": [
    "import pandas as pd\n",
    "import numpy as np\n",
    "from scipy import stats "
   ]
  },
  {
   "cell_type": "code",
   "execution_count": 5,
   "id": "c49af5f7-aacb-44d9-96ae-2c8cb0275fe8",
   "metadata": {},
   "outputs": [
    {
     "data": {
      "text/plain": [
       "177.01875"
      ]
     },
     "execution_count": 5,
     "metadata": {},
     "output_type": "execute_result"
    }
   ],
   "source": [
    "height = [178,177,176,177,178.2,178,175,179,180,175,178.9,176.2,177,172.5,178,176.5]\n",
    "np.mean(height)\n"
   ]
  },
  {
   "cell_type": "code",
   "execution_count": 6,
   "id": "98abf5be-4307-4bf6-8d68-f1c796a10b97",
   "metadata": {},
   "outputs": [
    {
     "data": {
      "text/plain": [
       "177.0"
      ]
     },
     "execution_count": 6,
     "metadata": {},
     "output_type": "execute_result"
    }
   ],
   "source": [
    "np.median(height)\n"
   ]
  },
  {
   "cell_type": "code",
   "execution_count": 7,
   "id": "cfe1ea9b-8f1a-4e5b-9a6c-a1d9c907b89d",
   "metadata": {},
   "outputs": [
    {
     "name": "stderr",
     "output_type": "stream",
     "text": [
      "/tmp/ipykernel_70/1690947930.py:1: FutureWarning: Unlike other reduction functions (e.g. `skew`, `kurtosis`), the default behavior of `mode` typically preserves the axis it acts along. In SciPy 1.11.0, this behavior will change: the default value of `keepdims` will become False, the `axis` over which the statistic is taken will be eliminated, and the value None will no longer be accepted. Set `keepdims` to True or False to avoid this warning.\n",
      "  stats.mode(height)\n"
     ]
    },
    {
     "data": {
      "text/plain": [
       "ModeResult(mode=array([177.]), count=array([3]))"
      ]
     },
     "execution_count": 7,
     "metadata": {},
     "output_type": "execute_result"
    }
   ],
   "source": [
    "stats.mode(height)"
   ]
  },
  {
   "cell_type": "markdown",
   "id": "1ac8ff10-ed5d-47b1-9019-2f01bddd93d1",
   "metadata": {},
   "source": [
    "## Q4. Find the standard deviation for the given data:\n",
    "[178,177,176,177,178.2,178,175,179,180,175,178.9,176.2,177,172.5,178,176.5]"
   ]
  },
  {
   "cell_type": "code",
   "execution_count": 8,
   "id": "a884208b-d1e1-4dbd-ac99-b131a3224c64",
   "metadata": {},
   "outputs": [],
   "source": [
    "heights = [178,177,176,177,178.2,178,175,179,180,175,178.9,176.2,177,172.5,178,176.5]"
   ]
  },
  {
   "cell_type": "code",
   "execution_count": 9,
   "id": "07ca30c4-a4aa-4ff9-886e-eeaea0db80fc",
   "metadata": {},
   "outputs": [
    {
     "data": {
      "text/plain": [
       "1.7885814036548633"
      ]
     },
     "execution_count": 9,
     "metadata": {},
     "output_type": "execute_result"
    }
   ],
   "source": [
    "np.std(heights)"
   ]
  },
  {
   "cell_type": "markdown",
   "id": "ab732992-a3da-401b-87a3-743acc4516e4",
   "metadata": {},
   "source": [
    "## Q5. How are measures of dispersion such as range, variance, and standard deviation used to describe the spread of a dataset? Provide an example."
   ]
  },
  {
   "cell_type": "markdown",
   "id": "be77f317-7beb-4f6d-9907-a2b82b242894",
   "metadata": {},
   "source": [
    "### Ans Measures of dispersion are used to describe the spread of a dataset. They tell us how far apart the data points are from each other, and how much variation there is in the data set.\n",
    "\n",
    "### Range is the simplest measure of dispersion. It is the difference between the largest and smallest values in the data set. For example, if a data set has the values 1, 2, 3, 4, and 5, the range would be 4 (5 - 1).\n",
    "### Variance is a more complex measure of dispersion. It measures the average squared deviation of the data points from the mean. For example, if the mean of the data set in the previous example is 3, the variance would be 1/2 (because (1 - 3)^2 + (2 - 3)^2 + (3 - 3)^2 + (4 - 3)^2 + (5 - 3)^2 = 1).\n",
    "### Standard deviation is the square root of the variance. It is a more interpretable measure of dispersion than the variance, because it is in the same units as the data points. For example, the standard deviation of the data set in the previous example is sqrt(1/2) = 1/sqrt(2).\n",
    "## Example:\n",
    "\n",
    "### Let's say we have a data set of the heights of a group of adults. The mean height is 5 feet 10 inches, and the standard deviation is 2 inches. This means that most of the adults in the data set are within 2 inches of the mean height. However, there are some adults who are taller or shorter than this range, and these are the outliers.\n",
    "\n",
    "### The measures of dispersion can be used to describe the spread of a dataset in a number of ways. For example, we can compare the range of two data sets to see which one has more variation. We can also compare the standard deviations of two data sets to see which one has more spread.\n",
    "\n",
    "### The measures of dispersion can also be used to identify outliers. Outliers are data points that are much larger or smaller than the rest of the data set. They can be caused by errors in data collection or by unusual events. The measures of dispersion can help us to identify outliers so that we can investigate them further."
   ]
  },
  {
   "cell_type": "markdown",
   "id": "019b430d-0a7e-40a9-aacc-772f749ceeda",
   "metadata": {},
   "source": [
    "## Q6. What is a Venn diagram?\n",
    "### ANS A Venn diagram is a diagram that shows the logical relationships between sets."
   ]
  },
  {
   "cell_type": "markdown",
   "id": "e7229b59-8467-4506-896d-1a69d0e64d71",
   "metadata": {},
   "source": [
    "## Q7. For the two given sets A = (2,3,4,5,6,7) & B = (0,2,6,8,10). Find:\n",
    "## (i) A INTERSECTION B\n",
    "## (ii) A ⋃ B\n"
   ]
  },
  {
   "cell_type": "code",
   "execution_count": 8,
   "id": "44f11a83-8653-4251-adce-167544a07a53",
   "metadata": {},
   "outputs": [],
   "source": [
    "A_set = {2,3,4,5,6,7}\n",
    "B_set = {0,2,6,8,10}"
   ]
  },
  {
   "cell_type": "code",
   "execution_count": null,
   "id": "e76652bc-9eff-487b-a0f3-e21aca5bf337",
   "metadata": {},
   "outputs": [],
   "source": [
    "c_set = A_set | B_set\n",
    "print(c_set)"
   ]
  },
  {
   "cell_type": "markdown",
   "id": "4cb7dae6-f8c7-4b99-adf5-444321bdb639",
   "metadata": {},
   "source": [
    "### Ans (i) A INTERSECTION B = {2,6} , (ii) A ⋃ B : {0,2,3,4,5,6,7,8,10}\n"
   ]
  },
  {
   "cell_type": "markdown",
   "id": "448df136-648e-45ab-a4bd-b1735e486e53",
   "metadata": {},
   "source": [
    "## Q8. What do you understand about skewness in data?\n",
    "### ANS: Skewness is a measure of the asymmetry of a distribution. It is a statistical measure of the shape of a distribution. A distribution is said to be skewed if it is not symmetrical.\n",
    "\n"
   ]
  },
  {
   "cell_type": "markdown",
   "id": "6a1daba3-9a73-4df1-8fcb-6e14fb8b74ce",
   "metadata": {},
   "source": [
    "### ANS There are two types of skewness: positive skewness and negative skewness.\n",
    "\n",
    "### Positive skewness occurs when the tail of the distribution is longer on the right side of the mean. This means that there are more data points on the right side of the mean than on the left side.\n",
    "### Negative skewness occurs when the tail of the distribution is longer on the left side of the mean. This means that there are more data points on the left side of the mean than on the right side.\n",
    "\n",
    "### Skewness can be measured using a number of different methods. One common method is to use the skewness coefficient. The skewness coefficient is a number that measures the degree of skewness in a distribution. A skewness coefficient of 0 indicates that the distribution is symmetrical. A skewness coefficient greater than 0 indicates positive skewness, and a skewness coefficient less than 0 indicates negative skewness.\n",
    "\n",
    "### Skewness can be caused by a number of factors, including:\n",
    "\n",
    "### 1.The presence of outliers.\n",
    "### 2.The distribution of the data.\n",
    "### 3.The measurement scale used to collect the data.\n",
    "### Skewness can be important to consider when analyzing data. It can affect the interpretation of statistical tests and the results of data analysis.\n",
    "\n",
    "### Here are some examples of skewness in data:\n",
    "\n",
    "### The distribution of income in a country is often positively skewed. This means that there are a few people who have a lot of money, and many people who have less money.\n",
    "### The distribution of test scores in a class is often negatively skewed. This means that there are a few people who scored very well on the test, and many people who scored lower.\n",
    "### Skewness can be a useful tool for understanding the shape of a distribution and the factors that may have influenced it. However, it is important to remember that skewness is just one measure of the shape of a distribution, and it should not be used in isolation.\n"
   ]
  },
  {
   "cell_type": "markdown",
   "id": "2cf63f87-34cf-4cc1-92f5-48f254c59caf",
   "metadata": {},
   "source": [
    "## Q9. If a data is right skewed then what will be the position of median with respect to mean?\n",
    "### ANS: If the distribution of data is skewed to the right, the mode is often less than the median, which is less than the mean. Mode < Median < Mean (in positively skewed distribution)"
   ]
  },
  {
   "cell_type": "markdown",
   "id": "8e7e68b5-354c-48c5-bba8-e0ae4e949016",
   "metadata": {},
   "source": [
    "### Q10. Explain the difference between covariance and correlation. How are these measures used in statistical analysis?\n",
    "### ANS:Covariance and correlation are both measures used to analyze the relationship between two variables in statistical analysis, but they differ in terms of their interpretation and scale.\n",
    "\n",
    "### Covariance measures the direction and strength of the linear relationship between two variables. It calculates how much two variables vary together from their respective means. A positive covariance indicates that when one variable increases, the other tends to increase as well, while a negative covariance indicates that when one variable increases, the other tends to decrease. However, covariance alone does not provide information about the strength or the degree of the relationship.\n",
    "\n",
    "### On the other hand, correlation measures the strength and direction of the linear relationship between two variables, but it is standardized, meaning it is scaled between -1 and 1. The correlation coefficient, denoted by \"r\", ranges from -1 (perfect negative correlation) to 1 (perfect positive correlation), with 0 indicating no linear correlation. Correlation takes into account the units and scales of the variables, making it easier to compare the strength of relationships between different pairs of variables.\n",
    "\n",
    "### Both covariance and correlation are useful in statistical analysis. Here are some of their applications:\n",
    "\n",
    "#### 1. Covariance: \n",
    "   - Assessing the direction and strength of the relationship between two variables.\n",
    "   - Used in portfolio analysis to measure the relationship between the returns of different assets.\n",
    "   - Helps in understanding the joint variability of variables in multivariate analysis.\n",
    "\n",
    "#### 2. Correlation: \n",
    "   - Determining the strength and direction of the linear relationship between two variables, regardless of the units or scales.\n",
    "   - Used to identify and assess the relationship between variables in regression analysis.\n",
    "   - Helps in understanding the degree of association between variables and making predictions.\n",
    "\n",
    "### It's important to note that while covariance and correlation provide insights into the linear relationship between variables, they do not capture non-linear relationships. Additionally, correlation does not imply causation, meaning that a strong correlation does not necessarily mean one variable is causing the other to change."
   ]
  },
  {
   "cell_type": "markdown",
   "id": "ffd76c39-2161-4a30-9cc6-6d6bb637a270",
   "metadata": {},
   "source": [
    "## Q11. What is the formula for calculating the sample mean? Provide an example calculation for adataset.\n",
    "## ANS :The formula for calculating the sample mean, denoted by x̄ (pronounced \"x-bar\"), is the sum of all the values in the dataset divided by the number of values in the dataset.\n",
    "\n",
    "### Sample Mean (x̄) = (Sum of all values) / (Number of values)\n",
    "\n",
    "### Here's an example calculation:\n",
    "\n",
    "### Suppose we have a dataset of exam scores: 78, 85, 90, 92, 76.\n",
    "\n",
    "### To find the sample mean, we add up all the values and divide by the total number of values:\n",
    "\n",
    "### Sample Mean (x̄) = (78 + 85 + 90 + 92 + 76) / 5\n",
    "\n",
    "### Sample Mean (x̄) = 421 / 5\n",
    "\n",
    "### Sample Mean (x̄) = 84.2\n",
    "\n",
    "### Therefore, the sample mean of this dataset is 84.2."
   ]
  },
  {
   "cell_type": "markdown",
   "id": "0b94d09b-f0ef-4633-9a0f-11723fa30c7e",
   "metadata": {},
   "source": [
    "## Q12. For a normal distribution data what is the relationship between its measure of central tendency?\n",
    "### ANS :n a normal distribution, the mode is equal to the mean and the median. This is because the normal distribution is symmetric, with a peak at the center. Therefore, the most frequent value (mode) coincides with the mean and the median.\n",
    "\n",
    "### To summarize, in a normal distribution:\n",
    "### Mean = Median = Mode"
   ]
  },
  {
   "cell_type": "markdown",
   "id": "3a72e03e-9d6c-4bd4-8820-cd0153818634",
   "metadata": {},
   "source": [
    "## Q13. How is covariance different from correlation?\n",
    "### ANS: Covariance and correlation are both measures used to assess the relationship between two variables, but they differ in terms of their interpretation and scale. Here are the key differences between covariance and correlation:\n",
    "\n",
    "### 1. Interpretation:\n",
    "   - Covariance: Covariance measures the direction and strength of the linear relationship between two variables. It indicates how much the variables vary together from their respective means. However, covariance alone does not provide information about the strength or the degree of the relationship.\n",
    "   - Correlation: Correlation also measures the direction and strength of the linear relationship between two variables, but it is a standardized measure that is scaled between -1 and 1. Correlation takes into account the units and scales of the variables, making it easier to compare the strength of relationships between different pairs of variables. It provides a more precise understanding of the degree of the relationship.\n",
    "\n",
    "### 2. Scale:\n",
    "   - Covariance: Covariance is not scaled and its value is dependent on the units of the variables. Consequently, the magnitude of covariance can vary widely based on the scales of the variables being compared. A positive covariance indicates a positive relationship, a negative covariance indicates a negative relationship, and a covariance of zero indicates no linear relationship.\n",
    "   - Correlation: Correlation is a standardized measure that ranges from -1 to 1. A correlation of 1 represents a perfect positive linear relationship, -1 represents a perfect negative linear relationship, and 0 represents no linear relationship. The magnitude of correlation provides information about the strength of the relationship, with values closer to -1 or 1 indicating a stronger relationship.\n",
    "\n",
    "### 3. Units:\n",
    "   - Covariance: Covariance is expressed in the units obtained by multiplying the units of the two variables being analyzed.\n",
    "   - Correlation: Correlation is a unitless measure, as it standardizes the variables and is unaffected by changes in the scales or units of the variables.\n",
    "\n",
    "### 4. Interpretation of strength:\n",
    "   - Covariance: The magnitude of covariance does not provide a clear interpretation of the strength of the relationship. It only indicates whether the variables have a positive or negative linear relationship.\n",
    "   - Correlation: The magnitude of correlation provides a clear interpretation of the strength of the linear relationship. A correlation coefficient close to -1 or 1 indicates a strong linear relationship, while values close to 0 indicate a weak or no linear relationship.\n",
    "\n",
    "### summary, covariance measures the direction and strength of the linear relationship between variables but is not scaled or standardized. Correlation, on the other hand, not only measures the direction and strength of the relationship but also provides a standardized measure that is independent of the units or scales of the variables, allowing for better comparison and interpretation of the strength of the relationship."
   ]
  },
  {
   "cell_type": "markdown",
   "id": "81d75e22-9c7d-4077-bb07-217dbe1ab745",
   "metadata": {},
   "source": [
    "## Q14. How do outliers affect measures of central tendency and dispersion? Provide an example.\n",
    "### ANS:Outliers can significantly impact measures of central tendency and dispersion. Here's how outliers affect these measures:\n",
    "\n",
    "### 1. Measures of Central Tendency:\n",
    "   - Mean: Outliers can pull the mean towards their extreme values. Since the mean is calculated by summing all the values and dividing by the number of values, an outlier with an extremely high or low value can greatly influence the overall value of the mean. As a result, the mean may not accurately represent the typical or central value of the dataset.\n",
    "   \n",
    "   - Median: Outliers have less impact on the median compared to the mean. The median represents the middle value when the data is arranged in ascending or descending order. Outliers only affect the median if they are among the middle values. In such cases, the median may be shifted towards the outlier but is generally more robust to extreme values.\n",
    "\n",
    "   - Mode: Outliers do not affect the mode since it represents the most frequently occurring value(s) in the dataset. Outliers by definition are less frequent, so they have no direct impact on the mode.\n",
    "\n",
    "### 2. Measures of Dispersion:\n",
    "   - Range: Outliers have a direct impact on the range, which is the difference between the maximum and minimum values in the dataset. Outliers with extreme values can significantly increase or decrease the range, making it a less reliable measure of dispersion.\n",
    "\n",
    "   - Variance and Standard Deviation: Outliers can have a substantial impact on variance and standard deviation. Both measures are influenced by the deviation of values from the mean. Outliers with extreme values increase the overall variability, leading to larger variances and standard deviations.\n",
    "\n",
    "   - Interquartile Range (IQR): Outliers affect the IQR to some extent but to a lesser degree compared to the range. The IQR is calculated as the difference between the third quartile (Q3) and the first quartile (Q1). Outliers can affect Q1 and Q3, but their impact on the IQR is relatively smaller than on the range.\n",
    "\n",
    "#### Example:\n",
    "### Consider a dataset of exam scores: 78, 85, 90, 92, 76, and an outlier of 150. The impact of the outlier on measures of central tendency and dispersion would be as follows:\n",
    "\n",
    "- Mean: The outlier of 150 would significantly increase the mean, pulling it towards the extreme value.\n",
    "\n",
    "- Median: The median is not affected by the outlier since it represents the middle value, which remains the same even with the presence of the outlier.\n",
    "\n",
    "- Mode: The mode is not affected by the outlier since it represents the most frequent value(s), which remains the same even with the presence of the outlier.\n",
    "\n",
    "- Range: The outlier of 150 would increase the range of the dataset.\n",
    "\n",
    "- Variance and Standard Deviation: The outlier of 150 would increase the overall variability, leading to larger variances and standard deviations.\n",
    "\n",
    "- Interquartile Range (IQR): The outlier would have a smaller impact on the IQR compared to the range, but it could still affect the values of Q1 and Q3, thus affecting the IQR."
   ]
  },
  {
   "cell_type": "code",
   "execution_count": null,
   "id": "2c3b9e36-7e24-40e3-b225-54e8401f100a",
   "metadata": {},
   "outputs": [],
   "source": []
  }
 ],
 "metadata": {
  "kernelspec": {
   "display_name": "Python 3 (ipykernel)",
   "language": "python",
   "name": "python3"
  },
  "language_info": {
   "codemirror_mode": {
    "name": "ipython",
    "version": 3
   },
   "file_extension": ".py",
   "mimetype": "text/x-python",
   "name": "python",
   "nbconvert_exporter": "python",
   "pygments_lexer": "ipython3",
   "version": "3.10.8"
  }
 },
 "nbformat": 4,
 "nbformat_minor": 5
}

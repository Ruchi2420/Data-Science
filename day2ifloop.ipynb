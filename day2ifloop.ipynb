{
 "cells": [
  {
   "cell_type": "code",
   "execution_count": 2,
   "id": "cdf6f623-5687-450a-891d-db8fab318302",
   "metadata": {},
   "outputs": [
    {
     "name": "stdout",
     "output_type": "stream",
     "text": [
      "my age is: 32\n"
     ]
    }
   ],
   "source": [
    "age = 32\n",
    "print(\"my age is:\",age)"
   ]
  },
  {
   "cell_type": "code",
   "execution_count": 3,
   "id": "3d2374d8-3345-4481-a246-c8577cc046ee",
   "metadata": {},
   "outputs": [
    {
     "name": "stdout",
     "output_type": "stream",
     "text": [
      "My age is:32\n"
     ]
    }
   ],
   "source": [
    "print(f\"My age is:{age}\")"
   ]
  },
  {
   "cell_type": "code",
   "execution_count": 5,
   "id": "2b011a65-63f0-4c79-926d-bb41e7941764",
   "metadata": {},
   "outputs": [
    {
     "name": "stdout",
     "output_type": "stream",
     "text": [
      "my name is krish and age is 35\n"
     ]
    }
   ],
   "source": [
    "name=\"krish\"\n",
    "age=35\n",
    "print(\"my name is {} and age is {}\".format(name,age))"
   ]
  },
  {
   "cell_type": "code",
   "execution_count": null,
   "id": "bc1b6bfd-6325-488f-a59e-629748cbd763",
   "metadata": {},
   "outputs": [],
   "source": [
    "print(\"my name is {} and age is {}\".format(name,age))"
   ]
  },
  {
   "cell_type": "code",
   "execution_count": 6,
   "id": "ce79464d-62e7-40e9-b1db-c9eaa1acdc85",
   "metadata": {},
   "outputs": [
    {
     "name": "stdout",
     "output_type": "stream",
     "text": [
      "my name is krish and age is 35\n"
     ]
    }
   ],
   "source": [
    "#place holder\n",
    "print(\"my name is {firstname} and age is {firstage}\".format(firstname=name,firstage=age))"
   ]
  },
  {
   "cell_type": "code",
   "execution_count": 7,
   "id": "c7a5d754-ae50-4520-b1b0-57b7c79c54e2",
   "metadata": {},
   "outputs": [
    {
     "name": "stdout",
     "output_type": "stream",
     "text": [
      "my name is krish and age is 35\n"
     ]
    }
   ],
   "source": [
    "print(\"my name is {firstname} and age is {firstage}\".format(firstage=age,firstname=name))"
   ]
  },
  {
   "cell_type": "code",
   "execution_count": 10,
   "id": "10a256af-d200-4290-a853-878a2ea04ef7",
   "metadata": {},
   "outputs": [
    {
     "name": "stdout",
     "output_type": "stream",
     "text": [
      "my age is 22 and i have completed my degree of BE with the name of Ruchi. \n"
     ]
    }
   ],
   "source": [
    "name=\"Ruchi\"\n",
    "age = 22\n",
    "Degree = \"BE\"\n",
    "print(f\"my age is {age} and i have completed my degree of {Degree} with the name of {name}. \" )"
   ]
  },
  {
   "cell_type": "code",
   "execution_count": 11,
   "id": "9fa31c45-a5be-4075-a648-de7802e5dbbe",
   "metadata": {},
   "outputs": [
    {
     "name": "stdout",
     "output_type": "stream",
     "text": [
      "my age is 22 and i have completed my degree of BE with the name of Ruchi. \n"
     ]
    }
   ],
   "source": [
    "print(\"my age is {} and i have completed my degree of {} with the name of {}. \".format(age,Degree,name) )"
   ]
  },
  {
   "cell_type": "code",
   "execution_count": 12,
   "id": "7b562c60-e431-48d6-8620-25e9acc8a9dd",
   "metadata": {},
   "outputs": [
    {
     "name": "stdout",
     "output_type": "stream",
     "text": [
      "my age is 22 and i have completed my degree of BE with the name of Ruchi. \n"
     ]
    }
   ],
   "source": [
    "print(\"my age is {ru_age} and i have completed my degree of {ru_degree} with the name of {ru_name}. \".format(ru_age=age,ru_degree=Degree,ru_name=name) )"
   ]
  },
  {
   "cell_type": "code",
   "execution_count": 13,
   "id": "aef13f7f-2474-42b9-903e-96aa0371a4aa",
   "metadata": {},
   "outputs": [
    {
     "name": "stdin",
     "output_type": "stream",
     "text": [
      "enter your age 22\n"
     ]
    },
    {
     "name": "stdout",
     "output_type": "stream",
     "text": [
      "you are young blood.\n"
     ]
    }
   ],
   "source": [
    "age=int(input(\"enter your age\"))\n",
    "if age>=18 and age<=32:\n",
    "    print(\"you are young blood.\")"
   ]
  },
  {
   "cell_type": "code",
   "execution_count": null,
   "id": "1178a382-495f-4f97-a4fe-e20a19f7603d",
   "metadata": {},
   "outputs": [],
   "source": []
  },
  {
   "cell_type": "code",
   "execution_count": null,
   "id": "7e09e39f-b2e7-43e0-8fdb-568d5429a276",
   "metadata": {},
   "outputs": [],
   "source": []
  },
  {
   "cell_type": "code",
   "execution_count": null,
   "id": "7e100f30-7e76-4624-8051-a0a37a43876e",
   "metadata": {},
   "outputs": [],
   "source": []
  },
  {
   "cell_type": "code",
   "execution_count": null,
   "id": "2bccac45-c791-43c4-997b-7e8f4d464607",
   "metadata": {},
   "outputs": [],
   "source": []
  },
  {
   "cell_type": "code",
   "execution_count": 4,
   "id": "47d8e262-3c19-4f39-83b5-368e19a46cc3",
   "metadata": {},
   "outputs": [
    {
     "name": "stdin",
     "output_type": "stream",
     "text": [
      "Enter our age:  12\n"
     ]
    },
    {
     "name": "stdout",
     "output_type": "stream",
     "text": [
      "Thank you we will let you know.\n"
     ]
    }
   ],
   "source": [
    "age = int(input(\"Enter our age: \" ))\n",
    "if age>=18 and age<=45 :\n",
    "    print(\"You are young blood.\")\n",
    "else:\n",
    "    print(\"Thank you we will let you know.\")\n"
   ]
  },
  {
   "cell_type": "code",
   "execution_count": null,
   "id": "6221e843-7523-4ad2-b4b3-52f0c8140e33",
   "metadata": {},
   "outputs": [],
   "source": []
  },
  {
   "cell_type": "code",
   "execution_count": 6,
   "id": "795b38d7-d215-425c-a440-afa285472df3",
   "metadata": {},
   "outputs": [
    {
     "name": "stdin",
     "output_type": "stream",
     "text": [
      "Enter the price: 1600\n"
     ]
    },
    {
     "name": "stdout",
     "output_type": "stream",
     "text": [
      "The price of product is960.0\n"
     ]
    }
   ],
   "source": [
    "product_price = int(input(\"Enter the price:\"))\n",
    "if product_price>3000:\n",
    "    print(\"The price of product is{}\".format(product_price*0.8))\n",
    "elif product_price >=2000 and product_price<= 3000:\n",
    "     if product_price==2999:\n",
    "          print(\"you will get an additional gift.\")\n",
    "     print(\"The price of product is{}\".format(product_price*0.7))\n",
    "elif product_price>=1000 and product_price<= 2000:\n",
    "     print(\"The price of product is{}\".format(product_price*0.6))\n",
    "else:\n",
    "     print(\"you can drink tea.\")"
   ]
  },
  {
   "cell_type": "code",
   "execution_count": 1,
   "id": "c77d22f9-88e1-4ece-ab1a-a8febc7004cf",
   "metadata": {},
   "outputs": [
    {
     "name": "stdin",
     "output_type": "stream",
     "text": [
      "enter the no: 899\n"
     ]
    },
    {
     "name": "stdout",
     "output_type": "stream",
     "text": [
      "Value is less than equal to 999\n"
     ]
    }
   ],
   "source": [
    "##Single statement suites\n",
    "val=int(input(\"enter the no:\"))\n",
    "if(val<=999):print(\"Value is less than equal to 999\")\n",
    "else:\n",
    "    print(\"Go to Home\")"
   ]
  },
  {
   "cell_type": "markdown",
   "id": "2c789583-054a-4ad2-be87-bce06d407c73",
   "metadata": {},
   "source": [
    "#Loops statement\n",
    "###while loop\n",
    "###for loop\n",
    "###nested loop\n",
    "###loop control(break,continue,pass)"
   ]
  },
  {
   "cell_type": "code",
   "execution_count": 7,
   "id": "2bd65f37-da73-496e-a199-0aa7466576f8",
   "metadata": {},
   "outputs": [
    {
     "name": "stdout",
     "output_type": "stream",
     "text": [
      "28\n",
      "29\n",
      "30\n",
      "31\n",
      "32\n",
      "33\n",
      "34\n",
      "35\n",
      "36\n",
      "37\n",
      "38\n",
      "39\n",
      "40\n",
      "41\n",
      "42\n",
      "43\n",
      "44\n",
      "45\n",
      "46\n",
      "47\n",
      "48\n",
      "49\n",
      "50\n",
      "51\n",
      "52\n",
      "53\n",
      "54\n",
      "55\n",
      "56\n",
      "57\n",
      "58\n",
      "59\n",
      "60\n",
      "its time to retriment\n"
     ]
    }
   ],
   "source": [
    "# while loop else while\n",
    "joining_age = 28\n",
    "while joining_age<=60:\n",
    "    print(joining_age)\n",
    "    joining_age+=1\n",
    "else:    \n",
    "    print(\"its time to retriment\")"
   ]
  },
  {
   "cell_type": "code",
   "execution_count": 11,
   "id": "37b92ff9-0804-4784-b1c6-24fa9d5b8473",
   "metadata": {},
   "outputs": [
    {
     "name": "stdout",
     "output_type": "stream",
     "text": [
      "1000\n",
      "900\n",
      "800\n",
      "700\n",
      "600\n",
      "500\n",
      "400\n",
      "300\n",
      "200\n",
      "100\n",
      "bank walo or money dalo atm mein\n"
     ]
    }
   ],
   "source": [
    "total_amount = 1000\n",
    "while total_amount!=0:\n",
    "    print(total_amount)\n",
    "    total_amount-=100\n",
    "else:\n",
    "    print(\"bank walo or money dalo atm mein\")"
   ]
  },
  {
   "cell_type": "code",
   "execution_count": 4,
   "id": "9fcac38c-b175-408e-ada1-510ad0b4ca3f",
   "metadata": {},
   "outputs": [],
   "source": [
    "Ist =['Ruchi',1,2,3,4,]"
   ]
  },
  {
   "cell_type": "code",
   "execution_count": 5,
   "id": "9722b709-9e77-4b5b-be2b-6f4654f8c4e0",
   "metadata": {},
   "outputs": [
    {
     "name": "stdout",
     "output_type": "stream",
     "text": [
      "Ruchi\n",
      "1\n",
      "2\n",
      "3\n",
      "4\n"
     ]
    }
   ],
   "source": [
    "for x in Ist:\n",
    "    print(x)"
   ]
  },
  {
   "cell_type": "code",
   "execution_count": 6,
   "id": "89dc4af5-9531-454c-ac8e-cba265fececd",
   "metadata": {},
   "outputs": [],
   "source": [
    "Fruit_basket = ['Apple','banana','Mango','Orange','Grapes']"
   ]
  },
  {
   "cell_type": "code",
   "execution_count": 7,
   "id": "565a8d57-5b9b-43ec-9e89-9e741328a7d7",
   "metadata": {},
   "outputs": [
    {
     "name": "stdout",
     "output_type": "stream",
     "text": [
      "M\n",
      "a\n",
      "n\n",
      "g\n",
      "o\n"
     ]
    }
   ],
   "source": [
    "fruit_basket = 'Mango'\n",
    "for x in fruit_basket:\n",
    "    print(x)"
   ]
  },
  {
   "cell_type": "code",
   "execution_count": 8,
   "id": "ec034b95-0837-45eb-b399-efc06ac7437d",
   "metadata": {},
   "outputs": [
    {
     "name": "stdout",
     "output_type": "stream",
     "text": [
      "Mango"
     ]
    }
   ],
   "source": [
    "fruit_basket = 'Mango'\n",
    "for x in fruit_basket:\n",
    "    print(x,end='')"
   ]
  },
  {
   "cell_type": "code",
   "execution_count": 9,
   "id": "0416c081-15f6-4a55-bd37-953f7b406825",
   "metadata": {},
   "outputs": [
    {
     "name": "stdout",
     "output_type": "stream",
     "text": [
      "1\n",
      "2\n",
      "3\n",
      "4\n"
     ]
    }
   ],
   "source": [
    "for i in range(1,5): # range take two parameters range(start,stop) and exludes last parameter.\n",
    "    print(i)\n",
    "    "
   ]
  },
  {
   "cell_type": "code",
   "execution_count": 10,
   "id": "89ab5e5e-e2c5-4b9e-a55c-44f38391a59f",
   "metadata": {},
   "outputs": [
    {
     "name": "stdout",
     "output_type": "stream",
     "text": [
      "1\n",
      "3\n",
      "5\n",
      "7\n",
      "9\n"
     ]
    }
   ],
   "source": [
    "for i in range(1,10,2):\n",
    "    print(i)"
   ]
  },
  {
   "cell_type": "code",
   "execution_count": null,
   "id": "6a07b546-9a50-401d-8e07-1f6be165cde4",
   "metadata": {},
   "outputs": [],
   "source": []
  },
  {
   "cell_type": "code",
   "execution_count": 12,
   "id": "a8bab402-acd1-4ffd-8b46-4ceece296460",
   "metadata": {},
   "outputs": [
    {
     "name": "stdout",
     "output_type": "stream",
     "text": [
      "****************************"
     ]
    }
   ],
   "source": [
    "#nested loop\n",
    "n=7\n",
    "for i in range(0,n):\n",
    "    for j in range(0,i+1):\n",
    "        print(\"*\",end=\"\")\n",
    "        "
   ]
  },
  {
   "cell_type": "code",
   "execution_count": null,
   "id": "3e32bf14-e87b-486d-8d39-de34f4743fe6",
   "metadata": {},
   "outputs": [],
   "source": []
  },
  {
   "cell_type": "code",
   "execution_count": 15,
   "id": "39eb220a-69c5-4c14-95e0-fadd7b0f65bc",
   "metadata": {},
   "outputs": [
    {
     "name": "stdout",
     "output_type": "stream",
     "text": [
      "*\n",
      "\n",
      "**\n",
      "\n",
      "***\n",
      "\n",
      "****\n",
      "\n",
      "*****\n",
      "\n",
      "******\n",
      "\n",
      "*******\n",
      "\n"
     ]
    }
   ],
   "source": [
    "#nested loop\n",
    "n=7\n",
    "for i in range(0,n):\n",
    "    for j in range(0,i+1):\n",
    "        print(\"*\",end=\"\")\n",
    "    print(\"\\n\")\n",
    "        "
   ]
  },
  {
   "cell_type": "code",
   "execution_count": 13,
   "id": "bfc7261e-d1ef-4977-82e7-3f3e3e0c8ad1",
   "metadata": {},
   "outputs": [
    {
     "name": "stdout",
     "output_type": "stream",
     "text": [
      "*\n",
      "**\n",
      "***\n",
      "****\n",
      "*****\n",
      "******\n",
      "*******\n"
     ]
    }
   ],
   "source": [
    "#nested loop\n",
    "n=7\n",
    "for i in range(0,n):\n",
    "    for j in range(0,i+1):\n",
    "        print(\"*\",end=\"\")\n",
    "    print(\"\\r\") # go to the new line that is left most side"
   ]
  },
  {
   "cell_type": "code",
   "execution_count": 17,
   "id": "8924701a-062f-40d3-afea-f1086be8a262",
   "metadata": {},
   "outputs": [
    {
     "name": "stdout",
     "output_type": "stream",
     "text": [
      "banana\n",
      "Mango\n",
      "This is apple.\n"
     ]
    }
   ],
   "source": [
    "fruit = ['banana','Mango','Apple','cherry','orange'] #break the entire loop\n",
    "for i in fruit:\n",
    "    if i=='Apple':\n",
    "      print(\"This is apple.\")\n",
    "      break\n",
    "    print(i)\n",
    "    "
   ]
  },
  {
   "cell_type": "code",
   "execution_count": 18,
   "id": "cc652cf7-5462-4f99-be36-7e2e714b2505",
   "metadata": {},
   "outputs": [
    {
     "name": "stdout",
     "output_type": "stream",
     "text": [
      "banana\n",
      "Mango\n",
      "This is apple.\n",
      "Apple\n",
      "cherry\n",
      "orange\n"
     ]
    }
   ],
   "source": [
    "fruit = ['banana','Mango','Apple','cherry','orange'] #simply pass all the steps \n",
    "for i in fruit:\n",
    "    if i=='Apple':\n",
    "      print(\"This is apple.\")\n",
    "      pass\n",
    "    print(i)\n",
    "    "
   ]
  },
  {
   "cell_type": "code",
   "execution_count": 19,
   "id": "950b68d8-132f-44d9-9a7d-b54f2006e215",
   "metadata": {},
   "outputs": [
    {
     "name": "stdout",
     "output_type": "stream",
     "text": [
      "banana\n",
      "Mango\n",
      "This is apple.\n",
      "cherry\n",
      "orange\n"
     ]
    }
   ],
   "source": [
    "fruit = ['banana','Mango','Apple','cherry','orange'] #skip the step which condition is true \n",
    "for i in fruit:\n",
    "    if i=='Apple':\n",
    "      print(\"This is apple.\")\n",
    "      continue\n",
    "    print(i)\n",
    "    "
   ]
  },
  {
   "cell_type": "code",
   "execution_count": null,
   "id": "ba0cb6a5-9ebc-44fa-bcac-5ea20f23dbd9",
   "metadata": {},
   "outputs": [],
   "source": []
  }
 ],
 "metadata": {
  "kernelspec": {
   "display_name": "Python 3 (ipykernel)",
   "language": "python",
   "name": "python3"
  },
  "language_info": {
   "codemirror_mode": {
    "name": "ipython",
    "version": 3
   },
   "file_extension": ".py",
   "mimetype": "text/x-python",
   "name": "python",
   "nbconvert_exporter": "python",
   "pygments_lexer": "ipython3",
   "version": "3.10.8"
  }
 },
 "nbformat": 4,
 "nbformat_minor": 5
}

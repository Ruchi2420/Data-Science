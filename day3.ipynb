{
 "cells": [
  {
   "cell_type": "markdown",
   "id": "96e6f193-6919-4e23-b7af-2af6e1b19a8e",
   "metadata": {
    "tags": []
   },
   "source": [
    "# equality operators\n",
    "## 1.is\n",
    "## 2.is not\n",
    "## 3.==\n",
    "## 4.!= "
   ]
  },
  {
   "cell_type": "code",
   "execution_count": 4,
   "id": "872b2c56-4375-4e43-98d0-de3d178c2446",
   "metadata": {},
   "outputs": [],
   "source": [
    "Ist_a=[1,2,3,4]\n",
    "Ist_b=[1,2,3,4]"
   ]
  },
  {
   "cell_type": "code",
   "execution_count": 6,
   "id": "40e4b41c-e6ba-43b2-8838-674aecdf3fe1",
   "metadata": {},
   "outputs": [
    {
     "name": "stdout",
     "output_type": "stream",
     "text": [
      "139813200117312\n",
      "139813260272384\n"
     ]
    }
   ],
   "source": [
    "print(id(Ist_a))\n",
    "print(id(Ist_b))"
   ]
  },
  {
   "cell_type": "code",
   "execution_count": 12,
   "id": "b7cb7c68-3bb0-41bd-81de-b1727042a8cb",
   "metadata": {},
   "outputs": [
    {
     "data": {
      "text/plain": [
       "False"
      ]
     },
     "execution_count": 12,
     "metadata": {},
     "output_type": "execute_result"
    }
   ],
   "source": [
    "Ist_a is Ist_b"
   ]
  },
  {
   "cell_type": "code",
   "execution_count": null,
   "id": "cbae9322-0bd4-49e1-9992-dfa5a351236a",
   "metadata": {},
   "outputs": [],
   "source": [
    "Ist_a =[1,2,3,4]\n",
    "Ist_a == Ist_b"
   ]
  },
  {
   "cell_type": "code",
   "execution_count": null,
   "id": "dfd33b74-fa45-4f7e-bd1c-afee51be2029",
   "metadata": {},
   "outputs": [],
   "source": [
    "print(id(Ist_a))\n",
    "print(id(Ist_b))"
   ]
  },
  {
   "cell_type": "code",
   "execution_count": null,
   "id": "5f6a3eec-37b0-420c-adc8-c97e724b85f3",
   "metadata": {},
   "outputs": [],
   "source": [
    "str1='ruchi'\n",
    "str2='Ruchi1'"
   ]
  },
  {
   "cell_type": "code",
   "execution_count": null,
   "id": "095130b0-41aa-4520-aec4-edfa30acb29d",
   "metadata": {},
   "outputs": [],
   "source": [
    "print(id(str1))\n",
    "print(id(str2))"
   ]
  },
  {
   "cell_type": "code",
   "execution_count": null,
   "id": "f8aba2a5-3300-4d1c-a5ff-e96657c1983f",
   "metadata": {},
   "outputs": [],
   "source": [
    "str1[1] = 'k'"
   ]
  }
 ],
 "metadata": {
  "kernelspec": {
   "display_name": "Python 3 (ipykernel)",
   "language": "python",
   "name": "python3"
  },
  "language_info": {
   "codemirror_mode": {
    "name": "ipython",
    "version": 3
   },
   "file_extension": ".py",
   "mimetype": "text/x-python",
   "name": "python",
   "nbconvert_exporter": "python",
   "pygments_lexer": "ipython3",
   "version": "3.10.8"
  }
 },
 "nbformat": 4,
 "nbformat_minor": 5
}

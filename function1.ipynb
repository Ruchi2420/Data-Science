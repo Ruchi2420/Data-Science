{
 "cells": [
  {
   "cell_type": "code",
   "execution_count": 3,
   "id": "444867fe",
   "metadata": {},
   "outputs": [],
   "source": [
    "def isprime(n):\n",
    "    if  n==0 or n==1: return False\n",
    "    for i in range(2,n):\n",
    "        if n%2==0:\n",
    "            break\n",
    "    else:\n",
    "        return True\n",
    "    return False\n",
    "        "
   ]
  },
  {
   "cell_type": "code",
   "execution_count": 5,
   "id": "d502bbc9",
   "metadata": {},
   "outputs": [
    {
     "data": {
      "text/plain": [
       "True"
      ]
     },
     "execution_count": 5,
     "metadata": {},
     "output_type": "execute_result"
    }
   ],
   "source": [
    "isprime(2)"
   ]
  },
  {
   "cell_type": "code",
   "execution_count": 7,
   "id": "6f30e54d",
   "metadata": {},
   "outputs": [
    {
     "name": "stdout",
     "output_type": "stream",
     "text": [
      "2\n"
     ]
    }
   ],
   "source": [
    "def Twice(n):\n",
    "    n=2*n\n",
    "i=2\n",
    "Twice(i)\n",
    "print(i)"
   ]
  },
  {
   "cell_type": "code",
   "execution_count": 8,
   "id": "5a4d77e7",
   "metadata": {},
   "outputs": [
    {
     "name": "stdout",
     "output_type": "stream",
     "text": [
      "[2, 4, 6, 8, 10]\n"
     ]
    }
   ],
   "source": [
    "def Twice(l):\n",
    "    for i in range(len(l)):\n",
    "        l[i]=l[i]*2\n",
    "l=[1,2,3,4,5]\n",
    "Twice(l)\n",
    "print(l)"
   ]
  },
  {
   "cell_type": "code",
   "execution_count": 12,
   "id": "e03d388d",
   "metadata": {},
   "outputs": [
    {
     "ename": "TypeError",
     "evalue": "'set' object is not subscriptable",
     "output_type": "error",
     "traceback": [
      "\u001b[1;31m---------------------------------------------------------------------------\u001b[0m",
      "\u001b[1;31mTypeError\u001b[0m                                 Traceback (most recent call last)",
      "Cell \u001b[1;32mIn[12], line 4\u001b[0m\n\u001b[0;32m      2\u001b[0m     s[i]\u001b[38;5;241m=\u001b[39ms[i]\u001b[38;5;241m*\u001b[39m\u001b[38;5;241m3\u001b[39m\n\u001b[0;32m      3\u001b[0m x\u001b[38;5;241m=\u001b[39m{\u001b[38;5;241m2\u001b[39m,\u001b[38;5;241m3\u001b[39m,\u001b[38;5;241m4\u001b[39m,\u001b[38;5;241m5\u001b[39m}\n\u001b[1;32m----> 4\u001b[0m \u001b[43mtwice\u001b[49m\u001b[43m(\u001b[49m\u001b[43mx\u001b[49m\u001b[43m)\u001b[49m\n\u001b[0;32m      5\u001b[0m \u001b[38;5;28mprint\u001b[39m(x)\n",
      "Cell \u001b[1;32mIn[12], line 2\u001b[0m, in \u001b[0;36mtwice\u001b[1;34m(s)\u001b[0m\n\u001b[0;32m      1\u001b[0m \u001b[38;5;28;01mdef\u001b[39;00m \u001b[38;5;21mtwice\u001b[39m(s):\n\u001b[1;32m----> 2\u001b[0m     s[i]\u001b[38;5;241m=\u001b[39m\u001b[43ms\u001b[49m\u001b[43m[\u001b[49m\u001b[43mi\u001b[49m\u001b[43m]\u001b[49m\u001b[38;5;241m*\u001b[39m\u001b[38;5;241m3\u001b[39m\n",
      "\u001b[1;31mTypeError\u001b[0m: 'set' object is not subscriptable"
     ]
    }
   ],
   "source": [
    "def twice(s):\n",
    "    s[i]=s[i]*3\n",
    "x={2,3,4,5}\n",
    "twice(x)\n",
    "print(x)"
   ]
  },
  {
   "cell_type": "code",
   "execution_count": 13,
   "id": "af75d745",
   "metadata": {},
   "outputs": [
    {
     "name": "stdout",
     "output_type": "stream",
     "text": [
      "12\n"
     ]
    },
    {
     "ename": "NameError",
     "evalue": "name 'a' is not defined",
     "output_type": "error",
     "traceback": [
      "\u001b[1;31m---------------------------------------------------------------------------\u001b[0m",
      "\u001b[1;31mNameError\u001b[0m                                 Traceback (most recent call last)",
      "Cell \u001b[1;32mIn[13], line 6\u001b[0m\n\u001b[0;32m      4\u001b[0m     \u001b[38;5;28mprint\u001b[39m(a)\n\u001b[0;32m      5\u001b[0m f()\n\u001b[1;32m----> 6\u001b[0m \u001b[38;5;28mprint\u001b[39m(\u001b[43ma\u001b[49m)\n",
      "\u001b[1;31mNameError\u001b[0m: name 'a' is not defined"
     ]
    }
   ],
   "source": [
    "def f():\n",
    "    a=10\n",
    "    a=a+2 #local to function (ese variable jo function ke ander banaye jate hai)\n",
    "    print(a)\n",
    "f()\n",
    "print(a)"
   ]
  },
  {
   "cell_type": "code",
   "execution_count": 14,
   "id": "2ff7658f",
   "metadata": {},
   "outputs": [
    {
     "name": "stdout",
     "output_type": "stream",
     "text": [
      "10\n",
      "1111\n"
     ]
    }
   ],
   "source": [
    "a = 1111 # global to function(ese variable jo function ke bhar print ho)\n",
    "def f():\n",
    "    a1=10\n",
    "    print(a1)\n",
    "f()\n",
    "print(a)"
   ]
  },
  {
   "cell_type": "code",
   "execution_count": 15,
   "id": "1be06423",
   "metadata": {},
   "outputs": [
    {
     "name": "stdout",
     "output_type": "stream",
     "text": [
      "200\n",
      "10\n",
      "234\n"
     ]
    }
   ],
   "source": [
    "x=10 #global\n",
    "def f():\n",
    "    y=200\n",
    "    print(y)\n",
    "    print(x)\n",
    "f()\n",
    "x=234\n",
    "print(x)"
   ]
  },
  {
   "cell_type": "code",
   "execution_count": 16,
   "id": "f5efe7c9",
   "metadata": {},
   "outputs": [],
   "source": [
    "a=10\n",
    "def f1():\n",
    "    a=90\n",
    "    print(id(a))"
   ]
  },
  {
   "cell_type": "code",
   "execution_count": 17,
   "id": "fcd29896",
   "metadata": {},
   "outputs": [
    {
     "name": "stdout",
     "output_type": "stream",
     "text": [
      "2589543304208\n"
     ]
    }
   ],
   "source": [
    "f1()"
   ]
  },
  {
   "cell_type": "code",
   "execution_count": 19,
   "id": "db7b55ba",
   "metadata": {},
   "outputs": [
    {
     "data": {
      "text/plain": [
       "2589543301648"
      ]
     },
     "execution_count": 19,
     "metadata": {},
     "output_type": "execute_result"
    }
   ],
   "source": [
    "id(a)"
   ]
  },
  {
   "cell_type": "markdown",
   "id": "19da0b77",
   "metadata": {},
   "source": [
    " ## Different types of arguments in functions"
   ]
  },
  {
   "cell_type": "code",
   "execution_count": 24,
   "id": "65f74703",
   "metadata": {},
   "outputs": [],
   "source": [
    "# can we return multiple value from a function\n",
    "def f(a,b):\n",
    "    '''this function return sum and difference'''\n",
    "    return a+b,a-b\n",
    "x,y=f(10,20)"
   ]
  },
  {
   "cell_type": "code",
   "execution_count": 26,
   "id": "f029b1b0",
   "metadata": {},
   "outputs": [
    {
     "data": {
      "text/plain": [
       "'this function return sum and difference'"
      ]
     },
     "execution_count": 26,
     "metadata": {},
     "output_type": "execute_result"
    }
   ],
   "source": [
    "f.__doc__ #object.__doc__"
   ]
  },
  {
   "cell_type": "code",
   "execution_count": 21,
   "id": "cd2918f4",
   "metadata": {},
   "outputs": [
    {
     "data": {
      "text/plain": [
       "30"
      ]
     },
     "execution_count": 21,
     "metadata": {},
     "output_type": "execute_result"
    }
   ],
   "source": [
    "x"
   ]
  },
  {
   "cell_type": "code",
   "execution_count": 22,
   "id": "679ac00d",
   "metadata": {},
   "outputs": [
    {
     "data": {
      "text/plain": [
       "-10"
      ]
     },
     "execution_count": 22,
     "metadata": {},
     "output_type": "execute_result"
    }
   ],
   "source": [
    "y"
   ]
  },
  {
   "cell_type": "code",
   "execution_count": 23,
   "id": "58b859a8",
   "metadata": {},
   "outputs": [
    {
     "data": {
      "text/plain": [
       "tuple"
      ]
     },
     "execution_count": 23,
     "metadata": {},
     "output_type": "execute_result"
    }
   ],
   "source": [
    "type(f(1,2))"
   ]
  },
  {
   "cell_type": "markdown",
   "id": "2edf0a6c",
   "metadata": {},
   "source": [
    "# positional argument \n",
    "## The no. of arguments and position must be matched\n",
    "##  if the no.of arguments is not same -- error "
   ]
  },
  {
   "cell_type": "code",
   "execution_count": 27,
   "id": "bdef275c",
   "metadata": {},
   "outputs": [],
   "source": [
    "def math(a,b,c):\n",
    "    return a+b-c\n"
   ]
  },
  {
   "cell_type": "code",
   "execution_count": 28,
   "id": "96a85198",
   "metadata": {},
   "outputs": [
    {
     "data": {
      "text/plain": [
       "0"
      ]
     },
     "execution_count": 28,
     "metadata": {},
     "output_type": "execute_result"
    }
   ],
   "source": [
    "math(10,20,30)"
   ]
  },
  {
   "cell_type": "code",
   "execution_count": 29,
   "id": "fa96c432",
   "metadata": {},
   "outputs": [
    {
     "data": {
      "text/plain": [
       "40"
      ]
     },
     "execution_count": 29,
     "metadata": {},
     "output_type": "execute_result"
    }
   ],
   "source": [
    "math(20,30,10)"
   ]
  },
  {
   "cell_type": "code",
   "execution_count": 30,
   "id": "a0673789",
   "metadata": {},
   "outputs": [
    {
     "ename": "TypeError",
     "evalue": "math() missing 1 required positional argument: 'c'",
     "output_type": "error",
     "traceback": [
      "\u001b[1;31m---------------------------------------------------------------------------\u001b[0m",
      "\u001b[1;31mTypeError\u001b[0m                                 Traceback (most recent call last)",
      "Cell \u001b[1;32mIn[30], line 1\u001b[0m\n\u001b[1;32m----> 1\u001b[0m \u001b[43mmath\u001b[49m\u001b[43m(\u001b[49m\u001b[38;5;241;43m10\u001b[39;49m\u001b[43m,\u001b[49m\u001b[38;5;241;43m20\u001b[39;49m\u001b[43m)\u001b[49m\n",
      "\u001b[1;31mTypeError\u001b[0m: math() missing 1 required positional argument: 'c'"
     ]
    }
   ],
   "source": [
    "math(10,20)"
   ]
  },
  {
   "cell_type": "code",
   "execution_count": null,
   "id": "d6947efe",
   "metadata": {},
   "outputs": [],
   "source": [
    "# keyword argument"
   ]
  },
  {
   "cell_type": "code",
   "execution_count": null,
   "id": "a405c909",
   "metadata": {},
   "outputs": [],
   "source": [
    "# keword arguments\n",
    "#f(name,age,dob,address,maritail_status,phone_no,address,gender)\n",
    "# f_call it===> any order is possible     now with keyword as argument name\n",
    "#f(age=34,name=\"ruchi\", phone_number =89202***,marital_status='single')"
   ]
  },
  {
   "cell_type": "code",
   "execution_count": 31,
   "id": "7f5e92b5",
   "metadata": {},
   "outputs": [
    {
     "data": {
      "text/plain": [
       "-33.333333333333336"
      ]
     },
     "execution_count": 31,
     "metadata": {},
     "output_type": "execute_result"
    }
   ],
   "source": [
    "def f(a,b,c,d):\n",
    "    return a*b/c-d\n",
    "f(10,20,30,40)"
   ]
  },
  {
   "cell_type": "code",
   "execution_count": 32,
   "id": "837b56b3",
   "metadata": {},
   "outputs": [
    {
     "data": {
      "text/plain": [
       "20.0"
      ]
     },
     "execution_count": 32,
     "metadata": {},
     "output_type": "execute_result"
    }
   ],
   "source": [
    "f(30,20,10,40)"
   ]
  },
  {
   "cell_type": "code",
   "execution_count": 33,
   "id": "38f837dd",
   "metadata": {},
   "outputs": [
    {
     "data": {
      "text/plain": [
       "-33.333333333333336"
      ]
     },
     "execution_count": 33,
     "metadata": {},
     "output_type": "execute_result"
    }
   ],
   "source": [
    "f(d=40,c=30,b=20,a=10)"
   ]
  },
  {
   "cell_type": "code",
   "execution_count": 34,
   "id": "43639fc2",
   "metadata": {},
   "outputs": [
    {
     "data": {
      "text/plain": [
       "-33.333333333333336"
      ]
     },
     "execution_count": 34,
     "metadata": {},
     "output_type": "execute_result"
    }
   ],
   "source": [
    "f(10,20,d=40,c=30)"
   ]
  },
  {
   "cell_type": "code",
   "execution_count": 35,
   "id": "e36f7486",
   "metadata": {},
   "outputs": [
    {
     "ename": "TypeError",
     "evalue": "f() got multiple values for argument 'b'",
     "output_type": "error",
     "traceback": [
      "\u001b[1;31m---------------------------------------------------------------------------\u001b[0m",
      "\u001b[1;31mTypeError\u001b[0m                                 Traceback (most recent call last)",
      "Cell \u001b[1;32mIn[35], line 1\u001b[0m\n\u001b[1;32m----> 1\u001b[0m \u001b[43mf\u001b[49m\u001b[43m(\u001b[49m\u001b[38;5;241;43m10\u001b[39;49m\u001b[43m,\u001b[49m\u001b[38;5;241;43m20\u001b[39;49m\u001b[43m,\u001b[49m\u001b[43md\u001b[49m\u001b[38;5;241;43m=\u001b[39;49m\u001b[38;5;241;43m40\u001b[39;49m\u001b[43m,\u001b[49m\u001b[43mb\u001b[49m\u001b[38;5;241;43m=\u001b[39;49m\u001b[38;5;241;43m30\u001b[39;49m\u001b[43m)\u001b[49m\n",
      "\u001b[1;31mTypeError\u001b[0m: f() got multiple values for argument 'b'"
     ]
    }
   ],
   "source": [
    "f(10,20,d=40,b=30)"
   ]
  },
  {
   "cell_type": "code",
   "execution_count": 36,
   "id": "ceb812a4",
   "metadata": {},
   "outputs": [
    {
     "data": {
      "text/plain": [
       "30"
      ]
     },
     "execution_count": 36,
     "metadata": {},
     "output_type": "execute_result"
    }
   ],
   "source": [
    " def sum(a,b):\n",
    "        return a+b\n",
    "sum(10,20) # will work fine"
   ]
  },
  {
   "cell_type": "code",
   "execution_count": 37,
   "id": "6ea1409a",
   "metadata": {},
   "outputs": [
    {
     "ename": "TypeError",
     "evalue": "sum() takes 2 positional arguments but 3 were given",
     "output_type": "error",
     "traceback": [
      "\u001b[1;31m---------------------------------------------------------------------------\u001b[0m",
      "\u001b[1;31mTypeError\u001b[0m                                 Traceback (most recent call last)",
      "Cell \u001b[1;32mIn[37], line 1\u001b[0m\n\u001b[1;32m----> 1\u001b[0m \u001b[38;5;28;43msum\u001b[39;49m\u001b[43m(\u001b[49m\u001b[38;5;241;43m10\u001b[39;49m\u001b[43m,\u001b[49m\u001b[38;5;241;43m20\u001b[39;49m\u001b[43m,\u001b[49m\u001b[38;5;241;43m30\u001b[39;49m\u001b[43m)\u001b[49m\n",
      "\u001b[1;31mTypeError\u001b[0m: sum() takes 2 positional arguments but 3 were given"
     ]
    }
   ],
   "source": [
    "sum(10,20,30)"
   ]
  },
  {
   "cell_type": "code",
   "execution_count": 2,
   "id": "047f1743",
   "metadata": {},
   "outputs": [
    {
     "data": {
      "text/plain": [
       "30"
      ]
     },
     "execution_count": 2,
     "metadata": {},
     "output_type": "execute_result"
    }
   ],
   "source": [
    "#default arguments\n",
    "#c is taking default value as 0\n",
    "#if we dont pass c then only 0 is taken\n",
    "def sum(a,b,c=0):\n",
    "    return a+b+c\n",
    "sum(10,20)# a=10,b=20 we didnt passed c value ===>default c=0 10+20+0"
   ]
  },
  {
   "cell_type": "code",
   "execution_count": 3,
   "id": "a2cf4825",
   "metadata": {},
   "outputs": [
    {
     "data": {
      "text/plain": [
       "60"
      ]
     },
     "execution_count": 3,
     "metadata": {},
     "output_type": "execute_result"
    }
   ],
   "source": [
    "sum(10,20,30)# default value is not needed now"
   ]
  },
  {
   "cell_type": "code",
   "execution_count": 4,
   "id": "09ba90f0",
   "metadata": {},
   "outputs": [
    {
     "ename": "SyntaxError",
     "evalue": "non-default argument follows default argument (1950751090.py, line 1)",
     "output_type": "error",
     "traceback": [
      "\u001b[1;36m  Cell \u001b[1;32mIn[4], line 1\u001b[1;36m\u001b[0m\n\u001b[1;33m    def f(a=0,b=0,c,d):\u001b[0m\n\u001b[1;37m                  ^\u001b[0m\n\u001b[1;31mSyntaxError\u001b[0m\u001b[1;31m:\u001b[0m non-default argument follows default argument\n"
     ]
    }
   ],
   "source": [
    "def f(a=0,b=0,c,d):\n",
    "    return a+b+c+d\n",
    "f(10,20,30)#default musr be after positional arguments"
   ]
  },
  {
   "cell_type": "markdown",
   "id": "2d65e65f",
   "metadata": {},
   "source": [
    "# variable no. of arguments def f(*args):"
   ]
  },
  {
   "cell_type": "code",
   "execution_count": 13,
   "id": "e50180b8",
   "metadata": {},
   "outputs": [],
   "source": [
    "def f(*n):\n",
    "    sum=0\n",
    "    for ele in n:\n",
    "        sum = sum+ele\n",
    "    return sum"
   ]
  },
  {
   "cell_type": "code",
   "execution_count": 14,
   "id": "28d82e26",
   "metadata": {},
   "outputs": [
    {
     "data": {
      "text/plain": [
       "0"
      ]
     },
     "execution_count": 14,
     "metadata": {},
     "output_type": "execute_result"
    }
   ],
   "source": [
    "f()"
   ]
  },
  {
   "cell_type": "code",
   "execution_count": 15,
   "id": "865b4cdf",
   "metadata": {},
   "outputs": [
    {
     "data": {
      "text/plain": [
       "3"
      ]
     },
     "execution_count": 15,
     "metadata": {},
     "output_type": "execute_result"
    }
   ],
   "source": [
    "f(1,2)"
   ]
  },
  {
   "cell_type": "code",
   "execution_count": 16,
   "id": "816854c4",
   "metadata": {},
   "outputs": [
    {
     "data": {
      "text/plain": [
       "6"
      ]
     },
     "execution_count": 16,
     "metadata": {},
     "output_type": "execute_result"
    }
   ],
   "source": [
    "f(1,2,3)"
   ]
  },
  {
   "cell_type": "code",
   "execution_count": 17,
   "id": "49ae0f23",
   "metadata": {},
   "outputs": [
    {
     "data": {
      "text/plain": [
       "15"
      ]
     },
     "execution_count": 17,
     "metadata": {},
     "output_type": "execute_result"
    }
   ],
   "source": [
    "f(1,2,3,4,5)"
   ]
  },
  {
   "cell_type": "code",
   "execution_count": 21,
   "id": "6f959640",
   "metadata": {},
   "outputs": [],
   "source": [
    "def f1(*n):\n",
    "    for ele in n:\n",
    "        print(ele)\n",
    "f1()"
   ]
  },
  {
   "cell_type": "code",
   "execution_count": 22,
   "id": "a969bfbf",
   "metadata": {},
   "outputs": [
    {
     "name": "stdout",
     "output_type": "stream",
     "text": [
      "1\n",
      "2\n",
      "3\n",
      "4\n"
     ]
    }
   ],
   "source": [
    "f1(1,2,3,4)"
   ]
  },
  {
   "cell_type": "code",
   "execution_count": 23,
   "id": "e53adaa6",
   "metadata": {},
   "outputs": [
    {
     "name": "stdout",
     "output_type": "stream",
     "text": [
      "34\n",
      "567\n",
      "ruchi\n",
      "12.34\n"
     ]
    }
   ],
   "source": [
    "f1(34,567,'ruchi',12.34)"
   ]
  },
  {
   "cell_type": "markdown",
   "id": "a33fdec9",
   "metadata": {},
   "source": [
    "# variable number of keyword arguments"
   ]
  },
  {
   "cell_type": "code",
   "execution_count": 27,
   "id": "c5e9cbc4",
   "metadata": {},
   "outputs": [],
   "source": [
    "def f3(**kwargs):\n",
    "    for k,v in kwargs.items():\n",
    "        print(\"key is\",k,\"value is\",v)"
   ]
  },
  {
   "cell_type": "code",
   "execution_count": 29,
   "id": "f1bd24a6",
   "metadata": {},
   "outputs": [
    {
     "name": "stdout",
     "output_type": "stream",
     "text": [
      "key is a value is 1\n",
      "key is b value is ruchi\n",
      "key is c value is 12.34\n",
      "key is d value is [1, 2, 3, 4]\n"
     ]
    }
   ],
   "source": [
    "f3(a=1,b='ruchi',c=12.34,d=[1,2,3,4])"
   ]
  },
  {
   "cell_type": "code",
   "execution_count": null,
   "id": "cce9e2a8",
   "metadata": {},
   "outputs": [],
   "source": []
  },
  {
   "cell_type": "code",
   "execution_count": null,
   "id": "7e2511f1",
   "metadata": {},
   "outputs": [],
   "source": [
    "x =int(input('enter the number you want factorial:'))\n",
    "fact =1\n",
    "for i in range(1,x+1):\n",
    "    fact=fact*i\n",
    "print(fact)"
   ]
  },
  {
   "cell_type": "code",
   "execution_count": null,
   "id": "721cbb49",
   "metadata": {},
   "outputs": [],
   "source": []
  }
 ],
 "metadata": {
  "kernelspec": {
   "display_name": "Python 3 (ipykernel)",
   "language": "python",
   "name": "python3"
  },
  "language_info": {
   "codemirror_mode": {
    "name": "ipython",
    "version": 3
   },
   "file_extension": ".py",
   "mimetype": "text/x-python",
   "name": "python",
   "nbconvert_exporter": "python",
   "pygments_lexer": "ipython3",
   "version": "3.10.9"
  }
 },
 "nbformat": 4,
 "nbformat_minor": 5
}

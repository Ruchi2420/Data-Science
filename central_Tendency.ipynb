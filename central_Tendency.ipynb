{
 "cells": [
  {
   "cell_type": "markdown",
   "id": "064642bb-2d70-4251-a98d-ec75f199b023",
   "metadata": {},
   "source": [
    "## Centeral tendency"
   ]
  },
  {
   "cell_type": "code",
   "execution_count": null,
   "id": "a031cc4f-eb27-4809-a5fc-eb9e54761421",
   "metadata": {},
   "outputs": [],
   "source": []
  },
  {
   "cell_type": "code",
   "execution_count": 1,
   "id": "57ea17d2-2ff9-40c4-aefa-b25737109b75",
   "metadata": {},
   "outputs": [],
   "source": [
    "age=[12,11,23,15,25,9,8,7]"
   ]
  },
  {
   "cell_type": "code",
   "execution_count": 2,
   "id": "0a493112-f8dd-4078-ba5f-06605c75bebc",
   "metadata": {},
   "outputs": [
    {
     "data": {
      "text/plain": [
       "13.75"
      ]
     },
     "execution_count": 2,
     "metadata": {},
     "output_type": "execute_result"
    }
   ],
   "source": [
    "(12+11+23+15+25+9+8+7)/8"
   ]
  },
  {
   "cell_type": "code",
   "execution_count": 3,
   "id": "93ade8df-a61f-4dd8-a43c-bb4fbfd6510c",
   "metadata": {},
   "outputs": [
    {
     "data": {
      "text/plain": [
       "13.75"
      ]
     },
     "execution_count": 3,
     "metadata": {},
     "output_type": "execute_result"
    }
   ],
   "source": [
    "import numpy as np\n",
    "np.mean(age)"
   ]
  },
  {
   "cell_type": "code",
   "execution_count": 12,
   "id": "4853f572-7198-4219-ab81-c0b1dabba30d",
   "metadata": {},
   "outputs": [],
   "source": [
    "weights=[36,67,45,34,12,15,16,1000,36,36]   # here we add outliers 1000 so huge diffrnece in the value of mean \n",
    "# so to avoid it we use meadian"
   ]
  },
  {
   "cell_type": "code",
   "execution_count": 5,
   "id": "07f506f0-ae3d-4a44-95b0-37f2e085c431",
   "metadata": {},
   "outputs": [
    {
     "data": {
      "text/plain": [
       "32.142857142857146"
      ]
     },
     "execution_count": 5,
     "metadata": {},
     "output_type": "execute_result"
    }
   ],
   "source": [
    "np.mean(weights)"
   ]
  },
  {
   "cell_type": "code",
   "execution_count": 7,
   "id": "738f3c46-a8c9-4de2-bb7c-15cc716ede9c",
   "metadata": {},
   "outputs": [
    {
     "data": {
      "text/plain": [
       "153.125"
      ]
     },
     "execution_count": 7,
     "metadata": {},
     "output_type": "execute_result"
    }
   ],
   "source": [
    "np.mean(weights)"
   ]
  },
  {
   "cell_type": "code",
   "execution_count": 9,
   "id": "5dab4fb4-b7d6-4080-862a-61231ed2274c",
   "metadata": {},
   "outputs": [
    {
     "data": {
      "text/plain": [
       "35.0"
      ]
     },
     "execution_count": 9,
     "metadata": {},
     "output_type": "execute_result"
    }
   ],
   "source": [
    "np.median(weights)"
   ]
  },
  {
   "cell_type": "markdown",
   "id": "3dc2ef3b-6a2c-4dcb-a194-3c180a15ac29",
   "metadata": {},
   "source": [
    "## mode"
   ]
  },
  {
   "cell_type": "code",
   "execution_count": 10,
   "id": "81bfd720-9277-438a-a0b3-a2e1d277aead",
   "metadata": {},
   "outputs": [],
   "source": [
    "from scipy import stats "
   ]
  },
  {
   "cell_type": "code",
   "execution_count": 13,
   "id": "6cc65f36-d786-4d51-b43d-4a321b6b7d96",
   "metadata": {},
   "outputs": [
    {
     "name": "stderr",
     "output_type": "stream",
     "text": [
      "/tmp/ipykernel_98/4197893964.py:1: FutureWarning: Unlike other reduction functions (e.g. `skew`, `kurtosis`), the default behavior of `mode` typically preserves the axis it acts along. In SciPy 1.11.0, this behavior will change: the default value of `keepdims` will become False, the `axis` over which the statistic is taken will be eliminated, and the value None will no longer be accepted. Set `keepdims` to True or False to avoid this warning.\n",
      "  stats.mode(weights)\n"
     ]
    },
    {
     "data": {
      "text/plain": [
       "ModeResult(mode=array([36]), count=array([3]))"
      ]
     },
     "execution_count": 13,
     "metadata": {},
     "output_type": "execute_result"
    }
   ],
   "source": [
    "stats.mode(weights)"
   ]
  },
  {
   "cell_type": "code",
   "execution_count": null,
   "id": "c704c310-f676-4c1e-8366-e1e9c4e5a616",
   "metadata": {},
   "outputs": [],
   "source": []
  }
 ],
 "metadata": {
  "kernelspec": {
   "display_name": "Python 3 (ipykernel)",
   "language": "python",
   "name": "python3"
  },
  "language_info": {
   "codemirror_mode": {
    "name": "ipython",
    "version": 3
   },
   "file_extension": ".py",
   "mimetype": "text/x-python",
   "name": "python",
   "nbconvert_exporter": "python",
   "pygments_lexer": "ipython3",
   "version": "3.10.8"
  }
 },
 "nbformat": 4,
 "nbformat_minor": 5
}

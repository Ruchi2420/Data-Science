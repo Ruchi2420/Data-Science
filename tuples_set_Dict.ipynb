{
 "cells": [
  {
   "cell_type": "markdown",
   "id": "df2ccf71-6224-435f-aa1e-7d3c69687e6d",
   "metadata": {},
   "source": [
    "## tuple"
   ]
  },
  {
   "cell_type": "code",
   "execution_count": 1,
   "id": "06d9d9fe-7468-4b3f-8d07-97894486ae5c",
   "metadata": {},
   "outputs": [],
   "source": [
    "a = ()"
   ]
  },
  {
   "cell_type": "code",
   "execution_count": null,
   "id": "36e0f4de-6084-42df-8a6e-bbb7739826af",
   "metadata": {},
   "outputs": [],
   "source": [
    "a = (1,) # tuple with only one element needs a comma"
   ]
  },
  {
   "cell_type": "code",
   "execution_count": 2,
   "id": "9fbf0a73-c449-4d56-8e62-08c501d29dc8",
   "metadata": {},
   "outputs": [],
   "source": [
    "age = (12,24,13,14,23,24)"
   ]
  },
  {
   "cell_type": "code",
   "execution_count": 3,
   "id": "4f024350-912c-4933-9b82-66edc80140e1",
   "metadata": {},
   "outputs": [
    {
     "data": {
      "text/plain": [
       "12"
      ]
     },
     "execution_count": 3,
     "metadata": {},
     "output_type": "execute_result"
    }
   ],
   "source": [
    "age[0]"
   ]
  },
  {
   "cell_type": "code",
   "execution_count": 4,
   "id": "41469bd1-1764-497b-90cc-29a5071ae026",
   "metadata": {},
   "outputs": [
    {
     "data": {
      "text/plain": [
       "(13, 14, 23, 24)"
      ]
     },
     "execution_count": 4,
     "metadata": {},
     "output_type": "execute_result"
    }
   ],
   "source": [
    "age[2:]"
   ]
  },
  {
   "cell_type": "code",
   "execution_count": 5,
   "id": "6cd58e5c-f7df-49f7-9a04-df38663b614e",
   "metadata": {},
   "outputs": [
    {
     "data": {
      "text/plain": [
       "(24, 23, 14, 13, 24, 12)"
      ]
     },
     "execution_count": 5,
     "metadata": {},
     "output_type": "execute_result"
    }
   ],
   "source": [
    "age[::-1]"
   ]
  },
  {
   "cell_type": "code",
   "execution_count": 6,
   "id": "e9020e8f-01fe-4fa6-97de-6ddd7bbbad11",
   "metadata": {},
   "outputs": [
    {
     "data": {
      "text/plain": [
       "1"
      ]
     },
     "execution_count": 6,
     "metadata": {},
     "output_type": "execute_result"
    }
   ],
   "source": [
    "age.index(24)"
   ]
  },
  {
   "cell_type": "code",
   "execution_count": 7,
   "id": "146e53fb-6991-4858-a995-1242bd8ec870",
   "metadata": {},
   "outputs": [
    {
     "data": {
      "text/plain": [
       "2"
      ]
     },
     "execution_count": 7,
     "metadata": {},
     "output_type": "execute_result"
    }
   ],
   "source": [
    "age.count(24)"
   ]
  },
  {
   "cell_type": "code",
   "execution_count": 8,
   "id": "7103f780-2697-40b9-bcfa-60daff190fe1",
   "metadata": {},
   "outputs": [
    {
     "data": {
      "text/plain": [
       "((1, 2, 3, 4, 5), (6, 7, 8, 9))"
      ]
     },
     "execution_count": 8,
     "metadata": {},
     "output_type": "execute_result"
    }
   ],
   "source": [
    "t1 = (1,2,3,4,5)\n",
    "t2 = (6,7,8,9)\n",
    "t3 = (t1,t2)\n",
    "t3"
   ]
  },
  {
   "cell_type": "code",
   "execution_count": 9,
   "id": "de76e8db-842b-445a-b1db-32f5272a7ca7",
   "metadata": {},
   "outputs": [],
   "source": [
    "t4 = (1,2,3,4)"
   ]
  },
  {
   "cell_type": "code",
   "execution_count": 10,
   "id": "f1dcf113-2e60-4b57-a4de-eadfdaf2650e",
   "metadata": {},
   "outputs": [],
   "source": [
    "del t4"
   ]
  },
  {
   "cell_type": "code",
   "execution_count": 11,
   "id": "bff86132-5cb1-4aeb-90c9-f709db8fa044",
   "metadata": {},
   "outputs": [],
   "source": [
    "t1 = (1,2,3,4,5)"
   ]
  },
  {
   "cell_type": "code",
   "execution_count": 12,
   "id": "dd069b4c-4b52-4cb7-9364-03a9477ae220",
   "metadata": {},
   "outputs": [
    {
     "data": {
      "text/plain": [
       "True"
      ]
     },
     "execution_count": 12,
     "metadata": {},
     "output_type": "execute_result"
    }
   ],
   "source": [
    "2 in t1"
   ]
  },
  {
   "cell_type": "code",
   "execution_count": 13,
   "id": "1fcd306a-09b4-486f-9263-e3a9dabf3451",
   "metadata": {},
   "outputs": [
    {
     "data": {
      "text/plain": [
       "False"
      ]
     },
     "execution_count": 13,
     "metadata": {},
     "output_type": "execute_result"
    }
   ],
   "source": [
    "9 in t1"
   ]
  },
  {
   "cell_type": "code",
   "execution_count": 14,
   "id": "8ef4300e-9889-41c1-9643-d88bc276cf57",
   "metadata": {},
   "outputs": [
    {
     "name": "stdout",
     "output_type": "stream",
     "text": [
      "400\n",
      "(200, 300, 400)\n"
     ]
    }
   ],
   "source": [
    "atuple = (100, 200, 300, 400, 500)\n",
    "\n",
    "print(atuple[-2])\n",
    "\n",
    "print(atuple[-4:-1])\n",
    "\n",
    " "
   ]
  },
  {
   "cell_type": "code",
   "execution_count": 15,
   "id": "27aa4157-480b-49cc-beff-a15196ca3b2e",
   "metadata": {},
   "outputs": [
    {
     "name": "stdout",
     "output_type": "stream",
     "text": [
      "<class 'str'>\n"
     ]
    }
   ],
   "source": [
    "atuple = (\"Orange\")\n",
    "\n",
    "print(type(atuple))"
   ]
  },
  {
   "cell_type": "code",
   "execution_count": null,
   "id": "b8d05fcf-05e8-472b-8040-c81b549c28b7",
   "metadata": {},
   "outputs": [],
   "source": []
  },
  {
   "cell_type": "markdown",
   "id": "c78fcad1-783e-411b-90ec-410c790ee6b7",
   "metadata": {},
   "source": [
    "## set"
   ]
  },
  {
   "cell_type": "code",
   "execution_count": null,
   "id": "9272643f-0f4c-4dc1-8f0c-b7440299da5d",
   "metadata": {},
   "outputs": [],
   "source": [
    "s={}"
   ]
  },
  {
   "cell_type": "code",
   "execution_count": 2,
   "id": "9a651e6f-a672-4c19-ae22-66b0ed972aae",
   "metadata": {},
   "outputs": [
    {
     "data": {
      "text/plain": [
       "dict"
      ]
     },
     "execution_count": 2,
     "metadata": {},
     "output_type": "execute_result"
    }
   ],
   "source": [
    "type(s)"
   ]
  },
  {
   "cell_type": "code",
   "execution_count": 3,
   "id": "2712447e-f608-4743-96e9-a5f280ed627b",
   "metadata": {},
   "outputs": [],
   "source": [
    "s1={1,2,3,4,5}"
   ]
  },
  {
   "cell_type": "code",
   "execution_count": 4,
   "id": "898cdc18-a108-4ea4-b168-0c681482b086",
   "metadata": {},
   "outputs": [
    {
     "data": {
      "text/plain": [
       "set"
      ]
     },
     "execution_count": 4,
     "metadata": {},
     "output_type": "execute_result"
    }
   ],
   "source": [
    "type(s1)"
   ]
  },
  {
   "cell_type": "code",
   "execution_count": 5,
   "id": "524d33ca-3ad2-4331-a8f3-582ab8aca7f3",
   "metadata": {},
   "outputs": [],
   "source": [
    "s2={1,1,2,2,3,4,4,4,5,5,6,6,6,7,7,8}"
   ]
  },
  {
   "cell_type": "code",
   "execution_count": 6,
   "id": "2ce16f2d-7575-40e3-8bb2-dcf43f6bab6e",
   "metadata": {},
   "outputs": [
    {
     "data": {
      "text/plain": [
       "{1, 2, 3, 4, 5, 6, 7, 8}"
      ]
     },
     "execution_count": 6,
     "metadata": {},
     "output_type": "execute_result"
    }
   ],
   "source": [
    "s2"
   ]
  },
  {
   "cell_type": "code",
   "execution_count": 10,
   "id": "5b406d81-79c6-471b-ad10-8c3f6a4eac6b",
   "metadata": {},
   "outputs": [],
   "source": [
    "l=list(s2)"
   ]
  },
  {
   "cell_type": "code",
   "execution_count": 8,
   "id": "8d7514c4-1636-44ac-92c9-c0113a67cabc",
   "metadata": {},
   "outputs": [
    {
     "data": {
      "text/plain": [
       "(1, 2, 3, 4, 5, 6, 7, 8)"
      ]
     },
     "execution_count": 8,
     "metadata": {},
     "output_type": "execute_result"
    }
   ],
   "source": [
    "tuple(s2)"
   ]
  },
  {
   "cell_type": "code",
   "execution_count": 11,
   "id": "6ecd1288-77f0-43cb-95a8-2abaa4346bb9",
   "metadata": {},
   "outputs": [
    {
     "data": {
      "text/plain": [
       "{1, 2, 3, 4, 5, 6, 7, 8}"
      ]
     },
     "execution_count": 11,
     "metadata": {},
     "output_type": "execute_result"
    }
   ],
   "source": [
    "set(l)"
   ]
  },
  {
   "cell_type": "code",
   "execution_count": 12,
   "id": "b5008679-a175-48e7-8fb3-152e7c128fee",
   "metadata": {},
   "outputs": [
    {
     "ename": "TypeError",
     "evalue": "unhashable type: 'list'",
     "output_type": "error",
     "traceback": [
      "\u001b[0;31m---------------------------------------------------------------------------\u001b[0m",
      "\u001b[0;31mTypeError\u001b[0m                                 Traceback (most recent call last)",
      "Cell \u001b[0;32mIn[12], line 1\u001b[0m\n\u001b[0;32m----> 1\u001b[0m s4\u001b[38;5;241m=\u001b[39m{\u001b[38;5;241m1\u001b[39m,\u001b[38;5;241m2\u001b[39m,\u001b[38;5;241m3\u001b[39m,\u001b[38;5;241m4\u001b[39m,[\u001b[38;5;241m1\u001b[39m,\u001b[38;5;241m2\u001b[39m,\u001b[38;5;241m3\u001b[39m,\u001b[38;5;241m4\u001b[39m]}\n",
      "\u001b[0;31mTypeError\u001b[0m: unhashable type: 'list'"
     ]
    }
   ],
   "source": [
    "s4={1,2,3,4,[1,2,3,4]}"
   ]
  },
  {
   "cell_type": "code",
   "execution_count": 13,
   "id": "b7b8ff7c-3199-482c-bc26-ffb1da480312",
   "metadata": {},
   "outputs": [
    {
     "data": {
      "text/plain": [
       "{(1, 2, 3, 4), 1, 2, 3, 4}"
      ]
     },
     "execution_count": 13,
     "metadata": {},
     "output_type": "execute_result"
    }
   ],
   "source": [
    "s5={1,2,3,4,(1,2,3,4)}\n",
    "s5"
   ]
  },
  {
   "cell_type": "code",
   "execution_count": 14,
   "id": "30514734-e46d-4bcf-b19b-c2caa30f2d4d",
   "metadata": {},
   "outputs": [],
   "source": [
    "s6={\"ruchi\",\"Ruchi\",1,2,3,4}"
   ]
  },
  {
   "cell_type": "code",
   "execution_count": 15,
   "id": "f5752a36-818a-495a-8e3b-b685f7095a3b",
   "metadata": {},
   "outputs": [
    {
     "data": {
      "text/plain": [
       "{1, 2, 3, 4, 'Ruchi', 'ruchi'}"
      ]
     },
     "execution_count": 15,
     "metadata": {},
     "output_type": "execute_result"
    }
   ],
   "source": [
    "s6"
   ]
  },
  {
   "cell_type": "code",
   "execution_count": 16,
   "id": "2641e634-6246-4d5b-b304-4a037613b22a",
   "metadata": {},
   "outputs": [
    {
     "ename": "TypeError",
     "evalue": "'set' object is not subscriptable",
     "output_type": "error",
     "traceback": [
      "\u001b[0;31m---------------------------------------------------------------------------\u001b[0m",
      "\u001b[0;31mTypeError\u001b[0m                                 Traceback (most recent call last)",
      "Cell \u001b[0;32mIn[16], line 1\u001b[0m\n\u001b[0;32m----> 1\u001b[0m \u001b[43ms6\u001b[49m\u001b[43m[\u001b[49m\u001b[38;5;241;43m0\u001b[39;49m\u001b[43m]\u001b[49m\n",
      "\u001b[0;31mTypeError\u001b[0m: 'set' object is not subscriptable"
     ]
    }
   ],
   "source": [
    "s6[0]"
   ]
  },
  {
   "cell_type": "code",
   "execution_count": 17,
   "id": "9014b50c-e14f-4738-a574-1b4bba9367ad",
   "metadata": {},
   "outputs": [
    {
     "ename": "TypeError",
     "evalue": "'set' object is not subscriptable",
     "output_type": "error",
     "traceback": [
      "\u001b[0;31m---------------------------------------------------------------------------\u001b[0m",
      "\u001b[0;31mTypeError\u001b[0m                                 Traceback (most recent call last)",
      "Cell \u001b[0;32mIn[17], line 1\u001b[0m\n\u001b[0;32m----> 1\u001b[0m \u001b[43ms6\u001b[49m\u001b[43m[\u001b[49m\u001b[43m:\u001b[49m\u001b[43m:\u001b[49m\u001b[38;5;241;43m-\u001b[39;49m\u001b[38;5;241;43m1\u001b[39;49m\u001b[43m]\u001b[49m\n",
      "\u001b[0;31mTypeError\u001b[0m: 'set' object is not subscriptable"
     ]
    }
   ],
   "source": [
    "s6[::-1]"
   ]
  },
  {
   "cell_type": "code",
   "execution_count": 19,
   "id": "0c4ead5d-4305-4569-a0c3-567ef78ca1ed",
   "metadata": {},
   "outputs": [
    {
     "data": {
      "text/plain": [
       "{2, 3, 4, 'ruchi'}"
      ]
     },
     "execution_count": 19,
     "metadata": {},
     "output_type": "execute_result"
    }
   ],
   "source": [
    "s7={2,3,4,\"ruchi\",\"ruchi\"}\n",
    "s7"
   ]
  },
  {
   "cell_type": "code",
   "execution_count": 20,
   "id": "0e581453-c970-449b-b278-96eb057cf8c5",
   "metadata": {},
   "outputs": [
    {
     "name": "stdout",
     "output_type": "stream",
     "text": [
      "ruchi\n",
      "2\n",
      "3\n",
      "4\n"
     ]
    }
   ],
   "source": [
    "for i in s7:\n",
    "    print(i)"
   ]
  },
  {
   "cell_type": "code",
   "execution_count": 23,
   "id": "36f5184d-c90b-42c5-80b7-4ed5f655780c",
   "metadata": {},
   "outputs": [],
   "source": [
    "s7.add(6)"
   ]
  },
  {
   "cell_type": "code",
   "execution_count": 24,
   "id": "aa03bade-94e0-497d-b116-923d23c69506",
   "metadata": {},
   "outputs": [
    {
     "data": {
      "text/plain": [
       "{2, 3, 4, 6, 'ruchi'}"
      ]
     },
     "execution_count": 24,
     "metadata": {},
     "output_type": "execute_result"
    }
   ],
   "source": [
    "s7"
   ]
  },
  {
   "cell_type": "code",
   "execution_count": 26,
   "id": "0d369bb9-9bdc-4044-b299-bed813a9382f",
   "metadata": {},
   "outputs": [
    {
     "data": {
      "text/plain": [
       "'ruchi'"
      ]
     },
     "execution_count": 26,
     "metadata": {},
     "output_type": "execute_result"
    }
   ],
   "source": [
    "s7.pop()"
   ]
  },
  {
   "cell_type": "code",
   "execution_count": 27,
   "id": "cbdbc613-1f74-436c-90b1-cb8e2c5537d2",
   "metadata": {},
   "outputs": [
    {
     "data": {
      "text/plain": [
       "2"
      ]
     },
     "execution_count": 27,
     "metadata": {},
     "output_type": "execute_result"
    }
   ],
   "source": [
    "s7.pop()"
   ]
  },
  {
   "cell_type": "code",
   "execution_count": 28,
   "id": "cf46f6ea-b595-401e-8a9c-f821c4307a1f",
   "metadata": {},
   "outputs": [],
   "source": [
    "s7.clear()"
   ]
  },
  {
   "cell_type": "code",
   "execution_count": 29,
   "id": "90f8f805-6e14-4a46-bc3c-9929f54a8661",
   "metadata": {},
   "outputs": [
    {
     "data": {
      "text/plain": [
       "set()"
      ]
     },
     "execution_count": 29,
     "metadata": {},
     "output_type": "execute_result"
    }
   ],
   "source": [
    "s7"
   ]
  },
  {
   "cell_type": "code",
   "execution_count": 30,
   "id": "08411df5-2eb6-4505-a00a-a547525fcedc",
   "metadata": {},
   "outputs": [],
   "source": [
    "s8={1,2,3,4}\n",
    "s9={1,2,3,5}"
   ]
  },
  {
   "cell_type": "code",
   "execution_count": 31,
   "id": "70d4f46a-a9f1-4808-972a-59c53cdcd089",
   "metadata": {},
   "outputs": [
    {
     "data": {
      "text/plain": [
       "{4}"
      ]
     },
     "execution_count": 31,
     "metadata": {},
     "output_type": "execute_result"
    }
   ],
   "source": [
    "s8.difference(s9)"
   ]
  },
  {
   "cell_type": "code",
   "execution_count": 32,
   "id": "a6299d5e-9eb6-4c89-8c9a-6ffbbb615abc",
   "metadata": {},
   "outputs": [
    {
     "data": {
      "text/plain": [
       "{5}"
      ]
     },
     "execution_count": 32,
     "metadata": {},
     "output_type": "execute_result"
    }
   ],
   "source": [
    "s9.difference(s8)"
   ]
  },
  {
   "cell_type": "code",
   "execution_count": 34,
   "id": "ce633cfa-1eea-4c44-8738-3c0a6af0895c",
   "metadata": {},
   "outputs": [
    {
     "data": {
      "text/plain": [
       "{1, 2, 3, 4}"
      ]
     },
     "execution_count": 34,
     "metadata": {},
     "output_type": "execute_result"
    }
   ],
   "source": [
    "s8.copy()"
   ]
  },
  {
   "cell_type": "markdown",
   "id": "f50d3f1b-cbad-40ca-a03d-a4a2d352e626",
   "metadata": {},
   "source": [
    "### dictionary"
   ]
  },
  {
   "cell_type": "code",
   "execution_count": 1,
   "id": "10564980-1fb3-4614-bc51-52ef9d4d890e",
   "metadata": {},
   "outputs": [],
   "source": [
    "d={}"
   ]
  },
  {
   "cell_type": "code",
   "execution_count": 2,
   "id": "4a2afbdc-6dd6-4caf-9b1e-40bebe1dfc22",
   "metadata": {},
   "outputs": [
    {
     "data": {
      "text/plain": [
       "dict"
      ]
     },
     "execution_count": 2,
     "metadata": {},
     "output_type": "execute_result"
    }
   ],
   "source": [
    "type(d)"
   ]
  },
  {
   "cell_type": "code",
   "execution_count": 3,
   "id": "50eef651-408f-4531-a9bc-f96e76f0e9c4",
   "metadata": {},
   "outputs": [],
   "source": [
    "d1={\"name\":\"sudh\",\"email_id\":\"ruchi\",\"number\":\"1,2,3,4\"}"
   ]
  },
  {
   "cell_type": "code",
   "execution_count": 4,
   "id": "879ce88d-5c49-428d-8d57-2a9344530f0c",
   "metadata": {},
   "outputs": [
    {
     "data": {
      "text/plain": [
       "dict"
      ]
     },
     "execution_count": 4,
     "metadata": {},
     "output_type": "execute_result"
    }
   ],
   "source": [
    "type(d1)"
   ]
  },
  {
   "cell_type": "code",
   "execution_count": 5,
   "id": "c265ff22-c2f8-4adc-9fce-4e7c864c0df5",
   "metadata": {},
   "outputs": [
    {
     "data": {
      "text/plain": [
       "{'name': 'sudh', 'email_id': 'ruchi', 'number': '1,2,3,4'}"
      ]
     },
     "execution_count": 5,
     "metadata": {},
     "output_type": "execute_result"
    }
   ],
   "source": [
    "d1"
   ]
  },
  {
   "cell_type": "code",
   "execution_count": 6,
   "id": "b666d2dc-24ec-476c-a6b8-2d953586e111",
   "metadata": {},
   "outputs": [],
   "source": [
    "d2={\"name\":\"sudh\",\"name\":\"Shudhanshu\"}"
   ]
  },
  {
   "cell_type": "code",
   "execution_count": 7,
   "id": "df395a98-9e47-4f90-94c0-0488528f8c79",
   "metadata": {},
   "outputs": [
    {
     "data": {
      "text/plain": [
       "{'name': 'Shudhanshu'}"
      ]
     },
     "execution_count": 7,
     "metadata": {},
     "output_type": "execute_result"
    }
   ],
   "source": [
    "d2"
   ]
  },
  {
   "cell_type": "code",
   "execution_count": 8,
   "id": "ace1d24a-96da-472b-a191-c3f16710d14c",
   "metadata": {},
   "outputs": [],
   "source": [
    "d3={2345:\"abc\"}"
   ]
  },
  {
   "cell_type": "code",
   "execution_count": 9,
   "id": "df0a5cbd-9093-4e4e-b619-a6678d1f28dc",
   "metadata": {},
   "outputs": [
    {
     "data": {
      "text/plain": [
       "{2345: 'abc'}"
      ]
     },
     "execution_count": 9,
     "metadata": {},
     "output_type": "execute_result"
    }
   ],
   "source": [
    "d3"
   ]
  },
  {
   "cell_type": "code",
   "execution_count": 10,
   "id": "ea6f112c-eb33-40f7-8c9d-4a3ea8ebd1f7",
   "metadata": {},
   "outputs": [],
   "source": [
    "d4={234.45:\"abc\"}"
   ]
  },
  {
   "cell_type": "code",
   "execution_count": 12,
   "id": "71eeebbe-c251-4448-8cd1-764a31c23fa3",
   "metadata": {},
   "outputs": [],
   "source": [
    "d5={True:\"abc\"}"
   ]
  },
  {
   "cell_type": "code",
   "execution_count": 13,
   "id": "f82d3d91-f35a-43b9-b59e-a879a535d874",
   "metadata": {},
   "outputs": [
    {
     "data": {
      "text/plain": [
       "{True: 'abc'}"
      ]
     },
     "execution_count": 13,
     "metadata": {},
     "output_type": "execute_result"
    }
   ],
   "source": [
    "d5"
   ]
  },
  {
   "cell_type": "code",
   "execution_count": 14,
   "id": "3bf11d60-30fe-4065-a6f8-36ff74168f29",
   "metadata": {},
   "outputs": [
    {
     "ename": "SyntaxError",
     "evalue": "incomplete input (1353984782.py, line 1)",
     "output_type": "error",
     "traceback": [
      "\u001b[0;36m  Cell \u001b[0;32mIn[14], line 1\u001b[0;36m\u001b[0m\n\u001b[0;31m    d7={# : \"abc\"}\u001b[0m\n\u001b[0m                  ^\u001b[0m\n\u001b[0;31mSyntaxError\u001b[0m\u001b[0;31m:\u001b[0m incomplete input\n"
     ]
    }
   ],
   "source": [
    "d7={# : \"abc\"}"
   ]
  },
  {
   "cell_type": "code",
   "execution_count": 15,
   "id": "eb96b939-70fb-4491-bf11-f65fe9d1a1e3",
   "metadata": {},
   "outputs": [
    {
     "ename": "SyntaxError",
     "evalue": "invalid syntax (3593400180.py, line 1)",
     "output_type": "error",
     "traceback": [
      "\u001b[0;36m  Cell \u001b[0;32mIn[15], line 1\u001b[0;36m\u001b[0m\n\u001b[0;31m    d8={@ : \"abc\"}\u001b[0m\n\u001b[0m        ^\u001b[0m\n\u001b[0;31mSyntaxError\u001b[0m\u001b[0;31m:\u001b[0m invalid syntax\n"
     ]
    }
   ],
   "source": [
    "d8={@ : \"abc\"}"
   ]
  },
  {
   "cell_type": "code",
   "execution_count": 16,
   "id": "57fc6905-bfb2-48a4-91c1-2be9681fc17c",
   "metadata": {},
   "outputs": [
    {
     "ename": "TypeError",
     "evalue": "unhashable type: 'list'",
     "output_type": "error",
     "traceback": [
      "\u001b[0;31m---------------------------------------------------------------------------\u001b[0m",
      "\u001b[0;31mTypeError\u001b[0m                                 Traceback (most recent call last)",
      "Cell \u001b[0;32mIn[16], line 1\u001b[0m\n\u001b[0;32m----> 1\u001b[0m d6 \u001b[38;5;241m=\u001b[39m {[\u001b[38;5;241m12345\u001b[39m] : \u001b[38;5;124m\"\u001b[39m\u001b[38;5;124mabc\u001b[39m\u001b[38;5;124m\"\u001b[39m}\n",
      "\u001b[0;31mTypeError\u001b[0m: unhashable type: 'list'"
     ]
    }
   ],
   "source": [
    "d6 = {[12345] : \"abc\"}"
   ]
  },
  {
   "cell_type": "code",
   "execution_count": 17,
   "id": "9684a11a-664d-4e98-9ff6-beeb3d901872",
   "metadata": {},
   "outputs": [],
   "source": [
    "d9 = {(1,2,3,4):\"abc\"}"
   ]
  },
  {
   "cell_type": "code",
   "execution_count": 18,
   "id": "5c88e428-e0ec-4972-9c02-52fbf93b0aa3",
   "metadata": {},
   "outputs": [
    {
     "data": {
      "text/plain": [
       "{(1, 2, 3, 4): 'abc'}"
      ]
     },
     "execution_count": 18,
     "metadata": {},
     "output_type": "execute_result"
    }
   ],
   "source": [
    "d9"
   ]
  },
  {
   "cell_type": "code",
   "execution_count": 19,
   "id": "7d0a353b-7b91-40ad-a305-caf466eaf7a6",
   "metadata": {},
   "outputs": [
    {
     "ename": "TypeError",
     "evalue": "unhashable type: 'set'",
     "output_type": "error",
     "traceback": [
      "\u001b[0;31m---------------------------------------------------------------------------\u001b[0m",
      "\u001b[0;31mTypeError\u001b[0m                                 Traceback (most recent call last)",
      "Cell \u001b[0;32mIn[19], line 1\u001b[0m\n\u001b[0;32m----> 1\u001b[0m d10\u001b[38;5;241m=\u001b[39m{{\u001b[38;5;241m1\u001b[39m,\u001b[38;5;241m2\u001b[39m,\u001b[38;5;241m3\u001b[39m,\u001b[38;5;241m4\u001b[39m}: \u001b[38;5;124m\"\u001b[39m\u001b[38;5;124mabc\u001b[39m\u001b[38;5;124m\"\u001b[39m}\n",
      "\u001b[0;31mTypeError\u001b[0m: unhashable type: 'set'"
     ]
    }
   ],
   "source": [
    "d10={{1,2,3,4}: \"abc\"}"
   ]
  },
  {
   "cell_type": "code",
   "execution_count": 22,
   "id": "00a78bd5-c848-40b2-bd07-477626e85c1f",
   "metadata": {},
   "outputs": [
    {
     "ename": "TypeError",
     "evalue": "unhashable type: 'dict'",
     "output_type": "error",
     "traceback": [
      "\u001b[0;31m---------------------------------------------------------------------------\u001b[0m",
      "\u001b[0;31mTypeError\u001b[0m                                 Traceback (most recent call last)",
      "Cell \u001b[0;32mIn[22], line 1\u001b[0m\n\u001b[0;32m----> 1\u001b[0m d11\u001b[38;5;241m=\u001b[39m{{\u001b[38;5;124m\"\u001b[39m\u001b[38;5;124mkey\u001b[39m\u001b[38;5;124m\"\u001b[39m:\u001b[38;5;241m123\u001b[39m}: \u001b[38;5;124m\"\u001b[39m\u001b[38;5;124mabc\u001b[39m\u001b[38;5;124m\"\u001b[39m}\n",
      "\u001b[0;31mTypeError\u001b[0m: unhashable type: 'dict'"
     ]
    }
   ],
   "source": [
    "d11={{\"key\":123}: \"abc\"}"
   ]
  },
  {
   "cell_type": "code",
   "execution_count": 23,
   "id": "49d5aebe-dc45-40f4-8936-288044e78a92",
   "metadata": {},
   "outputs": [],
   "source": [
    "d12={\"course_name\": [\"data science master\",\"web dev\",\"java with dsa and system Design\"]}"
   ]
  },
  {
   "cell_type": "code",
   "execution_count": 24,
   "id": "542a0b8d-d31d-4a07-88da-9921b46da00d",
   "metadata": {},
   "outputs": [
    {
     "data": {
      "text/plain": [
       "{'course_name': ['data science master',\n",
       "  'web dev',\n",
       "  'java with dsa and system Design']}"
      ]
     },
     "execution_count": 24,
     "metadata": {},
     "output_type": "execute_result"
    }
   ],
   "source": [
    "d12"
   ]
  },
  {
   "cell_type": "code",
   "execution_count": 1,
   "id": "baecd5ff-9fad-4387-bc6e-0153357ab3a7",
   "metadata": {},
   "outputs": [],
   "source": [
    "d13={\"key\":(1,2,3,4)}"
   ]
  },
  {
   "cell_type": "code",
   "execution_count": 2,
   "id": "622cd9d0-eeb5-4dc9-902e-8acbca85c08c",
   "metadata": {},
   "outputs": [],
   "source": [
    "d14={\"key\":{1,2,3,4}}"
   ]
  },
  {
   "cell_type": "code",
   "execution_count": 32,
   "id": "76b348a7-6cbb-4a07-a22e-7f88428728dd",
   "metadata": {},
   "outputs": [
    {
     "data": {
      "text/plain": [
       "{'key': {'name': 'Sudhanshu', 'class': 'DSM'}}"
      ]
     },
     "execution_count": 32,
     "metadata": {},
     "output_type": "execute_result"
    }
   ],
   "source": [
    "d15={\"key\": {\"name\" : \"Sudhanshu\",\"class\":\"DSM\"}}\n",
    "d15"
   ]
  },
  {
   "cell_type": "code",
   "execution_count": 3,
   "id": "be7b294c-3f26-4837-b0f0-1ec366cacab5",
   "metadata": {},
   "outputs": [],
   "source": [
    "d16={\"batch_name\" : [\"data science masters\",\"web dev\",\"JDS\"], \"start_date\": (22,14,16),\"mentor_name\":{\"krish\",\"sudhanshu\",\"ruchi\",\"naveen\",\"suhani\"}}"
   ]
  },
  {
   "cell_type": "code",
   "execution_count": 4,
   "id": "42357d2b-8f3a-4a2b-9cfb-ba71e20eb8b9",
   "metadata": {},
   "outputs": [
    {
     "data": {
      "text/plain": [
       "{'batch_name': ['data science masters', 'web dev', 'JDS'],\n",
       " 'start_date': (22, 14, 16),\n",
       " 'mentor_name': {'krish', 'naveen', 'ruchi', 'sudhanshu', 'suhani'}}"
      ]
     },
     "execution_count": 4,
     "metadata": {},
     "output_type": "execute_result"
    }
   ],
   "source": [
    "d16"
   ]
  },
  {
   "cell_type": "code",
   "execution_count": 8,
   "id": "1b971764-74d6-4fcc-83d2-93020ee9990f",
   "metadata": {},
   "outputs": [
    {
     "data": {
      "text/plain": [
       "{'batch_name': ['data science masters', 'web dev', 'JDS'],\n",
       " 'start_date': (22, 14, 16),\n",
       " 'mentor_name': {'krish', 'naveen', 'ruchi', 'sudhanshu', 'suhani'},\n",
       " 'timig': (8, 8, 8)}"
      ]
     },
     "execution_count": 8,
     "metadata": {},
     "output_type": "execute_result"
    }
   ],
   "source": [
    "d16[\"timig\"]=(8,8,8)\n",
    "d16"
   ]
  },
  {
   "cell_type": "code",
   "execution_count": 9,
   "id": "993e96ea-f60b-4163-adb1-b2363766cb50",
   "metadata": {},
   "outputs": [
    {
     "data": {
      "text/plain": [
       "{'krish', 'naveen', 'ruchi', 'sudhanshu', 'suhani'}"
      ]
     },
     "execution_count": 9,
     "metadata": {},
     "output_type": "execute_result"
    }
   ],
   "source": [
    "d16['mentor_name']"
   ]
  },
  {
   "cell_type": "code",
   "execution_count": 47,
   "id": "91188375-1fed-47e1-9da0-0b9153003ba1",
   "metadata": {},
   "outputs": [],
   "source": [
    "d16[\"sex\"] = ('F','M')"
   ]
  },
  {
   "cell_type": "code",
   "execution_count": 11,
   "id": "3a4d0d05-949b-488d-8258-7025a30b7570",
   "metadata": {},
   "outputs": [
    {
     "data": {
      "text/plain": [
       "{'batch_name': ['data science masters', 'web dev', 'JDS'],\n",
       " 'start_date': (22, 14, 16),\n",
       " 'mentor_name': {'krish', 'naveen', 'ruchi', 'sudhanshu', 'suhani'},\n",
       " 'timig': (8, 8, 8),\n",
       " 'sex': ('F', 'M')}"
      ]
     },
     "execution_count": 11,
     "metadata": {},
     "output_type": "execute_result"
    }
   ],
   "source": [
    "d16"
   ]
  },
  {
   "cell_type": "code",
   "execution_count": 16,
   "id": "a9ee414d-3bc5-4450-8c36-2ef903420ea3",
   "metadata": {},
   "outputs": [
    {
     "data": {
      "text/plain": [
       "{'key': {'name': 'Sudhanshu', 'class': 'DSM'}, 'key1': 'abc'}"
      ]
     },
     "execution_count": 16,
     "metadata": {},
     "output_type": "execute_result"
    }
   ],
   "source": [
    "d15[\"key1\"] = \"abc\"   ##add the new key and value\n",
    "d15"
   ]
  },
  {
   "cell_type": "code",
   "execution_count": 17,
   "id": "cbf2799e-4265-40ae-9462-13af8202241a",
   "metadata": {},
   "outputs": [
    {
     "data": {
      "text/plain": [
       "{'key': {'name': 'Sudhanshu', 'class': 'DSM'}}"
      ]
     },
     "execution_count": 17,
     "metadata": {},
     "output_type": "execute_result"
    }
   ],
   "source": [
    "del d15['key1']\n",
    "d15"
   ]
  },
  {
   "cell_type": "code",
   "execution_count": 18,
   "id": "92c11305-b882-40e6-a347-4ad78f3fc50e",
   "metadata": {},
   "outputs": [
    {
     "data": {
      "text/plain": [
       "{}"
      ]
     },
     "execution_count": 18,
     "metadata": {},
     "output_type": "execute_result"
    }
   ],
   "source": [
    "d15.clear()\n",
    "d15"
   ]
  },
  {
   "cell_type": "code",
   "execution_count": 19,
   "id": "fef0ebb9-3896-4589-8484-bc340d7d6570",
   "metadata": {},
   "outputs": [
    {
     "data": {
      "text/plain": [
       "5"
      ]
     },
     "execution_count": 19,
     "metadata": {},
     "output_type": "execute_result"
    }
   ],
   "source": [
    "len(d16)"
   ]
  },
  {
   "cell_type": "code",
   "execution_count": 20,
   "id": "e42e7af1-4fde-449a-b24d-8b25ab20547e",
   "metadata": {},
   "outputs": [
    {
     "data": {
      "text/plain": [
       "{'batch_name': ['data science masters', 'web dev', 'JDS'],\n",
       " 'start_date': (22, 14, 16),\n",
       " 'mentor_name': {'krish', 'naveen', 'ruchi', 'sudhanshu', 'suhani'},\n",
       " 'timig': (8, 8, 8),\n",
       " 'sex': ('F', 'M')}"
      ]
     },
     "execution_count": 20,
     "metadata": {},
     "output_type": "execute_result"
    }
   ],
   "source": [
    "d16"
   ]
  },
  {
   "cell_type": "code",
   "execution_count": 21,
   "id": "0a2fe809-ea67-4ccd-b0f4-40c2b46313c6",
   "metadata": {},
   "outputs": [
    {
     "data": {
      "text/plain": [
       "dict_keys(['batch_name', 'start_date', 'mentor_name', 'timig', 'sex'])"
      ]
     },
     "execution_count": 21,
     "metadata": {},
     "output_type": "execute_result"
    }
   ],
   "source": [
    "d16.keys()"
   ]
  },
  {
   "cell_type": "code",
   "execution_count": 22,
   "id": "1396e0e9-9e3c-44d0-b184-e7b67f4cb365",
   "metadata": {},
   "outputs": [
    {
     "data": {
      "text/plain": [
       "dict_values([['data science masters', 'web dev', 'JDS'], (22, 14, 16), {'naveen', 'krish', 'suhani', 'ruchi', 'sudhanshu'}, (8, 8, 8), ('F', 'M')])"
      ]
     },
     "execution_count": 22,
     "metadata": {},
     "output_type": "execute_result"
    }
   ],
   "source": [
    "d16.values()"
   ]
  },
  {
   "cell_type": "code",
   "execution_count": 23,
   "id": "fd52184f-4e07-4dee-a09d-985ccf54484b",
   "metadata": {},
   "outputs": [
    {
     "data": {
      "text/plain": [
       "[['data science masters', 'web dev', 'JDS'],\n",
       " (22, 14, 16),\n",
       " {'krish', 'naveen', 'ruchi', 'sudhanshu', 'suhani'},\n",
       " (8, 8, 8),\n",
       " ('F', 'M')]"
      ]
     },
     "execution_count": 23,
     "metadata": {},
     "output_type": "execute_result"
    }
   ],
   "source": [
    "list(d16.values())"
   ]
  },
  {
   "cell_type": "code",
   "execution_count": 25,
   "id": "9abc7908-5bcd-4edf-b13a-5ff61c91da0e",
   "metadata": {},
   "outputs": [
    {
     "data": {
      "text/plain": [
       "['batch_name', 'start_date', 'mentor_name', 'timig', 'sex']"
      ]
     },
     "execution_count": 25,
     "metadata": {},
     "output_type": "execute_result"
    }
   ],
   "source": [
    "list(d16.keys())"
   ]
  },
  {
   "cell_type": "code",
   "execution_count": 33,
   "id": "9b800ce4-f6cf-4ff0-8fe5-00e0d1e65124",
   "metadata": {},
   "outputs": [
    {
     "data": {
      "text/plain": [
       "dict"
      ]
     },
     "execution_count": 33,
     "metadata": {},
     "output_type": "execute_result"
    }
   ],
   "source": [
    "type(d15['key'])\n"
   ]
  },
  {
   "cell_type": "code",
   "execution_count": 34,
   "id": "c155d87f-6d4d-4bc6-9ae9-a9a353326b94",
   "metadata": {},
   "outputs": [
    {
     "data": {
      "text/plain": [
       "'DSM'"
      ]
     },
     "execution_count": 34,
     "metadata": {},
     "output_type": "execute_result"
    }
   ],
   "source": [
    "d15['key']['class']"
   ]
  },
  {
   "cell_type": "code",
   "execution_count": 36,
   "id": "56495464-a3f7-426a-9036-85f86e059df3",
   "metadata": {},
   "outputs": [
    {
     "data": {
      "text/plain": [
       "[('batch_name', ['data science masters', 'web dev', 'JDS']),\n",
       " ('start_date', (22, 14, 16)),\n",
       " ('mentor_name', {'krish', 'naveen', 'ruchi', 'sudhanshu', 'suhani'}),\n",
       " ('timig', (8, 8, 8)),\n",
       " ('sex', ('F', 'M'))]"
      ]
     },
     "execution_count": 36,
     "metadata": {},
     "output_type": "execute_result"
    }
   ],
   "source": [
    "list(d16.items())"
   ]
  },
  {
   "cell_type": "code",
   "execution_count": 38,
   "id": "2ede87b3-3a39-4a2c-a719-3363de6e996d",
   "metadata": {},
   "outputs": [],
   "source": [
    "d17=d16.copy()  "
   ]
  },
  {
   "cell_type": "markdown",
   "id": "97ac650b-860c-4b3e-82c0-8208b4ee3b78",
   "metadata": {},
   "source": [
    "#### copy will do deep copy approch means copy the data into new memory space where d18 follow sollow copy means dont try to replicate a thing into new memory"
   ]
  },
  {
   "cell_type": "code",
   "execution_count": 39,
   "id": "3fb3177b-fadc-4f11-aebd-eea72e39cd5a",
   "metadata": {},
   "outputs": [
    {
     "data": {
      "text/plain": [
       "{'batch_name': ['data science masters', 'web dev', 'JDS'],\n",
       " 'start_date': (22, 14, 16),\n",
       " 'mentor_name': {'krish', 'naveen', 'ruchi', 'sudhanshu', 'suhani'},\n",
       " 'timig': (8, 8, 8),\n",
       " 'sex': ('F', 'M')}"
      ]
     },
     "execution_count": 39,
     "metadata": {},
     "output_type": "execute_result"
    }
   ],
   "source": [
    "d17"
   ]
  },
  {
   "cell_type": "code",
   "execution_count": 48,
   "id": "1f5053df-fc10-4b9f-945a-3baf1b377839",
   "metadata": {},
   "outputs": [
    {
     "data": {
      "text/plain": [
       "{'batch_name': ['data science masters', 'web dev', 'JDS'],\n",
       " 'start_date': (22, 14, 16),\n",
       " 'mentor_name': {'krish', 'naveen', 'ruchi', 'sudhanshu', 'suhani'},\n",
       " 'timig': (8, 8, 8)}"
      ]
     },
     "execution_count": 48,
     "metadata": {},
     "output_type": "execute_result"
    }
   ],
   "source": [
    "del d16[\"sex\"]\n",
    "d16"
   ]
  },
  {
   "cell_type": "code",
   "execution_count": 49,
   "id": "04f848e7-570a-401d-a42e-419b7ff460bd",
   "metadata": {},
   "outputs": [
    {
     "data": {
      "text/plain": [
       "{'batch_name': ['data science masters', 'web dev', 'JDS'],\n",
       " 'start_date': (22, 14, 16),\n",
       " 'mentor_name': {'krish', 'naveen', 'ruchi', 'sudhanshu', 'suhani'},\n",
       " 'timig': (8, 8, 8),\n",
       " 'sex': ('F', 'M')}"
      ]
     },
     "execution_count": 49,
     "metadata": {},
     "output_type": "execute_result"
    }
   ],
   "source": [
    "d17"
   ]
  },
  {
   "cell_type": "code",
   "execution_count": 51,
   "id": "4461072c-8e7c-4717-ad46-b324de14c6b9",
   "metadata": {},
   "outputs": [],
   "source": [
    "d18 = d16"
   ]
  },
  {
   "cell_type": "code",
   "execution_count": 52,
   "id": "108f66f7-b7f9-49ba-9df6-ecb45f1f037e",
   "metadata": {},
   "outputs": [
    {
     "data": {
      "text/plain": [
       "{'batch_name': ['data science masters', 'web dev', 'JDS'],\n",
       " 'start_date': (22, 14, 16),\n",
       " 'mentor_name': {'krish', 'naveen', 'ruchi', 'sudhanshu', 'suhani'},\n",
       " 'timig': (8, 8, 8)}"
      ]
     },
     "execution_count": 52,
     "metadata": {},
     "output_type": "execute_result"
    }
   ],
   "source": [
    "d18"
   ]
  },
  {
   "cell_type": "code",
   "execution_count": 53,
   "id": "7922e314-d56e-4aca-9bfc-0a0af00c3778",
   "metadata": {},
   "outputs": [
    {
     "data": {
      "text/plain": [
       "{'batch_name': ['data science masters', 'web dev', 'JDS'],\n",
       " 'start_date': (22, 14, 16),\n",
       " 'mentor_name': {'krish', 'naveen', 'ruchi', 'sudhanshu', 'suhani'},\n",
       " 'timig': (8, 8, 8)}"
      ]
     },
     "execution_count": 53,
     "metadata": {},
     "output_type": "execute_result"
    }
   ],
   "source": [
    "d16"
   ]
  },
  {
   "cell_type": "code",
   "execution_count": 56,
   "id": "9493e0f5-a76b-40c3-a223-12d0eb034bd5",
   "metadata": {},
   "outputs": [
    {
     "data": {
      "text/plain": [
       "(8, 8, 8)"
      ]
     },
     "execution_count": 56,
     "metadata": {},
     "output_type": "execute_result"
    }
   ],
   "source": [
    "d16.pop('timig')"
   ]
  },
  {
   "cell_type": "code",
   "execution_count": 57,
   "id": "5851d032-9907-42f8-ba54-52986cadf61d",
   "metadata": {},
   "outputs": [
    {
     "data": {
      "text/plain": [
       "{'batch_name': ['data science masters', 'web dev', 'JDS'],\n",
       " 'start_date': (22, 14, 16),\n",
       " 'mentor_name': {'krish', 'naveen', 'ruchi', 'sudhanshu', 'suhani'}}"
      ]
     },
     "execution_count": 57,
     "metadata": {},
     "output_type": "execute_result"
    }
   ],
   "source": [
    "d16"
   ]
  },
  {
   "cell_type": "code",
   "execution_count": 60,
   "id": "e5a5cba0-b6d8-4235-8e5e-206f06b330e1",
   "metadata": {},
   "outputs": [
    {
     "data": {
      "text/plain": [
       "{1: ('a', 'b', 'c'), 2: ('a', 'b', 'c'), 3: ('a', 'b', 'c')}"
      ]
     },
     "execution_count": 60,
     "metadata": {},
     "output_type": "execute_result"
    }
   ],
   "source": [
    "d = {}\n",
    "d.fromkeys((1,2,3),('a','b','c'))"
   ]
  },
  {
   "cell_type": "code",
   "execution_count": 61,
   "id": "3a355cff-581d-41c9-a8a9-30aa25c227e4",
   "metadata": {},
   "outputs": [],
   "source": [
    "d19 = {\"key1\" : \"value1\" , \"key2\" : \"value2\"}\n",
    "d20 = {\"key3\" : \"value3\" , \"key4\" : \"value4\"}"
   ]
  },
  {
   "cell_type": "code",
   "execution_count": 62,
   "id": "58945a19-c30f-4599-810e-c9e8deb1269b",
   "metadata": {},
   "outputs": [
    {
     "data": {
      "text/plain": [
       "({'key1': 'value1', 'key2': 'value2'}, {'key3': 'value3', 'key4': 'value4'})"
      ]
     },
     "execution_count": 62,
     "metadata": {},
     "output_type": "execute_result"
    }
   ],
   "source": [
    "(d19,d20)"
   ]
  },
  {
   "cell_type": "code",
   "execution_count": 63,
   "id": "e0623ec9-66d6-4065-adc1-d7b050e64a16",
   "metadata": {},
   "outputs": [],
   "source": [
    "d19.update(d20)   "
   ]
  },
  {
   "cell_type": "markdown",
   "id": "61515b9d-b826-4c43-bc84-1600f0474d39",
   "metadata": {},
   "source": [
    "#### update the unique value in the exsisting dictionary"
   ]
  },
  {
   "cell_type": "code",
   "execution_count": 64,
   "id": "86dd9395-e7ef-4d05-95c3-750f29b38e86",
   "metadata": {},
   "outputs": [
    {
     "data": {
      "text/plain": [
       "{'key1': 'value1', 'key2': 'value2', 'key3': 'value3', 'key4': 'value4'}"
      ]
     },
     "execution_count": 64,
     "metadata": {},
     "output_type": "execute_result"
    }
   ],
   "source": [
    "d19"
   ]
  },
  {
   "cell_type": "code",
   "execution_count": 65,
   "id": "7568b8e0-87a1-4a9e-9f54-b67760547b4d",
   "metadata": {},
   "outputs": [
    {
     "data": {
      "text/plain": [
       "{'key3': 'value3', 'key4': 'value4', 'key1': 'value1', 'key2': 'value2'}"
      ]
     },
     "execution_count": 65,
     "metadata": {},
     "output_type": "execute_result"
    }
   ],
   "source": [
    "d20.update(d19)\n",
    "d20"
   ]
  },
  {
   "cell_type": "code",
   "execution_count": 66,
   "id": "ff62b775-5164-46b2-ac8d-4f6ffd41b977",
   "metadata": {},
   "outputs": [],
   "source": [
    "d20.get(\"sudh\")"
   ]
  },
  {
   "cell_type": "code",
   "execution_count": 72,
   "id": "96b5e6a6-9706-4335-ad97-9ee031e646ef",
   "metadata": {},
   "outputs": [
    {
     "data": {
      "text/plain": [
       "'value3'"
      ]
     },
     "execution_count": 72,
     "metadata": {},
     "output_type": "execute_result"
    }
   ],
   "source": [
    "d20.get(\"key3\")"
   ]
  },
  {
   "cell_type": "code",
   "execution_count": null,
   "id": "0392f323-f8d2-4882-b274-c609c6509048",
   "metadata": {},
   "outputs": [],
   "source": [
    "d20[\"key3\"]"
   ]
  },
  {
   "cell_type": "code",
   "execution_count": 73,
   "id": "3ca76ab3-499b-44dd-857d-0d64bd3898cb",
   "metadata": {},
   "outputs": [
    {
     "ename": "KeyError",
     "evalue": "'sudh'",
     "output_type": "error",
     "traceback": [
      "\u001b[0;31m---------------------------------------------------------------------------\u001b[0m",
      "\u001b[0;31mKeyError\u001b[0m                                  Traceback (most recent call last)",
      "Cell \u001b[0;32mIn[73], line 1\u001b[0m\n\u001b[0;32m----> 1\u001b[0m \u001b[43md20\u001b[49m\u001b[43m[\u001b[49m\u001b[38;5;124;43m\"\u001b[39;49m\u001b[38;5;124;43msudh\u001b[39;49m\u001b[38;5;124;43m\"\u001b[39;49m\u001b[43m]\u001b[49m\n",
      "\u001b[0;31mKeyError\u001b[0m: 'sudh'"
     ]
    }
   ],
   "source": [
    "d20[\"sudh\"]"
   ]
  },
  {
   "cell_type": "markdown",
   "id": "83577d37-d02f-4aa0-ab0f-68bb843b40a1",
   "metadata": {},
   "source": [
    "#### dictionary comprehension"
   ]
  },
  {
   "cell_type": "code",
   "execution_count": 85,
   "id": "9ca3fc6c-26df-4ba2-a219-f0284c9ea0c2",
   "metadata": {},
   "outputs": [
    {
     "data": {
      "text/plain": [
       "{1: 1, 2: 4, 3: 9, 4: 16, 5: 25, 6: 36, 7: 49, 8: 64, 9: 81, 10: 100}"
      ]
     },
     "execution_count": 85,
     "metadata": {},
     "output_type": "execute_result"
    }
   ],
   "source": [
    "{i : i**2 for i in range(1,11)}"
   ]
  },
  {
   "cell_type": "code",
   "execution_count": 84,
   "id": "1576242b-5ff6-4e34-88fe-00a209dd628c",
   "metadata": {},
   "outputs": [
    {
     "data": {
      "text/plain": [
       "[1, 2, 3, 4, 5, 6, 7, 8, 9, 10]"
      ]
     },
     "execution_count": 84,
     "metadata": {},
     "output_type": "execute_result"
    }
   ],
   "source": [
    "list(range(1,11))"
   ]
  },
  {
   "cell_type": "code",
   "execution_count": null,
   "id": "5368b88a-1858-4478-8a05-af2ba2a3a7dc",
   "metadata": {},
   "outputs": [],
   "source": [
    "{i : i+10 for i in range(1,11)}"
   ]
  },
  {
   "cell_type": "code",
   "execution_count": null,
   "id": "7dcb16d2-31ce-4c27-8b62-3c6cfaf96bd6",
   "metadata": {},
   "outputs": [],
   "source": [
    "import math\n",
    "{i :math.log10(i) for i in range(1,11)}"
   ]
  },
  {
   "cell_type": "code",
   "execution_count": null,
   "id": "68802b24-b9ca-4f5c-8f8b-ba5f50a3f1fe",
   "metadata": {},
   "outputs": [],
   "source": [
    "d21 = {i :math.log10(i) for i in range(1,11)}"
   ]
  },
  {
   "cell_type": "code",
   "execution_count": null,
   "id": "7ec86808-ba9a-4139-87d4-54a79c3c65ca",
   "metadata": {},
   "outputs": [],
   "source": [
    "d21.keys()"
   ]
  },
  {
   "cell_type": "code",
   "execution_count": 16,
   "id": "3b65ee80-4172-4e30-b1a0-6a03accd0c72",
   "metadata": {},
   "outputs": [
    {
     "name": "stdout",
     "output_type": "stream",
     "text": [
      "True\n"
     ]
    }
   ],
   "source": [
    "dict1 = {\"key1\":1, \"key2\":2}\n",
    "\n",
    "dict2 = {\"key2\":2, \"key1\":1}\n",
    "\n",
    "print(dict1 == dict2)"
   ]
  },
  {
   "cell_type": "code",
   "execution_count": null,
   "id": "4b3b3bd8-ec21-4275-94ca-ae665917a70b",
   "metadata": {},
   "outputs": [],
   "source": []
  }
 ],
 "metadata": {
  "kernelspec": {
   "display_name": "Python 3 (ipykernel)",
   "language": "python",
   "name": "python3"
  },
  "language_info": {
   "codemirror_mode": {
    "name": "ipython",
    "version": 3
   },
   "file_extension": ".py",
   "mimetype": "text/x-python",
   "name": "python",
   "nbconvert_exporter": "python",
   "pygments_lexer": "ipython3",
   "version": "3.10.8"
  }
 },
 "nbformat": 4,
 "nbformat_minor": 5
}

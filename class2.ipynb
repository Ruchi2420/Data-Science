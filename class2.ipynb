{
 "cells": [
  {
   "cell_type": "code",
   "execution_count": 2,
   "id": "5fb12581-6f84-484a-890a-66f61a6b20b2",
   "metadata": {},
   "outputs": [
    {
     "name": "stdout",
     "output_type": "stream",
     "text": [
      "this is my age: 32\n"
     ]
    }
   ],
   "source": [
    "age = 32\n",
    "print(\"this is my age:\", age)"
   ]
  },
  {
   "cell_type": "markdown",
   "id": "4ddb8199-2f22-470d-a1ee-21f1a744fb66",
   "metadata": {},
   "source": [
    "### F string are more readable, more concise, and less prone to error than other ways of formatting, but they are also faster!"
   ]
  },
  {
   "cell_type": "code",
   "execution_count": 4,
   "id": "d0152266-eea7-44b6-9b54-f789384a9533",
   "metadata": {},
   "outputs": [
    {
     "name": "stdout",
     "output_type": "stream",
     "text": [
      "This is my age 22\n"
     ]
    }
   ],
   "source": [
    "years_old = 22\n",
    "print(f\"This is my age {years_old}\")"
   ]
  },
  {
   "cell_type": "markdown",
   "id": "6d60186f-6ac0-43bb-803a-750515192b4f",
   "metadata": {},
   "source": [
    "##format"
   ]
  },
  {
   "cell_type": "code",
   "execution_count": 7,
   "id": "693a9b91-7005-4b42-a40b-31a4e7255db9",
   "metadata": {},
   "outputs": [
    {
     "name": "stdout",
     "output_type": "stream",
     "text": [
      "my name is Ruchi and age is 23\n"
     ]
    }
   ],
   "source": [
    "name = \"Ruchi\"\n",
    "age = 23\n",
    "print(\"my name is {} and age is {}\".format(name,age))"
   ]
  },
  {
   "cell_type": "code",
   "execution_count": 8,
   "id": "260375c6-ff36-429b-ad7b-45955e7458be",
   "metadata": {},
   "outputs": [
    {
     "name": "stdout",
     "output_type": "stream",
     "text": [
      "my name is 23 and age is Ruchi\n"
     ]
    }
   ],
   "source": [
    "name = \"Ruchi\"\n",
    "age = 23\n",
    "print(\"my name is {} and age is {}\".format(age,name))"
   ]
  },
  {
   "cell_type": "markdown",
   "id": "67dd95ee-71a8-43ef-bc8b-8c911562c882",
   "metadata": {},
   "source": [
    "#placeholder"
   ]
  },
  {
   "cell_type": "code",
   "execution_count": 10,
   "id": "a3e12695-7440-438b-8b5b-135a59b60c4b",
   "metadata": {},
   "outputs": [
    {
     "name": "stdout",
     "output_type": "stream",
     "text": [
      "my name is Ruchi and age is 23\n"
     ]
    }
   ],
   "source": [
    "name = \"Ruchi\"\n",
    "age = 23\n",
    "print(\"my name is {firstname} and age is {firstage}\".format(firstage=age,firstname=name))"
   ]
  },
  {
   "cell_type": "code",
   "execution_count": 1,
   "id": "f8417531-2066-4cc7-b4b7-da668d64f307",
   "metadata": {},
   "outputs": [
    {
     "ename": "ZeroDivisionError",
     "evalue": "division by zero",
     "output_type": "error",
     "traceback": [
      "\u001b[0;31m---------------------------------------------------------------------------\u001b[0m",
      "\u001b[0;31mZeroDivisionError\u001b[0m                         Traceback (most recent call last)",
      "Cell \u001b[0;32mIn[1], line 1\u001b[0m\n\u001b[0;32m----> 1\u001b[0m \u001b[38;5;241;43m1\u001b[39;49m\u001b[38;5;241;43m/\u001b[39;49m\u001b[38;5;28;43;01mFalse\u001b[39;49;00m\n",
      "\u001b[0;31mZeroDivisionError\u001b[0m: division by zero"
     ]
    }
   ],
   "source": [
    "1/False"
   ]
  },
  {
   "cell_type": "code",
   "execution_count": 2,
   "id": "561a4a81-9228-4680-806b-323560698188",
   "metadata": {},
   "outputs": [
    {
     "data": {
      "text/plain": [
       "(-1+3j)"
      ]
     },
     "execution_count": 2,
     "metadata": {},
     "output_type": "execute_result"
    }
   ],
   "source": [
    "num1= 23\n",
    "\n",
    "num2= 44\n",
    "\n",
    "num2= 2+3j\n",
    "\n",
    "num1= num2.imag\n",
    "\n",
    "num2-num1"
   ]
  },
  {
   "cell_type": "code",
   "execution_count": 4,
   "id": "b8f520c7-cdb4-4251-a101-a3620a651896",
   "metadata": {},
   "outputs": [
    {
     "data": {
      "text/plain": [
       "True"
      ]
     },
     "execution_count": 4,
     "metadata": {},
     "output_type": "execute_result"
    }
   ],
   "source": [
    "\"pwskills\".upper().lower().isalnum()"
   ]
  },
  {
   "cell_type": "code",
   "execution_count": 5,
   "id": "47ab45df-6e33-4fdb-8bae-a13855cbf36c",
   "metadata": {},
   "outputs": [
    {
     "ename": "SyntaxError",
     "evalue": "invalid character '‘' (U+2018) (22824629.py, line 1)",
     "output_type": "error",
     "traceback": [
      "\u001b[0;36m  Cell \u001b[0;32mIn[5], line 1\u001b[0;36m\u001b[0m\n\u001b[0;31m    Name = ‘pwskills’\u001b[0m\n\u001b[0m           ^\u001b[0m\n\u001b[0;31mSyntaxError\u001b[0m\u001b[0;31m:\u001b[0m invalid character '‘' (U+2018)\n"
     ]
    }
   ],
   "source": [
    "Name = ‘pwskills’\n",
    "\n",
    "Name[0] = ‘P’"
   ]
  },
  {
   "cell_type": "code",
   "execution_count": 8,
   "id": "0620b555-3ebc-4ce7-83a7-d7e7f148ca5f",
   "metadata": {},
   "outputs": [],
   "source": [
    " Num_100 =1"
   ]
  },
  {
   "cell_type": "code",
   "execution_count": 10,
   "id": "99475cb1-fdd6-4781-bfc1-caa4cbce0046",
   "metadata": {},
   "outputs": [
    {
     "data": {
      "text/plain": [
       "1"
      ]
     },
     "execution_count": 10,
     "metadata": {},
     "output_type": "execute_result"
    }
   ],
   "source": [
    "Num_100\n"
   ]
  },
  {
   "cell_type": "code",
   "execution_count": 12,
   "id": "88a31e1b-ab2c-4e55-9ab2-cea12959da5a",
   "metadata": {},
   "outputs": [
    {
     "ename": "ValueError",
     "evalue": "invalid literal for int() with base 10: 'pwskills'",
     "output_type": "error",
     "traceback": [
      "\u001b[0;31m---------------------------------------------------------------------------\u001b[0m",
      "\u001b[0;31mValueError\u001b[0m                                Traceback (most recent call last)",
      "Cell \u001b[0;32mIn[12], line 1\u001b[0m\n\u001b[0;32m----> 1\u001b[0m \u001b[38;5;28;43mint\u001b[39;49m\u001b[43m(\u001b[49m\u001b[38;5;124;43m'\u001b[39;49m\u001b[38;5;124;43mpwskills\u001b[39;49m\u001b[38;5;124;43m'\u001b[39;49m\u001b[43m)\u001b[49m \u001b[38;5;241m+\u001b[39m \u001b[38;5;241m1\u001b[39m \n",
      "\u001b[0;31mValueError\u001b[0m: invalid literal for int() with base 10: 'pwskills'"
     ]
    }
   ],
   "source": [
    "int('pwskills') + 1 "
   ]
  },
  {
   "cell_type": "code",
   "execution_count": 13,
   "id": "7272d927-6fa3-41d0-9ddb-85e0c759df9c",
   "metadata": {},
   "outputs": [
    {
     "data": {
      "text/plain": [
       "'Pwskills1'"
      ]
     },
     "execution_count": 13,
     "metadata": {},
     "output_type": "execute_result"
    }
   ],
   "source": [
    "'Pwskills' + str(1)"
   ]
  },
  {
   "cell_type": "code",
   "execution_count": null,
   "id": "6a36ca1e-1204-4fc8-96fa-b42db6eaec7d",
   "metadata": {},
   "outputs": [],
   "source": []
  }
 ],
 "metadata": {
  "kernelspec": {
   "display_name": "Python 3 (ipykernel)",
   "language": "python",
   "name": "python3"
  },
  "language_info": {
   "codemirror_mode": {
    "name": "ipython",
    "version": 3
   },
   "file_extension": ".py",
   "mimetype": "text/x-python",
   "name": "python",
   "nbconvert_exporter": "python",
   "pygments_lexer": "ipython3",
   "version": "3.10.8"
  }
 },
 "nbformat": 4,
 "nbformat_minor": 5
}

{
 "cells": [
  {
   "cell_type": "markdown",
   "id": "10d916ba-064f-4de6-bfad-6316d4b175b2",
   "metadata": {},
   "source": [
    "## Q-1 what is multithreading in python? why is it used? Name the module used to handle threads in python.\n",
    "### The ability of program or an operating system to enable more than one user at a time without requring multiple copies of a program on the compter.\n",
    "### A process of running multiple threads simultaneously with a single process.\n",
    "### It is require to improve the performance of a program by using multiple cpus or cpu cores.\n",
    "### module name is threading "
   ]
  },
  {
   "cell_type": "markdown",
   "id": "d50c85bb-0f7a-4880-a2ec-2b302ee4d647",
   "metadata": {},
   "source": [
    "## Q-2 why threading module used? write the use of the following functions\n",
    "### 1. activeCount\n",
    "### 2. currentThread\n",
    "### 3. enumerate\n",
    "### Ans: threading module is used for creating, controlling and managing threads in python.\n",
    "### 1. activeCount : Return the number of Thread objects currently alive. The returned count is equal to the length of the list returned by enumerate().\n",
    "### 2. currentThread :Return the current Thread object, corresponding to the caller’s thread of control. If the caller’s thread of control was not created through the threading module, a dummy thread object with limited functionality is returned.\n",
    "### 3. enumerate() : enumerate() returns a list of all Thread objects currently alive. The list includes daemonic threads, dummy thread objects created by current_thread(), and the main thread. It excludes terminated threads and threads that have not yet been started."
   ]
  },
  {
   "cell_type": "markdown",
   "id": "3f0942a5-6183-49cb-b902-1ee31b13ca13",
   "metadata": {},
   "source": [
    "## Q-3 Explain the following functions.\n",
    "### run()\n",
    "### start()\n",
    "###  join()\n",
    "### isAlive()\n",
    "### ANS: run() − The run() method is the entry point for a thread.\n",
    "### start() − The start() method starts a thread by calling the run method. \n",
    "### join([time]) − The join() waits for threads to terminate. \n",
    "### isAlive() − The isAlive() method checks whether a thread is still executing."
   ]
  },
  {
   "cell_type": "markdown",
   "id": "53831843-202e-4de2-b8f3-754054a69e9c",
   "metadata": {},
   "source": [
    "## Q-4 write a python program to create two threads. Thread one must print the list of squares and thread two must print the list of cubes."
   ]
  },
  {
   "cell_type": "code",
   "execution_count": 1,
   "id": "3a2ceb7d-467c-4870-a6dc-67481dd0b643",
   "metadata": {},
   "outputs": [
    {
     "name": "stdout",
     "output_type": "stream",
     "text": [
      "Square: 100\n",
      "Cube: 1000\n",
      "Done!\n"
     ]
    }
   ],
   "source": [
    "#Ans\n",
    "import threading\n",
    "def print_cube(num):\n",
    "\t# function to print cube of given num\n",
    "\tprint(\"Cube: {}\" .format(num * num * num))\n",
    "\n",
    "\n",
    "def print_square(num):\n",
    "\t# function to print square of given num\n",
    "\tprint(\"Square: {}\" .format(num * num))\n",
    "\n",
    "\n",
    "if __name__ ==\"__main__\":\n",
    "\t# creating thread\n",
    "\tt1 = threading.Thread(target=print_square, args=(10,))\n",
    "\tt2 = threading.Thread(target=print_cube, args=(10,))\n",
    "\n",
    "\t# starting thread 1\n",
    "\tt1.start()\n",
    "\t# starting thread 2\n",
    "\tt2.start()\n",
    "\n",
    "\t# wait until thread 1 is completely executed\n",
    "\tt1.join()\n",
    "\t# wait until thread 2 is completely executed\n",
    "\tt2.join()\n",
    "\n",
    "\t# both threads completely executed\n",
    "\tprint(\"Done!\")\n"
   ]
  },
  {
   "cell_type": "markdown",
   "id": "54c330df-7e80-47da-8c71-d50de30d240f",
   "metadata": {},
   "source": [
    "### Q-5 State advantages and disadvantages of multithreading"
   ]
  },
  {
   "cell_type": "markdown",
   "id": "90caa41a-b4e5-47aa-8dd2-b6df6ccfa2a4",
   "metadata": {},
   "source": [
    "### Ans : This model provides more concurrency than the many-to-one model. It also allows another thread to run when a thread makes a blocking system call. It supports multiple threads to execute in parallel on microprocessors. Disadvantage of this model is that creating user thread requires the corresponding Kernel thread."
   ]
  },
  {
   "cell_type": "markdown",
   "id": "6ce449a8-45d2-468e-9e9a-c12fc9e19f2f",
   "metadata": {},
   "source": [
    "### Q-6 Explain deadlocks and race conditions."
   ]
  },
  {
   "cell_type": "markdown",
   "id": "98b261eb-b97a-490f-8314-5e4382485559",
   "metadata": {},
   "source": [
    "### Ans :A race condition occurs when two threads use the same variable at a given time. Deadlock exists when two threads seek one lock simultaneously. This situation will stop both threads from processing or executing the functions."
   ]
  },
  {
   "cell_type": "code",
   "execution_count": null,
   "id": "3d80cb08-a110-48f3-bb35-89c02b1ef9a0",
   "metadata": {},
   "outputs": [],
   "source": []
  }
 ],
 "metadata": {
  "kernelspec": {
   "display_name": "Python 3 (ipykernel)",
   "language": "python",
   "name": "python3"
  },
  "language_info": {
   "codemirror_mode": {
    "name": "ipython",
    "version": 3
   },
   "file_extension": ".py",
   "mimetype": "text/x-python",
   "name": "python",
   "nbconvert_exporter": "python",
   "pygments_lexer": "ipython3",
   "version": "3.10.8"
  }
 },
 "nbformat": 4,
 "nbformat_minor": 5
}

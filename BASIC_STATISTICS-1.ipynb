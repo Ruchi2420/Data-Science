{
 "cells": [
  {
   "cell_type": "markdown",
   "id": "a242c444-de9b-4525-8e3a-2a68a1d39a61",
   "metadata": {},
   "source": [
    "## Q1. What is Statistics?\n",
    "## Ans statistics, the science of collecting, analyzing, presenting, and interpreting data and doing decision making.\n",
    "\n"
   ]
  },
  {
   "cell_type": "markdown",
   "id": "5a25209a-1db3-497e-a29d-0e2da2d4db6d",
   "metadata": {},
   "source": [
    "## Q2. Define the different types of statistics and give an example of when each type might be used.\n",
    "## Ans. descriptive Statistics and inferential Statistics. In descriptive Statistics, the Data or Collection Data are described in a summarized way, whereas in inferential Statistics, we make use of it in order to explain the descriptive kind. Both of them are used on a large scale.it consist of using data to have conclusion.\n",
    "\n"
   ]
  },
  {
   "cell_type": "markdown",
   "id": "b9bc3374-26d9-4acc-8fa3-5b77343f6ae8",
   "metadata": {},
   "source": [
    "## Q3. What are the different types of data and how do they differ from each other? Provide an example of each type of data.\n",
    "### Ans 1.Nominal data 2.Ordinal data 3.Discrete data  4.Continuous data\n",
    "### 1.Nominal data - Qualitative ,fixed sets of categorey eg-- Gender (Male,Female)\n",
    "### 2.Ordinal data - Qualitative , Rank assign  eg-- movie review (good,bad,satisfactory)\n",
    "### 3.Discrete data - Quantitative, whole number + specific range eg-- Number of bank account\n",
    "### 4.Continuous data - Quantitative, any value points eg -- weight - 75.7\n",
    "\n"
   ]
  },
  {
   "cell_type": "markdown",
   "id": "77eb8838-b551-4a51-a278-d7a9a7250b7a",
   "metadata": {},
   "source": [
    "## Q4. Categorise the following datasets with respect to quantitative and qualitative data types:\n",
    "### (i) Grading in exam: A+, A, B+, B, C+, C, D, E -qualitative(ordinal)\n",
    "### (ii) Colour of mangoes: yellow, green, orange, red- qualitative(Nominal)\n",
    "### (iii) Height data of a class: [178.9, 179, 179.5, 176, 177.2, 178.3, 175.8,...] - Quantitative (continous)\n",
    "### (iv) Number of mangoes exported by a farm: [500, 600, 478, 672, ...]Quantitative (Discrete)"
   ]
  },
  {
   "cell_type": "markdown",
   "id": "5ace093f-be1e-4aad-8442-005e0777d430",
   "metadata": {},
   "source": [
    "## Q5. Explain the concept of levels of measurement and give an example of a variable for each level.\n",
    "### Ans Nominal scale data: You can categorize your data by labelling them in mutually exclusive groups, but there is no order between the categories. example : City of birth,Gender,Ethnicity,Car brands,Marital status\n",
    "### Ordinal scale data :can categorize and rank your data in an order, but you cannot say anything about the intervals between the rankings. Example-Top 5 Olympic medallists,Language ability (e.g., beginner, intermediate, fluent),Likert-type questions  (e.g., very dissatisfied to very satisfied)\n",
    "### Interval scale data: You can categorize, rank, and infer equal intervals between neighboring data points, but there is no true zero point. Example: Test scores (e.g., IQ or exams),Personality inventories,Temperature in Fahrenheit or Celsius\n",
    "### Ratio scale data: You can categorize, rank, and infer equal intervals between neighboring data points, and there is a true zero point. Example:Height,Age,Weight,Temperature in Kelvin\n"
   ]
  },
  {
   "cell_type": "markdown",
   "id": "8539520b-dcee-47de-89e7-8482ff7f8cbc",
   "metadata": {},
   "source": [
    "## Q6. Why is it important to understand the level of measurement when analyzing data? Provide an example to illustrate your answer.\n",
    "\n",
    "### Ans:The level at which you measure a variable determines how you can analyze your data.The different levels limit which descriptive statistics you can use to get an overall summary of your data, and which type of inferential statistics you can perform on your data to support or refute your hypothesis.In many cases, your variables can be measured at different levels, so you have to choose the level of measurement you will use before data collection begins.\n",
    "### You can measure the variable of income at an ordinal or ratio level.\n",
    "### Ordinal level: You create brackets of income ranges: $0–$19,999, $20,000–$39,999, and $40,000–$59,999. You ask participants to select the bracket that represents their annual income. The brackets are coded with numbers from 1–3.\n",
    "### Ratio level: You collect data on the exact annual incomes of your participants.\n",
    "### Participant\tIncome (ordinal level)A\tBracket 1,B\tBracket 2\t C\tBracket 3 ,Income (ratio level)$12,550 ,\t$39,700, $40,300\n",
    "\n",
    "### At a ratio level, you can see that the difference between A and B’s incomes is far greater than the difference between B and C’s incomes.At an ordinal level, however, you only know the income bracket for each participant, not their exact income. Since you cannot say exactly how much each income differs from the others in your data set, you can only order the income levels and group the participants.\n",
    "\n"
   ]
  },
  {
   "cell_type": "markdown",
   "id": "9a55068e-3cea-4d72-aedd-4b6197aa79ff",
   "metadata": {},
   "source": [
    "## Q7. How nominal data type is different from ordinal data type.\n",
    "### Ans : nominal data - fixed set of category ,no ranks and orders matters. eg- maritial status, blood group, eye colour.\n",
    "### ordinal data -  rank assign and order matters eg- positions in race, movie review (Good,bad, satisfactory)"
   ]
  },
  {
   "cell_type": "markdown",
   "id": "b2688bb2-64a8-4d77-85c0-bbed3deb5714",
   "metadata": {},
   "source": [
    "## Q8. Which type of plot can be used to display data in terms of range?\n",
    "### Ans - Histograms"
   ]
  },
  {
   "cell_type": "markdown",
   "id": "ffe530a1-35ff-420b-842c-267be4ee19e7",
   "metadata": {},
   "source": [
    "## Q9. Describe the difference between descriptive and inferential statistics. Give an example of each type of statistics and explain how they are used.\n",
    "### Ans- descriptive statistics - It consist of organising and sumarizing the data. type - Measure of Central Tendency(mean,meadian,mode) 2.Measure of Variability(range , std deviation,variance) used in histogram,bar chart,pie chart.\n",
    "### inferential statistics- It is used to explain the chance of occurrence of an event. 2.It attempts to reach the conclusion about the population. 3.It can be achieved by probability. \n",
    "\n",
    "\n"
   ]
  },
  {
   "cell_type": "markdown",
   "id": "5ef21829-35aa-485e-a10f-16f070dea13e",
   "metadata": {},
   "source": [
    "## Q10-What are some common measures of central tendency and variability used in statistics? Explain how each measure can be used to describe a dataset.\n",
    "\n",
    "### Ans: In statistics, measures of central tendency and variability are used to describe the characteristics of a dataset and understand its distribution. Here are some common measures of central tendency and variability:\n",
    "\n",
    "### Measures of Central Tendency:\n",
    "1. Mean: The mean is the sum of all values in a dataset divided by the total number of values. It represents the average value of the dataset. The mean is useful for describing the typical value of a dataset and is sensitive to extreme values.\n",
    "\n",
    "2. Median: The median is the middle value when the dataset is arranged in ascending or descending order. If the dataset has an even number of values, the median is the average of the two middle values. The median is often used when there are outliers in the data because it is less affected by extreme values.\n",
    "\n",
    "3. Mode: The mode is the most frequently occurring value in a dataset. It can be used to identify the most common value or category in the data. The mode is especially useful for categorical or discrete data.\n",
    "\n",
    "### Measures of Variability:\n",
    "1. Range: The range is the difference between the maximum and minimum values in a dataset. It provides a simple measure of how spread out the data is. However, the range is sensitive to outliers and does not provide detailed information about the distribution between the extreme values.\n",
    "\n",
    "2. Variance: The variance measures the average squared deviation from the mean. It quantifies the spread of the data points around the mean. A larger variance indicates a wider spread, while a smaller variance indicates a more clustered distribution. However, the variance is sensitive to outliers.\n",
    "\n",
    "3. Standard Deviation: The standard deviation is the square root of the variance. It provides a measure of the average deviation of data points from the mean. The standard deviation is commonly used because it is expressed in the same units as the original data, making it easier to interpret.\n",
    "\n",
    "##### These measures of central tendency and variability can be used together to gain a comprehensive understanding of a dataset. For example, the mean and standard deviation can give insights into the average value and spread of numerical data, while the median and range can provide information about the central and extreme values, respectively. The mode can be used to identify the most common category or value in categorical data. By examining these measures, statisticians can summarize and compare datasets, identify patterns, and make informed decisions based on the characteristics of the data."
   ]
  },
  {
   "cell_type": "code",
   "execution_count": null,
   "id": "1cc1cdc6-afa9-4ffe-a8c1-ef69036f1e3f",
   "metadata": {},
   "outputs": [],
   "source": []
  }
 ],
 "metadata": {
  "kernelspec": {
   "display_name": "Python 3 (ipykernel)",
   "language": "python",
   "name": "python3"
  },
  "language_info": {
   "codemirror_mode": {
    "name": "ipython",
    "version": 3
   },
   "file_extension": ".py",
   "mimetype": "text/x-python",
   "name": "python",
   "nbconvert_exporter": "python",
   "pygments_lexer": "ipython3",
   "version": "3.10.8"
  }
 },
 "nbformat": 4,
 "nbformat_minor": 5
}
